{
 "cells": [
  {
   "cell_type": "markdown",
   "metadata": {},
   "source": [
    "# Depth-first search\n",
    "---\n",
    "**Depth-first search** (BFS) is an algorithm for traversing or searching tree or graph data structures. For trees, the algorithm starts at the root node, for graphs it starts at an arbitrary node, sometimes referred to as a 'search key'. It then goes down as far as it can down a branch or a path, until it reaches a leaf node. It then backtracks and explores a different branch."
   ]
  },
  {
   "cell_type": "markdown",
   "metadata": {},
   "source": [
    "**Contents**\n",
    "- [Implementation](#implementation)\n",
    "- [Practical applications](#applications)\n",
    "- [Resources](#resources)"
   ]
  },
  {
   "cell_type": "markdown",
   "metadata": {},
   "source": [
    "## Implementation <a id='implementation'></a>"
   ]
  },
  {
   "cell_type": "code",
   "execution_count": null,
   "metadata": {},
   "outputs": [],
   "source": []
  },
  {
   "cell_type": "code",
   "execution_count": null,
   "metadata": {},
   "outputs": [],
   "source": []
  },
  {
   "cell_type": "code",
   "execution_count": null,
   "metadata": {},
   "outputs": [],
   "source": []
  },
  {
   "cell_type": "code",
   "execution_count": null,
   "metadata": {},
   "outputs": [],
   "source": []
  },
  {
   "cell_type": "markdown",
   "metadata": {},
   "source": [
    "## Practical applications <a id='applications'></a>\n",
    "  \n",
    "- "
   ]
  },
  {
   "cell_type": "markdown",
   "metadata": {},
   "source": [
    "## Resources <a id='resources'></a>\n",
    "- [Wikipedia article on depth-first search](https://en.wikipedia.org/wiki/Depth-first_search)\n",
    "- [Brilliant.org depth-first search](https://brilliant.org/wiki/depth-first-search-dfs/#:~:text=Depth%2Dfirst%20search%20is%20used,if%20a%20graph%20is%20bipartite.)\n",
    "- [Paper *Designing a Heuristic Cross-Architecture Combination for Breadth-First Search*](http://www.cs.toronto.edu/~mmehride/papers/ICPP14.pdf)\n",
    "- [GeeksforGeeks applications of depth-first search](https://www.geeksforgeeks.org/applications-of-depth-first-search/)"
   ]
  },
  {
   "cell_type": "code",
   "execution_count": null,
   "metadata": {},
   "outputs": [],
   "source": []
  }
 ],
 "metadata": {
  "kernelspec": {
   "display_name": "Python 3",
   "language": "python",
   "name": "python3"
  },
  "language_info": {
   "codemirror_mode": {
    "name": "ipython",
    "version": 3
   },
   "file_extension": ".py",
   "mimetype": "text/x-python",
   "name": "python",
   "nbconvert_exporter": "python",
   "pygments_lexer": "ipython3",
   "version": "3.7.7"
  }
 },
 "nbformat": 4,
 "nbformat_minor": 4
}
