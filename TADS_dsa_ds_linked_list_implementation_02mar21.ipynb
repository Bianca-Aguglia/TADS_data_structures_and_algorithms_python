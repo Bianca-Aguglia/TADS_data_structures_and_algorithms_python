{
 "cells": [
  {
   "cell_type": "markdown",
   "metadata": {},
   "source": [
    "# Linked List - Python implementation\n",
    "---\n",
    "**Goal:** implement a linked list in Python"
   ]
  },
  {
   "cell_type": "code",
   "execution_count": 1,
   "metadata": {},
   "outputs": [],
   "source": [
    "class Node:\n",
    "    def __init__(self, value):\n",
    "        self.value = value\n",
    "        self.next = None\n",
    "        \n",
    "    def __repr__(self):\n",
    "        return f'Node({self.value})'\n",
    "        \n",
    "    def __str__(self):\n",
    "        try: \n",
    "            return f'Node(value: {self.value}, next: {self.next.value})'\n",
    "        except:\n",
    "            return f'Node(value: {self.value}, next: {self.next})'\n",
    "        "
   ]
  },
  {
   "cell_type": "code",
   "execution_count": 8,
   "metadata": {},
   "outputs": [],
   "source": [
    "class LinkedList:\n",
    "    def __init__(self, values = None):\n",
    "        if isinstance(values, list):\n",
    "            self.head = Node(values[0])\n",
    "            for value in values[1:]:\n",
    "                self.append(value)\n",
    "        elif values:\n",
    "            self.head = Node(values)\n",
    "        else:\n",
    "            self.head = None\n",
    "            \n",
    "    def __iter__(self):\n",
    "        node = self.head\n",
    "        while node:\n",
    "            try:\n",
    "                yield (node.value, node.next.value)\n",
    "            except:\n",
    "                yield (node.value, node.next)\n",
    "            node = node.next\n",
    "            \n",
    "#     def __str__(self):\n",
    "#         nodes = []\n",
    "#         node = self.head\n",
    "#         while node.next:\n",
    "#             nodes.append(f'{node.value:>3}|{str(node.next.value):3}')\n",
    "#             node = node.next\n",
    "#         # append the last node\n",
    "#         nodes.append(f'{node.value:>3}|None')\n",
    "#         return ' -> '.join(nodes)\n",
    "\n",
    "    def __str__(self):\n",
    "        nodes = []\n",
    "        node = self.head\n",
    "        while node:\n",
    "            nodes.append(str(node.value))\n",
    "            node = node.next\n",
    "        nodes.append('None')\n",
    "        return ' -> '.join(nodes)\n",
    "    \n",
    "    def __repr__(self):\n",
    "        nodes = []\n",
    "        node = self.head\n",
    "        while node:\n",
    "            nodes.append(str(node.value))\n",
    "            node = node.next\n",
    "        nodes.append('None')\n",
    "        return ' -> '.join(nodes)\n",
    "    \n",
    "    def append(self, value):\n",
    "        if not self.head:\n",
    "            self.head = Node(value)\n",
    "            return\n",
    "        node = self.head\n",
    "        while node.next:\n",
    "            node = node.next\n",
    "        node.next = Node(value)\n",
    "        \n",
    "    def prepend(self, value):\n",
    "        new_node = Node(value)\n",
    "        new_node.next = self.head\n",
    "        self.head = new_node\n",
    "        \n",
    "    def insert(self, new_node, existing_node):\n",
    "        node = self.head\n",
    "        new_node = Node(new_node)\n",
    "        while node.next:\n",
    "            if node.next.value == existing_node:\n",
    "                new_node.next = node.next\n",
    "                node.next = new_node\n",
    "                return f'node {new_node.value} inserted'\n",
    "            node = node.next\n",
    "        return f'node {existing_node} is not in the linked list'\n",
    "                \n",
    "    def remove(self, value):\n",
    "        remove_count = 0\n",
    "        while self.head.value == value and self.head:\n",
    "            remove_count += 1\n",
    "            self.head = self.head.next\n",
    "            if not self.head:\n",
    "                return f'node {value} was removed {remove_count} times'\n",
    "            \n",
    "        prev_node = self.head\n",
    "        cur_node = prev_node.next\n",
    "        \n",
    "        while cur_node:\n",
    "            if cur_node.value == value:\n",
    "                prev_node.next = cur_node.next\n",
    "                cur_node = None\n",
    "                remove_count += 1\n",
    "            else:\n",
    "                prev_node = cur_node\n",
    "            cur_node = prev_node.next\n",
    "        return f'node {value} was removed {remove_count} times'\n",
    "    \n",
    "    def reverse(self):\n",
    "        prev = None\n",
    "        cur_node = self.head\n",
    "        while cur_node.next:\n",
    "            cur_node.next, cur_node, prev = prev, cur_node.next, cur_node\n",
    "        self.head = cur_node\n",
    "        cur_node.next = prev\n",
    "                \n",
    "        \n",
    "                \n",
    "        "
   ]
  },
  {
   "cell_type": "code",
   "execution_count": 12,
   "metadata": {},
   "outputs": [
    {
     "data": {
      "text/plain": [
       "7 -> 0 -> 9 -> None"
      ]
     },
     "execution_count": 12,
     "metadata": {},
     "output_type": "execute_result"
    }
   ],
   "source": [
    "l = LinkedList(list('709'))\n",
    "l"
   ]
  },
  {
   "cell_type": "code",
   "execution_count": 13,
   "metadata": {},
   "outputs": [
    {
     "data": {
      "text/plain": [
       "9 -> 0 -> 7 -> None"
      ]
     },
     "execution_count": 13,
     "metadata": {},
     "output_type": "execute_result"
    }
   ],
   "source": [
    "l.reverse()\n",
    "l"
   ]
  },
  {
   "cell_type": "code",
   "execution_count": null,
   "metadata": {},
   "outputs": [],
   "source": []
  },
  {
   "cell_type": "code",
   "execution_count": null,
   "metadata": {},
   "outputs": [],
   "source": []
  },
  {
   "cell_type": "code",
   "execution_count": null,
   "metadata": {},
   "outputs": [],
   "source": []
  },
  {
   "cell_type": "code",
   "execution_count": 193,
   "metadata": {},
   "outputs": [],
   "source": [
    "l = LinkedList(1)"
   ]
  },
  {
   "cell_type": "code",
   "execution_count": 194,
   "metadata": {},
   "outputs": [],
   "source": [
    "for i in [int(x) for x in list('32982540000')]:\n",
    "    l.append(i)"
   ]
  },
  {
   "cell_type": "code",
   "execution_count": 195,
   "metadata": {},
   "outputs": [
    {
     "name": "stdout",
     "output_type": "stream",
     "text": [
      "1 -> 3 -> 2 -> 9 -> 8 -> 2 -> 5 -> 4 -> 0 -> 0 -> 0 -> 0 -> None\n"
     ]
    }
   ],
   "source": [
    "print(l)"
   ]
  },
  {
   "cell_type": "code",
   "execution_count": 196,
   "metadata": {},
   "outputs": [
    {
     "data": {
      "text/plain": [
       "'node 1 inserted'"
      ]
     },
     "execution_count": 196,
     "metadata": {},
     "output_type": "execute_result"
    }
   ],
   "source": [
    "l.insert(7,3)\n",
    "l.insert(1,0)"
   ]
  },
  {
   "cell_type": "code",
   "execution_count": 197,
   "metadata": {},
   "outputs": [
    {
     "name": "stdout",
     "output_type": "stream",
     "text": [
      "1 -> 7 -> 3 -> 2 -> 9 -> 8 -> 2 -> 5 -> 4 -> 1 -> 0 -> 0 -> 0 -> 0 -> None\n"
     ]
    }
   ],
   "source": [
    "print(l)"
   ]
  },
  {
   "cell_type": "code",
   "execution_count": 198,
   "metadata": {},
   "outputs": [
    {
     "data": {
      "text/plain": [
       "'node 0 was removed 4 times'"
      ]
     },
     "execution_count": 198,
     "metadata": {},
     "output_type": "execute_result"
    }
   ],
   "source": [
    "l.remove(0)"
   ]
  },
  {
   "cell_type": "code",
   "execution_count": 199,
   "metadata": {},
   "outputs": [
    {
     "name": "stdout",
     "output_type": "stream",
     "text": [
      "1 -> 7 -> 3 -> 2 -> 9 -> 8 -> 2 -> 5 -> 4 -> 1 -> None\n"
     ]
    }
   ],
   "source": [
    "print(l)"
   ]
  },
  {
   "cell_type": "code",
   "execution_count": 200,
   "metadata": {},
   "outputs": [
    {
     "data": {
      "text/plain": [
       "'node 1 was removed 2 times'"
      ]
     },
     "execution_count": 200,
     "metadata": {},
     "output_type": "execute_result"
    }
   ],
   "source": [
    "l.remove(1)"
   ]
  },
  {
   "cell_type": "code",
   "execution_count": 201,
   "metadata": {},
   "outputs": [
    {
     "name": "stdout",
     "output_type": "stream",
     "text": [
      "7 -> 3 -> 2 -> 9 -> 8 -> 2 -> 5 -> 4 -> None\n"
     ]
    }
   ],
   "source": [
    "print(l)"
   ]
  },
  {
   "cell_type": "code",
   "execution_count": 202,
   "metadata": {},
   "outputs": [
    {
     "data": {
      "text/plain": [
       "Node(7)"
      ]
     },
     "execution_count": 202,
     "metadata": {},
     "output_type": "execute_result"
    }
   ],
   "source": [
    "l.head"
   ]
  },
  {
   "cell_type": "code",
   "execution_count": 203,
   "metadata": {},
   "outputs": [],
   "source": [
    "l1 = LinkedList(1)\n",
    "for i in range(10):\n",
    "    l1.append(1)"
   ]
  },
  {
   "cell_type": "code",
   "execution_count": 204,
   "metadata": {},
   "outputs": [
    {
     "name": "stdout",
     "output_type": "stream",
     "text": [
      "1 -> 1 -> 1 -> 1 -> 1 -> 1 -> 1 -> 1 -> 1 -> 1 -> 1 -> None\n"
     ]
    }
   ],
   "source": [
    "print(l1)"
   ]
  },
  {
   "cell_type": "code",
   "execution_count": 205,
   "metadata": {},
   "outputs": [
    {
     "data": {
      "text/plain": [
       "'node 1 was removed 11 times'"
      ]
     },
     "execution_count": 205,
     "metadata": {},
     "output_type": "execute_result"
    }
   ],
   "source": [
    "l1.remove(1)"
   ]
  },
  {
   "cell_type": "code",
   "execution_count": 206,
   "metadata": {},
   "outputs": [
    {
     "name": "stdout",
     "output_type": "stream",
     "text": [
      "None\n"
     ]
    }
   ],
   "source": [
    "print(l1)"
   ]
  },
  {
   "cell_type": "code",
   "execution_count": 207,
   "metadata": {},
   "outputs": [],
   "source": [
    "l1.head"
   ]
  },
  {
   "cell_type": "code",
   "execution_count": 214,
   "metadata": {},
   "outputs": [],
   "source": [
    "l2 = LinkedList([1])"
   ]
  },
  {
   "cell_type": "code",
   "execution_count": 215,
   "metadata": {},
   "outputs": [
    {
     "name": "stdout",
     "output_type": "stream",
     "text": [
      "1 -> None\n"
     ]
    }
   ],
   "source": [
    "print(l2)"
   ]
  },
  {
   "cell_type": "code",
   "execution_count": 216,
   "metadata": {},
   "outputs": [
    {
     "data": {
      "text/plain": [
       "Node(1)"
      ]
     },
     "execution_count": 216,
     "metadata": {},
     "output_type": "execute_result"
    }
   ],
   "source": [
    "l2.head"
   ]
  },
  {
   "cell_type": "code",
   "execution_count": 217,
   "metadata": {},
   "outputs": [
    {
     "data": {
      "text/plain": [
       "'node 1 was removed 1 times'"
      ]
     },
     "execution_count": 217,
     "metadata": {},
     "output_type": "execute_result"
    }
   ],
   "source": [
    "l2.remove(1)"
   ]
  },
  {
   "cell_type": "code",
   "execution_count": 218,
   "metadata": {},
   "outputs": [
    {
     "name": "stdout",
     "output_type": "stream",
     "text": [
      "None\n"
     ]
    }
   ],
   "source": [
    "print(l2)"
   ]
  },
  {
   "cell_type": "code",
   "execution_count": 219,
   "metadata": {},
   "outputs": [],
   "source": [
    "l2.head"
   ]
  },
  {
   "cell_type": "code",
   "execution_count": null,
   "metadata": {},
   "outputs": [],
   "source": []
  }
 ],
 "metadata": {
  "kernelspec": {
   "display_name": "Python 3",
   "language": "python",
   "name": "python3"
  },
  "language_info": {
   "codemirror_mode": {
    "name": "ipython",
    "version": 3
   },
   "file_extension": ".py",
   "mimetype": "text/x-python",
   "name": "python",
   "nbconvert_exporter": "python",
   "pygments_lexer": "ipython3",
   "version": "3.7.7"
  }
 },
 "nbformat": 4,
 "nbformat_minor": 4
}
