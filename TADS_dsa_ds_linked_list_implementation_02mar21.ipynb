{
 "cells": [
  {
   "cell_type": "markdown",
   "metadata": {},
   "source": [
    "# Linked List - Python implementation\n",
    "---\n",
    "**Goal:** implement a linked list in Python"
   ]
  },
  {
   "cell_type": "code",
   "execution_count": 1,
   "metadata": {},
   "outputs": [],
   "source": [
    "class Node:\n",
    "    def __init__(self, value):\n",
    "        self.value = value\n",
    "        self.next = None\n",
    "        \n",
    "    def __repr__(self):\n",
    "        return f'Node({self.value})'\n",
    "        \n",
    "    def __str__(self):\n",
    "        try: \n",
    "            return f'Node(value: {self.value}, next: {self.next.value})'\n",
    "        except:\n",
    "            return f'Node(value: {self.value}, next: {self.next})'\n",
    "        "
   ]
  },
  {
   "cell_type": "code",
   "execution_count": 43,
   "metadata": {},
   "outputs": [],
   "source": [
    "class LinkedList:\n",
    "    def __init__(self, value = None):\n",
    "        if value:\n",
    "            self.head = Node(value)\n",
    "        else:\n",
    "            self.head = None\n",
    "            \n",
    "    def __iter__(self):\n",
    "        node = self.head\n",
    "        while node:\n",
    "            try:\n",
    "                yield (node.value, node.next.value)\n",
    "            except:\n",
    "                yield (node.value, node.next)\n",
    "            node = node.next\n",
    "            \n",
    "#     def __str__(self):\n",
    "#         nodes = []\n",
    "#         node = self.head\n",
    "#         while node.next:\n",
    "#             nodes.append(f'{node.value:>3}|{str(node.next.value):3}')\n",
    "#             node = node.next\n",
    "#         # append the last node\n",
    "#         nodes.append(f'{node.value:>3}|None')\n",
    "#         return ' -> '.join(nodes)\n",
    "\n",
    "    def __str__(self):\n",
    "        nodes = []\n",
    "        node = self.head\n",
    "        while node:\n",
    "            nodes.append(str(node.value))\n",
    "            node = node.next\n",
    "        nodes.append('None')\n",
    "        return ' -> '.join(nodes)\n",
    "    \n",
    "    def append(self, value):\n",
    "        node = self.head\n",
    "        while node.next:\n",
    "            node = node.next\n",
    "        node.next = Node(value)\n",
    "        \n",
    "    def prepend(self, value):\n",
    "        new_node = Node(value)\n",
    "        new_node.next = self.head\n",
    "        self.head = new_node\n",
    "        \n",
    "    def insert(self, new_node, existing_node):\n",
    "        node = self.head\n",
    "        new_node = Node(new_node)\n",
    "        while node.next:\n",
    "            if node.next.value == existing_node:\n",
    "                new_node.next = node.next\n",
    "                node.next = new_node\n",
    "                return f'node {new_node.value} inserted'\n",
    "            node = node.next\n",
    "        return f'node {existing_node} is not in the linked list'\n",
    "                \n",
    "    def remove(self, node):\n",
    "        cur_node = self.head\n",
    "        # if node to be removed is self.head\n",
    "        if cur_node.value == node:\n",
    "            self.head = cur_node.next\n",
    "            return\n",
    "        while cur_node.next:\n",
    "            if cur_node.next.value == node:\n",
    "                cur_node.next.next = None\n",
    "                cur_node.next = cur_node.next.next\n",
    "                return f'node {node} deleted'\n",
    "            cur_node = cur_node.next\n",
    "        return f'node {node} is not in the linked list'\n",
    "        \n",
    "                \n",
    "        "
   ]
  },
  {
   "cell_type": "code",
   "execution_count": 44,
   "metadata": {},
   "outputs": [],
   "source": [
    "l = LinkedList(1)"
   ]
  },
  {
   "cell_type": "code",
   "execution_count": 45,
   "metadata": {},
   "outputs": [],
   "source": [
    "for i in [int(x) for x in list('32982540')]:\n",
    "    l.append(i)"
   ]
  },
  {
   "cell_type": "code",
   "execution_count": 46,
   "metadata": {},
   "outputs": [
    {
     "name": "stdout",
     "output_type": "stream",
     "text": [
      "1 -> 3 -> 2 -> 9 -> 8 -> 2 -> 5 -> 4 -> 0 -> None\n"
     ]
    }
   ],
   "source": [
    "print(l)"
   ]
  },
  {
   "cell_type": "code",
   "execution_count": 47,
   "metadata": {},
   "outputs": [
    {
     "data": {
      "text/plain": [
       "'node 1 inserted'"
      ]
     },
     "execution_count": 47,
     "metadata": {},
     "output_type": "execute_result"
    }
   ],
   "source": [
    "l.insert(7,3)\n",
    "l.insert(1,0)"
   ]
  },
  {
   "cell_type": "code",
   "execution_count": 48,
   "metadata": {},
   "outputs": [
    {
     "name": "stdout",
     "output_type": "stream",
     "text": [
      "1 -> 7 -> 3 -> 2 -> 9 -> 8 -> 2 -> 5 -> 4 -> 1 -> 0 -> None\n"
     ]
    }
   ],
   "source": [
    "print(l)"
   ]
  },
  {
   "cell_type": "code",
   "execution_count": 49,
   "metadata": {},
   "outputs": [
    {
     "data": {
      "text/plain": [
       "'node 0 deleted'"
      ]
     },
     "execution_count": 49,
     "metadata": {},
     "output_type": "execute_result"
    }
   ],
   "source": [
    "l.remove(0)"
   ]
  },
  {
   "cell_type": "code",
   "execution_count": 50,
   "metadata": {},
   "outputs": [
    {
     "name": "stdout",
     "output_type": "stream",
     "text": [
      "1 -> 7 -> 3 -> 2 -> 9 -> 8 -> 2 -> 5 -> 4 -> 1 -> None\n"
     ]
    }
   ],
   "source": [
    "print(l)"
   ]
  },
  {
   "cell_type": "code",
   "execution_count": 53,
   "metadata": {},
   "outputs": [
    {
     "data": {
      "text/plain": [
       "'node 1 deleted'"
      ]
     },
     "execution_count": 53,
     "metadata": {},
     "output_type": "execute_result"
    }
   ],
   "source": [
    "l.remove(1)"
   ]
  },
  {
   "cell_type": "code",
   "execution_count": 54,
   "metadata": {},
   "outputs": [
    {
     "name": "stdout",
     "output_type": "stream",
     "text": [
      "7 -> 3 -> 2 -> 9 -> 8 -> 2 -> 5 -> 4 -> None\n"
     ]
    }
   ],
   "source": [
    "print(l)"
   ]
  },
  {
   "cell_type": "code",
   "execution_count": 55,
   "metadata": {},
   "outputs": [],
   "source": [
    "!touch linked_list.py"
   ]
  },
  {
   "cell_type": "code",
   "execution_count": null,
   "metadata": {},
   "outputs": [],
   "source": []
  }
 ],
 "metadata": {
  "kernelspec": {
   "display_name": "Python 3",
   "language": "python",
   "name": "python3"
  },
  "language_info": {
   "codemirror_mode": {
    "name": "ipython",
    "version": 3
   },
   "file_extension": ".py",
   "mimetype": "text/x-python",
   "name": "python",
   "nbconvert_exporter": "python",
   "pygments_lexer": "ipython3",
   "version": "3.7.7"
  }
 },
 "nbformat": 4,
 "nbformat_minor": 4
}
