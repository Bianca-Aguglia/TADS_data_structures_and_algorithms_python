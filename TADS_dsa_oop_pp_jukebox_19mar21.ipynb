{
 "cells": [
  {
   "cell_type": "markdown",
   "metadata": {},
   "source": [
    "# Jukebox\n",
    "---\n",
    "**Goal:** design a jukebox using OOP."
   ]
  },
  {
   "cell_type": "markdown",
   "metadata": {},
   "source": [
    "### Questions <small>(assumed answers are between parantheses)</small>\n",
    "---\n",
    "- is it a personal jukebox (i.e. no money needed) or a public one? <small>(public)</small>\n",
    "- can a client select a single song or can they build a playlist? <small>(playlist)</small>\n",
    "- is there a limit to the length of the playlist? (max_length = 10)\n",
    "- can a song be added to a playlist more than once? (max_repeat = 2)\n",
    "- can a client search by any of the following: album, artist, song? (yes)\n",
    "- does the jukebox keep track of its revenue? (yes)\n",
    "- can the jukebox give change? (yes)"
   ]
  },
  {
   "cell_type": "code",
   "execution_count": 6,
   "metadata": {},
   "outputs": [],
   "source": [
    "class Jukebox:\n",
    "    def __init__(self, albums = {}, song_price = 3):\n",
    "        self.albums = albums\n",
    "        self.revenue = 0\n",
    "        self.credits = 0\n",
    "        self.song_price = song_price\n",
    "        self.queue = []\n",
    "        self.playlist_max_length = 10\n",
    "        self.song_max_repeat = 2\n",
    "        self.change_due = 0\n",
    "        \n",
    "    def __repr__(self):\n",
    "        pass\n",
    "    \n",
    "    def __str__(self):\n",
    "        pass\n",
    "    \n",
    "    def add_album(self, album):\n",
    "        pass\n",
    "    \n",
    "    def insert_money(self, amount):\n",
    "        self.credits = amount\n",
    "        self.revenue += amount\n",
    "        print(f'You can select up to {self.credits // self.song_price} song(s)')\n",
    "    \n",
    "    def add_credits(self):\n",
    "        pass\n",
    "    \n",
    "    def make_playlist(self):\n",
    "        # ensure there are enough credits for at least one song\n",
    "        if self.credits < self.song_price:\n",
    "            needed_amount = self.song_price - self.credit\n",
    "            return f'Please insert {needed_amount} dollar{\"s\" * min(1, needed_amount -1)}'\n",
    "        \n",
    "        is_done_choosing = False\n",
    "        is_playlist_full = False\n",
    "        \n",
    "        while self.credits >= self.song_price and not is_done_choosing and not is_playlist_full:\n",
    "            song = self.get_song()\n",
    "            while self.is_song_in_playlist_maximum_number_allowed(song):\n",
    "                print('This song is already in your playlist {self.song_max_repeat} times. Please choose a different song.')\n",
    "                song = self.get_song()\n",
    "            \n",
    "            self.queue.append(song)\n",
    "            is_playlist_full = len(self.gueue) == self.playlist_max_length\n",
    "            self.credit -= self.song_price\n",
    "            \n",
    "    def is_song_in_playlist_maximum_number_allowed(self, song):\n",
    "        count = 0\n",
    "        for queued in self.queue:\n",
    "            if song == queued:\n",
    "                count += 1\n",
    "        return count == self.song_max_repeat\n",
    "            \n",
    "    \n",
    "    def play(self):\n",
    "        pass\n",
    "    \n",
    "    def stop_playlist(self):\n",
    "        '''\n",
    "        Remove the remaining songs in an existing playlist and refund corresponding money to client.\n",
    "        '''"
   ]
  },
  {
   "cell_type": "code",
   "execution_count": 4,
   "metadata": {},
   "outputs": [
    {
     "name": "stdout",
     "output_type": "stream",
     "text": [
      "missing dollar \n",
      "missing dollar s\n",
      "missing dollar s\n"
     ]
    }
   ],
   "source": [
    "for i in range(1, 4):\n",
    "    print('missing dollar', 's'*min(1,(i-1)))"
   ]
  },
  {
   "cell_type": "code",
   "execution_count": null,
   "metadata": {},
   "outputs": [],
   "source": []
  }
 ],
 "metadata": {
  "kernelspec": {
   "display_name": "Python 3",
   "language": "python",
   "name": "python3"
  },
  "language_info": {
   "codemirror_mode": {
    "name": "ipython",
    "version": 3
   },
   "file_extension": ".py",
   "mimetype": "text/x-python",
   "name": "python",
   "nbconvert_exporter": "python",
   "pygments_lexer": "ipython3",
   "version": "3.7.7"
  }
 },
 "nbformat": 4,
 "nbformat_minor": 4
}
