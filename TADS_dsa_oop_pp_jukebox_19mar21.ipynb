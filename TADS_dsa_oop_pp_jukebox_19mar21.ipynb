{
 "cells": [
  {
   "cell_type": "markdown",
   "metadata": {},
   "source": [
    "# Jukebox\n",
    "---\n",
    "**Goal:** design a jukebox using OOP."
   ]
  },
  {
   "cell_type": "markdown",
   "metadata": {},
   "source": [
    "### Questions <small>(assumed answers are between parantheses)</small>\n",
    "---\n",
    "- is it a personal jukebox (i.e. no money needed) or a public one? <small>(public)</small>\n",
    "- can a client select a single song or can they build a playlist? <small>(playlist)</small>\n",
    "- is there a limit to the length of the playlist? <small>(max_length = 10)</small>\n",
    "- can a song be added to a playlist more than once? <small>(max_repeat = 2)</small>\n",
    "- can a client search by any of the following: album, artist, song? <small>(yes)</small>\n",
    "- does the jukebox keep track of its revenue? <small>(yes)</small>\n",
    "- can the jukebox give change? <small>(yes)</small>"
   ]
  },
  {
   "cell_type": "code",
   "execution_count": 1,
   "metadata": {},
   "outputs": [],
   "source": [
    "import time"
   ]
  },
  {
   "cell_type": "code",
   "execution_count": 2,
   "metadata": {},
   "outputs": [],
   "source": [
    "class Jukebox:\n",
    "    def __init__(self, all_songs = [], song_price = 3):\n",
    "        self.all_songs = all_songs\n",
    "        self.revenue = 0\n",
    "        self.credits = 0\n",
    "        self.song_price = song_price\n",
    "        self.queue = []\n",
    "        self.playlist_max_length = 10\n",
    "        self.song_max_repeat = 2\n",
    "        self.change_due = 0\n",
    "        \n",
    "    def __repr__(self):\n",
    "        return f'Jukebox({self.all_songs!r})'\n",
    "    \n",
    "    def __str__(self):\n",
    "        jukebox = 'This jukebox contains the following songs: \\n'\n",
    "        songs = [song +'\\n' for song in self.all_songs]\n",
    "        songs = ''.join(songs)\n",
    "        return jukebox + songs.strip()\n",
    "    \n",
    "    def add_album(self, album):\n",
    "        pass\n",
    "    \n",
    "    def insert_money(self, amount):\n",
    "        while not self.is_enough_for_song(amount):\n",
    "            needed_amount = self.song_price - amount\n",
    "            print(f'A song is {self.song_price} dollars')\n",
    "            print(f'Please insert at least {needed_amount} dollar{\"s\" * min(1, needed_amount -1)}')\n",
    "            amount += int(input())\n",
    "        self.add_credits(amount)\n",
    "        return f'You can select up to {self.credits // self.song_price} song(s)'\n",
    "    \n",
    "    def refund_money(self, amount):\n",
    "        self.credits -= amount\n",
    "        self.revenue -= amount\n",
    "        \n",
    "    def is_enough_for_song(self, amount):\n",
    "        return amount >= self.song_price\n",
    "    \n",
    "    def add_credits(self, amount):\n",
    "        self.credits = amount\n",
    "        self.revenue += amount\n",
    "    \n",
    "    def make_playlist(self):\n",
    "        has_credits_left = self.is_enough_for_song(self.credits)\n",
    "        is_done_choosing = False\n",
    "        is_playlist_full = False\n",
    "        \n",
    "        while has_credits_left and not is_done_choosing and not is_playlist_full:\n",
    "            song = self.get_song()\n",
    "            while self.is_song_in_playlist_max_repeats_allowed(song):\n",
    "                print('This song is already in your playlist {self.song_max_repeat} times. Please choose a different song.')\n",
    "                song = self.get_song()\n",
    "            \n",
    "            self.queue.append(song)\n",
    "            is_playlist_full = len(self.queue) == self.playlist_max_length\n",
    "            self.credits -= self.song_price\n",
    "            has_credits_left = self.is_enough_for_song(self.credits)\n",
    "            if not is_playlist_full and has_credits_left:\n",
    "                is_done_choosing = input('Is your playlist complete? (yes or no)')\n",
    "                is_done_choosing = True if is_done_choosing == 'yes' else False\n",
    "            \n",
    "        if self.credits:\n",
    "            print('Refunding ', self.credits)\n",
    "            self.refund_money(self.credits)\n",
    "            \n",
    "        self.play()\n",
    "            \n",
    "    def is_song_in_playlist_max_repeats_allowed(self, song):\n",
    "        count = 0\n",
    "        for queued in self.queue:\n",
    "            if song == queued:\n",
    "                count += 1\n",
    "        return count == self.song_max_repeat\n",
    "            \n",
    "    def get_song(self):\n",
    "        song = input('Please choose a song: ')\n",
    "        while song not in self.all_songs:\n",
    "            song = input('This song is not available. Please choose a different song.')\n",
    "        return song\n",
    "    \n",
    "    def play(self):\n",
    "        while self.queue:\n",
    "            now_playing = self.queue.pop(0)\n",
    "            print('Now playing ', now_playing)\n",
    "            time.sleep(1)\n",
    "    \n",
    "    def stop_playlist(self):\n",
    "        '''\n",
    "        Remove the remaining songs in an existing playlist and refund corresponding money to client.\n",
    "        '''"
   ]
  },
  {
   "cell_type": "code",
   "execution_count": 3,
   "metadata": {},
   "outputs": [
    {
     "data": {
      "text/plain": [
       "Jukebox(['song 1', 'song 2', 'song 3'])"
      ]
     },
     "execution_count": 3,
     "metadata": {},
     "output_type": "execute_result"
    }
   ],
   "source": [
    "songs = ['song 1', 'song 2', 'song 3']\n",
    "jk = Jukebox(songs)\n",
    "jk"
   ]
  },
  {
   "cell_type": "code",
   "execution_count": 4,
   "metadata": {},
   "outputs": [
    {
     "name": "stdout",
     "output_type": "stream",
     "text": [
      "This jukebox contains the following songs: \n",
      "song 1\n",
      "song 2\n",
      "song 3\n"
     ]
    }
   ],
   "source": [
    "print(jk)"
   ]
  },
  {
   "cell_type": "code",
   "execution_count": 5,
   "metadata": {},
   "outputs": [
    {
     "name": "stdout",
     "output_type": "stream",
     "text": [
      "A song is 3 dollars\n",
      "Please insert at least 1 dollar\n",
      "5\n"
     ]
    },
    {
     "data": {
      "text/plain": [
       "'You can select up to 2 song(s)'"
      ]
     },
     "execution_count": 5,
     "metadata": {},
     "output_type": "execute_result"
    }
   ],
   "source": [
    "jk.insert_money(2)"
   ]
  },
  {
   "cell_type": "code",
   "execution_count": 6,
   "metadata": {},
   "outputs": [
    {
     "name": "stdout",
     "output_type": "stream",
     "text": [
      "7\n",
      "7\n"
     ]
    }
   ],
   "source": [
    "print(jk.credits)\n",
    "print(jk.revenue)"
   ]
  },
  {
   "cell_type": "code",
   "execution_count": 7,
   "metadata": {},
   "outputs": [
    {
     "name": "stdout",
     "output_type": "stream",
     "text": [
      "Please choose a song: song 1\n",
      "Is your playlist complete? (yes or no)no\n",
      "Please choose a song: song 2\n",
      "Refunding  1\n",
      "Now playing  song 1\n",
      "Now playing  song 2\n"
     ]
    }
   ],
   "source": [
    "jk.make_playlist()"
   ]
  },
  {
   "cell_type": "code",
   "execution_count": 8,
   "metadata": {},
   "outputs": [
    {
     "name": "stdout",
     "output_type": "stream",
     "text": [
      "0\n",
      "6\n"
     ]
    }
   ],
   "source": [
    "print(jk.credits)\n",
    "print(jk.revenue)"
   ]
  },
  {
   "cell_type": "code",
   "execution_count": null,
   "metadata": {},
   "outputs": [],
   "source": []
  }
 ],
 "metadata": {
  "kernelspec": {
   "display_name": "Python 3",
   "language": "python",
   "name": "python3"
  },
  "language_info": {
   "codemirror_mode": {
    "name": "ipython",
    "version": 3
   },
   "file_extension": ".py",
   "mimetype": "text/x-python",
   "name": "python",
   "nbconvert_exporter": "python",
   "pygments_lexer": "ipython3",
   "version": "3.7.7"
  }
 },
 "nbformat": 4,
 "nbformat_minor": 4
}
