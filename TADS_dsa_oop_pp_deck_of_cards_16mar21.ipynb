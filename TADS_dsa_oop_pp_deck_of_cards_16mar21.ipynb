{
 "cells": [
  {
   "cell_type": "markdown",
   "metadata": {},
   "source": [
    "# Deck of cards\n",
    "---\n",
    "**Goal:** design a generic deck of cards. Use this design to implement the following games:\n",
    "- Blackjack\n",
    "- Old Maid"
   ]
  },
  {
   "cell_type": "code",
   "execution_count": 1,
   "metadata": {},
   "outputs": [],
   "source": [
    "import random"
   ]
  },
  {
   "cell_type": "code",
   "execution_count": 14,
   "metadata": {},
   "outputs": [],
   "source": [
    "SUITS = ['Clubs', 'Diamonds', 'Hearts', 'Spades']\n",
    "RANKS = ['Ace', '2', '3', '4', '5', '6', '7', '8', '9', '10',\n",
    "         'Jack', 'Queen', 'King']"
   ]
  },
  {
   "cell_type": "code",
   "execution_count": 11,
   "metadata": {},
   "outputs": [],
   "source": [
    "class Card:\n",
    "    def __init__(self, suit, rank):\n",
    "        self.suit = suit\n",
    "        self.rank = rank\n",
    "        \n",
    "    def __repr__(self):\n",
    "        return f'Card({self.suit!r}, {self.rank!r})'\n",
    "        \n",
    "    def __str__(self):\n",
    "        return f'{self.rank} of {self.suit}'\n",
    "    \n",
    "    def __cmp__(self, other):\n",
    "        pass"
   ]
  },
  {
   "cell_type": "code",
   "execution_count": null,
   "metadata": {},
   "outputs": [],
   "source": []
  },
  {
   "cell_type": "code",
   "execution_count": 60,
   "metadata": {},
   "outputs": [],
   "source": [
    "class Deck:\n",
    "    def __init__(self, suits=SUITS, ranks=RANKS):\n",
    "        self.cards = []\n",
    "        self.suits = suits\n",
    "        self.ranks = ranks\n",
    "        for suit in suits:\n",
    "            for rank in ranks:\n",
    "                self.cards.append(Card(suit, rank))\n",
    "                \n",
    "    def __repr__(self):\n",
    "        return f'Deck({self.suits}, {self.ranks})'\n",
    "    \n",
    "    def __str__(self):\n",
    "        to_print = ''\n",
    "        for card in self.cards: \n",
    "            to_print += f'{card.__str__()}\\n'\n",
    "        return to_print.strip()\n",
    "    \n",
    "    def __len__(self):\n",
    "        return len(self.cards)\n",
    "    \n",
    "    def is_empty(self):\n",
    "        return len(self.cards) == 0\n",
    "    \n",
    "    def draw(self, order = 'top'):\n",
    "        '''\n",
    "        Params:\n",
    "            order: 'top' or 'random' (draw a card from the top or from random place in the deck)\n",
    "        '''\n",
    "        pass\n",
    "    \n",
    "    def shuffle(self):\n",
    "        random.shuffle(self.cards)\n",
    "    \n",
    "    def deal(self, hands, num_cards_by_hand):\n",
    "        num_hands = len(hands)\n",
    "        num_to_deal = num_hands * num_cards_by_hand\n",
    "        for i in range(num_cards * num_hands):\n",
    "            if self.is_empty():\n",
    "                break\n",
    "            card = self.cards.pop()\n",
    "            hands[i % num_hands].add(card)"
   ]
  },
  {
   "cell_type": "code",
   "execution_count": 61,
   "metadata": {},
   "outputs": [],
   "source": [
    "class Hand(Deck):\n",
    "    def __init__(self, name):\n",
    "        self.cards = []\n",
    "        self.name = name\n",
    "        \n",
    "    def __str__(self):\n",
    "        to_print = f'Hand {self.name}'\n",
    "        if self.is_empty():\n",
    "            return to_print + ' is_empty'\n",
    "        else:\n",
    "            return f'{to_print} contains:\\n{Deck.__str__(self)}'\n",
    "        \n",
    "\n",
    "    \n",
    "    def add(self, card):\n",
    "        self.cards.append(card)"
   ]
  },
  {
   "cell_type": "code",
   "execution_count": 62,
   "metadata": {},
   "outputs": [
    {
     "name": "stdout",
     "output_type": "stream",
     "text": [
      "Hand me is_empty\n"
     ]
    }
   ],
   "source": [
    "h = Hand('me')\n",
    "print(h)"
   ]
  },
  {
   "cell_type": "code",
   "execution_count": 63,
   "metadata": {},
   "outputs": [
    {
     "name": "stdout",
     "output_type": "stream",
     "text": [
      "Hand me contains:\n",
      "Ace of Clubs\n"
     ]
    }
   ],
   "source": [
    "h.add(c)\n",
    "print(h)"
   ]
  },
  {
   "cell_type": "code",
   "execution_count": null,
   "metadata": {},
   "outputs": [],
   "source": []
  },
  {
   "cell_type": "code",
   "execution_count": 12,
   "metadata": {},
   "outputs": [
    {
     "data": {
      "text/plain": [
       "Card('Clubs', 'Ace')"
      ]
     },
     "execution_count": 12,
     "metadata": {},
     "output_type": "execute_result"
    }
   ],
   "source": [
    "c = Card('Clubs', 'Ace')\n",
    "c"
   ]
  },
  {
   "cell_type": "code",
   "execution_count": 64,
   "metadata": {},
   "outputs": [
    {
     "data": {
      "text/plain": [
       "Deck(['Clubs', 'Diamonds', 'Hearts', 'Spades'], ['Ace', '2', '3', '4', '5', '6', '7', '8', '9', '10', 'Jack', 'Queen', 'King'])"
      ]
     },
     "execution_count": 64,
     "metadata": {},
     "output_type": "execute_result"
    }
   ],
   "source": [
    "d = Deck()\n",
    "d"
   ]
  },
  {
   "cell_type": "code",
   "execution_count": 65,
   "metadata": {
    "scrolled": true
   },
   "outputs": [
    {
     "name": "stdout",
     "output_type": "stream",
     "text": [
      "Ace of Clubs\n",
      "2 of Clubs\n",
      "3 of Clubs\n",
      "4 of Clubs\n",
      "5 of Clubs\n",
      "6 of Clubs\n",
      "7 of Clubs\n",
      "8 of Clubs\n",
      "9 of Clubs\n",
      "10 of Clubs\n",
      "Jack of Clubs\n",
      "Queen of Clubs\n",
      "King of Clubs\n",
      "Ace of Diamonds\n",
      "2 of Diamonds\n",
      "3 of Diamonds\n",
      "4 of Diamonds\n",
      "5 of Diamonds\n",
      "6 of Diamonds\n",
      "7 of Diamonds\n",
      "8 of Diamonds\n",
      "9 of Diamonds\n",
      "10 of Diamonds\n",
      "Jack of Diamonds\n",
      "Queen of Diamonds\n",
      "King of Diamonds\n",
      "Ace of Hearts\n",
      "2 of Hearts\n",
      "3 of Hearts\n",
      "4 of Hearts\n",
      "5 of Hearts\n",
      "6 of Hearts\n",
      "7 of Hearts\n",
      "8 of Hearts\n",
      "9 of Hearts\n",
      "10 of Hearts\n",
      "Jack of Hearts\n",
      "Queen of Hearts\n",
      "King of Hearts\n",
      "Ace of Spades\n",
      "2 of Spades\n",
      "3 of Spades\n",
      "4 of Spades\n",
      "5 of Spades\n",
      "6 of Spades\n",
      "7 of Spades\n",
      "8 of Spades\n",
      "9 of Spades\n",
      "10 of Spades\n",
      "Jack of Spades\n",
      "Queen of Spades\n",
      "King of Spades\n"
     ]
    }
   ],
   "source": [
    "print(d)"
   ]
  },
  {
   "cell_type": "code",
   "execution_count": 31,
   "metadata": {
    "scrolled": true
   },
   "outputs": [
    {
     "name": "stdout",
     "output_type": "stream",
     "text": [
      "King of Clubs\n",
      "Ace of Hearts\n",
      "2 of Clubs\n",
      "8 of Clubs\n",
      "6 of Clubs\n",
      "9 of Hearts\n",
      "Ace of Clubs\n",
      "7 of Clubs\n",
      "Queen of Clubs\n",
      "6 of Spades\n",
      "Queen of Diamonds\n",
      "Jack of Clubs\n",
      "5 of Spades\n",
      "King of Diamonds\n",
      "4 of Hearts\n",
      "2 of Spades\n",
      "5 of Clubs\n",
      "Queen of Spades\n",
      "6 of Hearts\n",
      "9 of Diamonds\n",
      "Ace of Diamonds\n",
      "10 of Hearts\n",
      "10 of Diamonds\n",
      "Queen of Hearts\n",
      "2 of Hearts\n",
      "9 of Clubs\n",
      "5 of Diamonds\n",
      "8 of Hearts\n",
      "3 of Diamonds\n",
      "Ace of Spades\n",
      "10 of Spades\n",
      "5 of Hearts\n",
      "King of Spades\n",
      "8 of Diamonds\n",
      "3 of Spades\n",
      "3 of Hearts\n",
      "10 of Clubs\n",
      "4 of Spades\n",
      "7 of Spades\n",
      "7 of Hearts\n",
      "Jack of Hearts\n",
      "Jack of Spades\n",
      "Jack of Diamonds\n",
      "4 of Clubs\n",
      "King of Hearts\n",
      "7 of Diamonds\n",
      "8 of Spades\n",
      "6 of Diamonds\n",
      "2 of Diamonds\n",
      "3 of Clubs\n",
      "9 of Spades\n",
      "4 of Diamonds\n",
      "\n"
     ]
    }
   ],
   "source": [
    "d.shuffle()\n",
    "print(d)"
   ]
  },
  {
   "cell_type": "code",
   "execution_count": 32,
   "metadata": {},
   "outputs": [
    {
     "data": {
      "text/plain": [
       "52"
      ]
     },
     "execution_count": 32,
     "metadata": {},
     "output_type": "execute_result"
    }
   ],
   "source": [
    "len(d)"
   ]
  },
  {
   "cell_type": "code",
   "execution_count": 33,
   "metadata": {},
   "outputs": [
    {
     "data": {
      "text/plain": [
       "'5'"
      ]
     },
     "execution_count": 33,
     "metadata": {},
     "output_type": "execute_result"
    }
   ],
   "source": [
    "l = list('12345')\n",
    "l.pop()"
   ]
  },
  {
   "cell_type": "code",
   "execution_count": null,
   "metadata": {},
   "outputs": [],
   "source": []
  },
  {
   "cell_type": "code",
   "execution_count": null,
   "metadata": {},
   "outputs": [],
   "source": []
  },
  {
   "cell_type": "markdown",
   "metadata": {},
   "source": [
    "## References\n",
    "1. https://www.openbookproject.net/books/bpp4awd/ch08.html\n",
    "2. https://www.cs.oberlin.edu/~bob/cs150/Python%20Notes/Section8.5.pdf\n",
    "3. https://www.cs.cornell.edu/courses/cs1110/2016sp/lectures/05-03-16/25.InheritanceOOP.pdf\n",
    "4. https://stackoverflow.com/questions/52382919/programming-noob-needs-oop-advice"
   ]
  },
  {
   "cell_type": "code",
   "execution_count": null,
   "metadata": {},
   "outputs": [],
   "source": []
  }
 ],
 "metadata": {
  "kernelspec": {
   "display_name": "Python 3",
   "language": "python",
   "name": "python3"
  },
  "language_info": {
   "codemirror_mode": {
    "name": "ipython",
    "version": 3
   },
   "file_extension": ".py",
   "mimetype": "text/x-python",
   "name": "python",
   "nbconvert_exporter": "python",
   "pygments_lexer": "ipython3",
   "version": "3.7.7"
  }
 },
 "nbformat": 4,
 "nbformat_minor": 4
}
