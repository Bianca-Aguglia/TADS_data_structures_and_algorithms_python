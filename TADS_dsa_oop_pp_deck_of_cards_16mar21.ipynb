{
 "cells": [
  {
   "cell_type": "markdown",
   "metadata": {},
   "source": [
    "# Deck of cards\n",
    "---\n",
    "**Goal:** design a generic deck of cards. Use this design to implement the following games:\n",
    "- Blackjack\n",
    "- Old Maid"
   ]
  },
  {
   "cell_type": "code",
   "execution_count": 1,
   "metadata": {},
   "outputs": [],
   "source": [
    "import random"
   ]
  },
  {
   "cell_type": "code",
   "execution_count": 2,
   "metadata": {},
   "outputs": [],
   "source": [
    "SUITS = ['Clubs', 'Diamonds', 'Hearts', 'Spades']\n",
    "RANKS = ['Ace', '2', '3', '4', '5', '6', '7', '8', '9', '10',\n",
    "         'Jack', 'Queen', 'King']"
   ]
  },
  {
   "cell_type": "code",
   "execution_count": 3,
   "metadata": {},
   "outputs": [],
   "source": [
    "class Card:\n",
    "    def __init__(self, rank, suit):\n",
    "        self.suit = suit\n",
    "        self.rank = rank\n",
    "        \n",
    "    def __repr__(self):\n",
    "        return f'Card({self.rank!r}, {self.suit!r})'\n",
    "        \n",
    "    def __str__(self):\n",
    "        return f'{self.rank} of {self.suit}'\n",
    "    \n",
    "    def __cmp__(self, other):\n",
    "        if SUITS.index(self.suit) > SUITS.index(other.suit):\n",
    "            return 1\n",
    "        if RANKS.index(self.rank) > RANKS.index(other.rank):\n",
    "            return - 1\n",
    "        return 0\n",
    "    \n",
    "    def __eq__(self, other):\n",
    "        return 1 if self.rank == other.rank and self.suit == other.suit else 0"
   ]
  },
  {
   "cell_type": "code",
   "execution_count": 4,
   "metadata": {},
   "outputs": [],
   "source": [
    "class Deck:\n",
    "    def __init__(self, suits=SUITS, ranks=RANKS):\n",
    "        self.cards = []\n",
    "        self.suits = suits\n",
    "        self.ranks = ranks\n",
    "        for suit in suits:\n",
    "            for rank in ranks:\n",
    "                self.cards.append(Card(rank, suit))\n",
    "                \n",
    "    def __repr__(self):\n",
    "        return f'Deck({self.suits}, {self.ranks})'\n",
    "    \n",
    "    def __str__(self):\n",
    "        to_print = ''\n",
    "        for card in self.cards: \n",
    "            to_print += f'{card.__str__()}\\n'\n",
    "        return to_print.strip()\n",
    "    \n",
    "    def __len__(self):\n",
    "        return len(self.cards)\n",
    "    \n",
    "    def is_empty(self):\n",
    "        return len(self.cards) == 0\n",
    "    \n",
    "    def draw(self, order = 'top'):\n",
    "        '''\n",
    "        Params:\n",
    "            order: 'top' or 'random' (draw a card from the top or from random place in the deck)\n",
    "        '''\n",
    "        pass\n",
    "    \n",
    "    def shuffle(self):\n",
    "        random.shuffle(self.cards)\n",
    "    \n",
    "    def deal(self, hands, num_cards_by_hand):\n",
    "        num_hands = len(hands)\n",
    "        num_to_deal = num_hands * num_cards_by_hand\n",
    "        for i in range(num_cards * num_hands):\n",
    "            if self.is_empty():\n",
    "                break\n",
    "            card = self.cards.pop()\n",
    "            hands[i % num_hands].add(card)\n",
    "            \n",
    "    def remove(self, card):\n",
    "        self.cards.remove(card)"
   ]
  },
  {
   "cell_type": "code",
   "execution_count": 5,
   "metadata": {},
   "outputs": [],
   "source": [
    "class Hand(Deck):\n",
    "    def __init__(self, name):\n",
    "        self.cards = []\n",
    "        self.name = name\n",
    "        \n",
    "    def __str__(self):\n",
    "        to_print = f'Hand {self.name}'\n",
    "        if self.is_empty():\n",
    "            return to_print + ' is empty'\n",
    "        else:\n",
    "            return f'{to_print} contains:\\n{Deck.__str__(self)}'\n",
    "        \n",
    "    def add(self, card):\n",
    "        self.cards.append(card)"
   ]
  },
  {
   "cell_type": "code",
   "execution_count": 6,
   "metadata": {},
   "outputs": [],
   "source": [
    "class CardGame:\n",
    "    def __init__(self):\n",
    "        self.deck = Deck()\n",
    "        self.deck.shuffle()\n",
    "        "
   ]
  },
  {
   "cell_type": "code",
   "execution_count": null,
   "metadata": {},
   "outputs": [],
   "source": []
  },
  {
   "cell_type": "code",
   "execution_count": 42,
   "metadata": {},
   "outputs": [],
   "source": [
    "class OldMaidHand(Hand):\n",
    "    \n",
    "    @staticmethod\n",
    "    def get_matching_card(card):\n",
    "        matching_suits = [{'Clubs', 'Spades'}, {'Diamonds', 'Hears'}]\n",
    "        for matching_suit in matching_suits:\n",
    "            if card.suit in matching_suit:\n",
    "                matching_suit = (matching_suit - {card.suit}).pop()\n",
    "                matching_card = Card(card.rank, matching_suit)\n",
    "                return matching_card\n",
    "        return None\n",
    "    \n",
    "    def remove_matches(self):\n",
    "        for card in self.cards:\n",
    "            matching_card = self.get_matching_card(card)\n",
    "            if matching_card in self.cards:\n",
    "                self.remove(card)\n",
    "                self.remove(matching_card)\n",
    "                \n",
    "            "
   ]
  },
  {
   "cell_type": "code",
   "execution_count": 43,
   "metadata": {},
   "outputs": [],
   "source": [
    "class OldMaidGame(CardGame):\n",
    "    def play(self, names):\n",
    "        # remove Queen of Clubs\n",
    "        self.deck.remove(Card('Queen', 'Clubs'))\n",
    "        \n",
    "        # make a hand for each player\n",
    "        self.hands = []\n",
    "        for name in names:\n",
    "            self.hands.append(OldMaidHand(name))\n",
    "        "
   ]
  },
  {
   "cell_type": "code",
   "execution_count": 44,
   "metadata": {},
   "outputs": [
    {
     "data": {
      "text/plain": [
       "Card('Queen', 'Clubs')"
      ]
     },
     "execution_count": 44,
     "metadata": {},
     "output_type": "execute_result"
    }
   ],
   "source": [
    "d = Deck()\n",
    "c = Card('Queen', 'Clubs')\n",
    "c"
   ]
  },
  {
   "cell_type": "code",
   "execution_count": 45,
   "metadata": {},
   "outputs": [
    {
     "data": {
      "text/plain": [
       "Deck(['Clubs', 'Diamonds', 'Hearts', 'Spades'], ['Ace', '2', '3', '4', '5', '6', '7', '8', '9', '10', 'Jack', 'Queen', 'King'])"
      ]
     },
     "execution_count": 45,
     "metadata": {},
     "output_type": "execute_result"
    }
   ],
   "source": [
    "d"
   ]
  },
  {
   "cell_type": "code",
   "execution_count": 46,
   "metadata": {
    "scrolled": true
   },
   "outputs": [
    {
     "name": "stdout",
     "output_type": "stream",
     "text": [
      "Queen of Clubs\n"
     ]
    }
   ],
   "source": [
    "print(c)"
   ]
  },
  {
   "cell_type": "code",
   "execution_count": 47,
   "metadata": {},
   "outputs": [],
   "source": [
    "d.remove(c)"
   ]
  },
  {
   "cell_type": "code",
   "execution_count": 48,
   "metadata": {},
   "outputs": [
    {
     "name": "stdout",
     "output_type": "stream",
     "text": [
      "Hand you is empty\n"
     ]
    }
   ],
   "source": [
    "h1 = OldMaidHand('you')\n",
    "print(h1)"
   ]
  },
  {
   "cell_type": "code",
   "execution_count": null,
   "metadata": {},
   "outputs": [],
   "source": []
  },
  {
   "cell_type": "code",
   "execution_count": 50,
   "metadata": {},
   "outputs": [
    {
     "name": "stdout",
     "output_type": "stream",
     "text": [
      "Hand me contains:\n",
      "Ace of Clubs\n",
      "Ace of Spades\n",
      "Ace of Hearts\n",
      "Queen of Clubs\n",
      "Queen of Spades\n",
      "Queen of Hearts\n",
      "King of Clubs\n",
      "King of Spades\n",
      "King of Hearts\n"
     ]
    }
   ],
   "source": [
    "h = OldMaidHand('me')\n",
    "suits = ['Clubs', 'Spades', 'Hearts']\n",
    "ranks = ['Ace', 'Queen', 'King']\n",
    "for rank in ranks:\n",
    "    for suit in suits:\n",
    "        h.add(Card(rank, suit))\n",
    "\n",
    "print(h)"
   ]
  },
  {
   "cell_type": "code",
   "execution_count": 51,
   "metadata": {},
   "outputs": [
    {
     "ename": "NameError",
     "evalue": "name 'get_matching_card' is not defined",
     "output_type": "error",
     "traceback": [
      "\u001b[0;31m---------------------------------------------------------------------------\u001b[0m",
      "\u001b[0;31mNameError\u001b[0m                                 Traceback (most recent call last)",
      "\u001b[0;32m<ipython-input-51-bc2a5397e9d1>\u001b[0m in \u001b[0;36m<module>\u001b[0;34m\u001b[0m\n\u001b[0;32m----> 1\u001b[0;31m \u001b[0mh\u001b[0m\u001b[0;34m.\u001b[0m\u001b[0mremove_matches\u001b[0m\u001b[0;34m(\u001b[0m\u001b[0;34m)\u001b[0m\u001b[0;34m\u001b[0m\u001b[0;34m\u001b[0m\u001b[0m\n\u001b[0m\u001b[1;32m      2\u001b[0m \u001b[0mprint\u001b[0m\u001b[0;34m(\u001b[0m\u001b[0mh\u001b[0m\u001b[0;34m)\u001b[0m\u001b[0;34m\u001b[0m\u001b[0;34m\u001b[0m\u001b[0m\n",
      "\u001b[0;32m<ipython-input-42-fa1d5d7565aa>\u001b[0m in \u001b[0;36mremove_matches\u001b[0;34m(self)\u001b[0m\n\u001b[1;32m     13\u001b[0m     \u001b[0;32mdef\u001b[0m \u001b[0mremove_matches\u001b[0m\u001b[0;34m(\u001b[0m\u001b[0mself\u001b[0m\u001b[0;34m)\u001b[0m\u001b[0;34m:\u001b[0m\u001b[0;34m\u001b[0m\u001b[0;34m\u001b[0m\u001b[0m\n\u001b[1;32m     14\u001b[0m         \u001b[0;32mfor\u001b[0m \u001b[0mcard\u001b[0m \u001b[0;32min\u001b[0m \u001b[0mself\u001b[0m\u001b[0;34m.\u001b[0m\u001b[0mcards\u001b[0m\u001b[0;34m:\u001b[0m\u001b[0;34m\u001b[0m\u001b[0;34m\u001b[0m\u001b[0m\n\u001b[0;32m---> 15\u001b[0;31m             \u001b[0mmatching_card\u001b[0m \u001b[0;34m=\u001b[0m \u001b[0mget_matching_card\u001b[0m\u001b[0;34m(\u001b[0m\u001b[0mcard\u001b[0m\u001b[0;34m)\u001b[0m\u001b[0;34m\u001b[0m\u001b[0;34m\u001b[0m\u001b[0m\n\u001b[0m\u001b[1;32m     16\u001b[0m             \u001b[0;32mif\u001b[0m \u001b[0mmatching_card\u001b[0m \u001b[0;32min\u001b[0m \u001b[0mself\u001b[0m\u001b[0;34m.\u001b[0m\u001b[0mcards\u001b[0m\u001b[0;34m:\u001b[0m\u001b[0;34m\u001b[0m\u001b[0;34m\u001b[0m\u001b[0m\n\u001b[1;32m     17\u001b[0m                 \u001b[0mself\u001b[0m\u001b[0;34m.\u001b[0m\u001b[0mremove\u001b[0m\u001b[0;34m(\u001b[0m\u001b[0mcard\u001b[0m\u001b[0;34m)\u001b[0m\u001b[0;34m\u001b[0m\u001b[0;34m\u001b[0m\u001b[0m\n",
      "\u001b[0;31mNameError\u001b[0m: name 'get_matching_card' is not defined"
     ]
    }
   ],
   "source": [
    "h.remove_matches()\n",
    "print(h)"
   ]
  },
  {
   "cell_type": "code",
   "execution_count": 39,
   "metadata": {},
   "outputs": [
    {
     "ename": "NameError",
     "evalue": "name 'get_matching_card' is not defined",
     "output_type": "error",
     "traceback": [
      "\u001b[0;31m---------------------------------------------------------------------------\u001b[0m",
      "\u001b[0;31mNameError\u001b[0m                                 Traceback (most recent call last)",
      "\u001b[0;32m<ipython-input-39-6933821acaf1>\u001b[0m in \u001b[0;36m<module>\u001b[0;34m\u001b[0m\n\u001b[0;32m----> 1\u001b[0;31m \u001b[0mget_matching_card\u001b[0m\u001b[0;34m(\u001b[0m\u001b[0mc\u001b[0m\u001b[0;34m)\u001b[0m\u001b[0;34m\u001b[0m\u001b[0;34m\u001b[0m\u001b[0m\n\u001b[0m",
      "\u001b[0;31mNameError\u001b[0m: name 'get_matching_card' is not defined"
     ]
    }
   ],
   "source": [
    "get_matching_card(c)"
   ]
  },
  {
   "cell_type": "code",
   "execution_count": 117,
   "metadata": {},
   "outputs": [
    {
     "data": {
      "text/plain": [
       "Card('Queen', 'Clubs')"
      ]
     },
     "execution_count": 117,
     "metadata": {},
     "output_type": "execute_result"
    }
   ],
   "source": [
    "c"
   ]
  },
  {
   "cell_type": "code",
   "execution_count": 92,
   "metadata": {},
   "outputs": [
    {
     "name": "stdout",
     "output_type": "stream",
     "text": [
      "Hand me is_empty\n"
     ]
    }
   ],
   "source": [
    "h = Hand('me')\n",
    "print(h)"
   ]
  },
  {
   "cell_type": "code",
   "execution_count": 63,
   "metadata": {},
   "outputs": [
    {
     "name": "stdout",
     "output_type": "stream",
     "text": [
      "Hand me contains:\n",
      "Ace of Clubs\n"
     ]
    }
   ],
   "source": [
    "h.add(c)\n",
    "print(h)"
   ]
  },
  {
   "cell_type": "code",
   "execution_count": 2,
   "metadata": {},
   "outputs": [
    {
     "ename": "AttributeError",
     "evalue": "'list' object has no attribute 'shuffle'",
     "output_type": "error",
     "traceback": [
      "\u001b[0;31m---------------------------------------------------------------------------\u001b[0m",
      "\u001b[0;31mAttributeError\u001b[0m                            Traceback (most recent call last)",
      "\u001b[0;32m<ipython-input-2-83cfafb13707>\u001b[0m in \u001b[0;36m<module>\u001b[0;34m\u001b[0m\n\u001b[1;32m      1\u001b[0m \u001b[0ml\u001b[0m \u001b[0;34m=\u001b[0m \u001b[0;34m[\u001b[0m\u001b[0;36m1\u001b[0m\u001b[0;34m,\u001b[0m \u001b[0;36m2\u001b[0m\u001b[0;34m,\u001b[0m \u001b[0;36m3\u001b[0m\u001b[0;34m]\u001b[0m\u001b[0;34m\u001b[0m\u001b[0;34m\u001b[0m\u001b[0m\n\u001b[0;32m----> 2\u001b[0;31m \u001b[0ml\u001b[0m\u001b[0;34m.\u001b[0m\u001b[0mshuffle\u001b[0m\u001b[0;34m(\u001b[0m\u001b[0;34m)\u001b[0m\u001b[0;34m\u001b[0m\u001b[0;34m\u001b[0m\u001b[0m\n\u001b[0m",
      "\u001b[0;31mAttributeError\u001b[0m: 'list' object has no attribute 'shuffle'"
     ]
    }
   ],
   "source": [
    "l = [1, 2, 3]\n",
    "l.shuffle()"
   ]
  },
  {
   "cell_type": "code",
   "execution_count": 12,
   "metadata": {},
   "outputs": [
    {
     "data": {
      "text/plain": [
       "Card('Clubs', 'Ace')"
      ]
     },
     "execution_count": 12,
     "metadata": {},
     "output_type": "execute_result"
    }
   ],
   "source": [
    "c = Card('Clubs', 'Ace')\n",
    "c"
   ]
  },
  {
   "cell_type": "code",
   "execution_count": 64,
   "metadata": {},
   "outputs": [
    {
     "data": {
      "text/plain": [
       "Deck(['Clubs', 'Diamonds', 'Hearts', 'Spades'], ['Ace', '2', '3', '4', '5', '6', '7', '8', '9', '10', 'Jack', 'Queen', 'King'])"
      ]
     },
     "execution_count": 64,
     "metadata": {},
     "output_type": "execute_result"
    }
   ],
   "source": [
    "d = Deck()\n",
    "d"
   ]
  },
  {
   "cell_type": "code",
   "execution_count": 65,
   "metadata": {
    "scrolled": true
   },
   "outputs": [
    {
     "name": "stdout",
     "output_type": "stream",
     "text": [
      "Ace of Clubs\n",
      "2 of Clubs\n",
      "3 of Clubs\n",
      "4 of Clubs\n",
      "5 of Clubs\n",
      "6 of Clubs\n",
      "7 of Clubs\n",
      "8 of Clubs\n",
      "9 of Clubs\n",
      "10 of Clubs\n",
      "Jack of Clubs\n",
      "Queen of Clubs\n",
      "King of Clubs\n",
      "Ace of Diamonds\n",
      "2 of Diamonds\n",
      "3 of Diamonds\n",
      "4 of Diamonds\n",
      "5 of Diamonds\n",
      "6 of Diamonds\n",
      "7 of Diamonds\n",
      "8 of Diamonds\n",
      "9 of Diamonds\n",
      "10 of Diamonds\n",
      "Jack of Diamonds\n",
      "Queen of Diamonds\n",
      "King of Diamonds\n",
      "Ace of Hearts\n",
      "2 of Hearts\n",
      "3 of Hearts\n",
      "4 of Hearts\n",
      "5 of Hearts\n",
      "6 of Hearts\n",
      "7 of Hearts\n",
      "8 of Hearts\n",
      "9 of Hearts\n",
      "10 of Hearts\n",
      "Jack of Hearts\n",
      "Queen of Hearts\n",
      "King of Hearts\n",
      "Ace of Spades\n",
      "2 of Spades\n",
      "3 of Spades\n",
      "4 of Spades\n",
      "5 of Spades\n",
      "6 of Spades\n",
      "7 of Spades\n",
      "8 of Spades\n",
      "9 of Spades\n",
      "10 of Spades\n",
      "Jack of Spades\n",
      "Queen of Spades\n",
      "King of Spades\n"
     ]
    }
   ],
   "source": [
    "print(d)"
   ]
  },
  {
   "cell_type": "code",
   "execution_count": 31,
   "metadata": {
    "scrolled": true
   },
   "outputs": [
    {
     "name": "stdout",
     "output_type": "stream",
     "text": [
      "King of Clubs\n",
      "Ace of Hearts\n",
      "2 of Clubs\n",
      "8 of Clubs\n",
      "6 of Clubs\n",
      "9 of Hearts\n",
      "Ace of Clubs\n",
      "7 of Clubs\n",
      "Queen of Clubs\n",
      "6 of Spades\n",
      "Queen of Diamonds\n",
      "Jack of Clubs\n",
      "5 of Spades\n",
      "King of Diamonds\n",
      "4 of Hearts\n",
      "2 of Spades\n",
      "5 of Clubs\n",
      "Queen of Spades\n",
      "6 of Hearts\n",
      "9 of Diamonds\n",
      "Ace of Diamonds\n",
      "10 of Hearts\n",
      "10 of Diamonds\n",
      "Queen of Hearts\n",
      "2 of Hearts\n",
      "9 of Clubs\n",
      "5 of Diamonds\n",
      "8 of Hearts\n",
      "3 of Diamonds\n",
      "Ace of Spades\n",
      "10 of Spades\n",
      "5 of Hearts\n",
      "King of Spades\n",
      "8 of Diamonds\n",
      "3 of Spades\n",
      "3 of Hearts\n",
      "10 of Clubs\n",
      "4 of Spades\n",
      "7 of Spades\n",
      "7 of Hearts\n",
      "Jack of Hearts\n",
      "Jack of Spades\n",
      "Jack of Diamonds\n",
      "4 of Clubs\n",
      "King of Hearts\n",
      "7 of Diamonds\n",
      "8 of Spades\n",
      "6 of Diamonds\n",
      "2 of Diamonds\n",
      "3 of Clubs\n",
      "9 of Spades\n",
      "4 of Diamonds\n",
      "\n"
     ]
    }
   ],
   "source": [
    "d.shuffle()\n",
    "print(d)"
   ]
  },
  {
   "cell_type": "code",
   "execution_count": 32,
   "metadata": {},
   "outputs": [
    {
     "data": {
      "text/plain": [
       "52"
      ]
     },
     "execution_count": 32,
     "metadata": {},
     "output_type": "execute_result"
    }
   ],
   "source": [
    "len(d)"
   ]
  },
  {
   "cell_type": "code",
   "execution_count": 33,
   "metadata": {},
   "outputs": [
    {
     "data": {
      "text/plain": [
       "'5'"
      ]
     },
     "execution_count": 33,
     "metadata": {},
     "output_type": "execute_result"
    }
   ],
   "source": [
    "l = list('12345')\n",
    "l.pop()"
   ]
  },
  {
   "cell_type": "code",
   "execution_count": null,
   "metadata": {},
   "outputs": [],
   "source": []
  },
  {
   "cell_type": "markdown",
   "metadata": {},
   "source": [
    "## References\n",
    "1. https://www.openbookproject.net/books/bpp4awd/ch08.html\n",
    "2. https://www.cs.oberlin.edu/~bob/cs150/Python%20Notes/Section8.5.pdf\n",
    "3. https://www.cs.cornell.edu/courses/cs1110/2016sp/lectures/05-03-16/25.InheritanceOOP.pdf\n",
    "4. https://stackoverflow.com/questions/52382919/programming-noob-needs-oop-advice"
   ]
  },
  {
   "cell_type": "code",
   "execution_count": null,
   "metadata": {},
   "outputs": [],
   "source": []
  }
 ],
 "metadata": {
  "kernelspec": {
   "display_name": "Python 3",
   "language": "python",
   "name": "python3"
  },
  "language_info": {
   "codemirror_mode": {
    "name": "ipython",
    "version": 3
   },
   "file_extension": ".py",
   "mimetype": "text/x-python",
   "name": "python",
   "nbconvert_exporter": "python",
   "pygments_lexer": "ipython3",
   "version": "3.7.7"
  }
 },
 "nbformat": 4,
 "nbformat_minor": 4
}
