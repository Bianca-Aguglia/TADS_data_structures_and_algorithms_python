{
 "cells": [
  {
   "cell_type": "markdown",
   "metadata": {},
   "source": [
    "# Binary search tree - practice problems\n",
    "---"
   ]
  },
  {
   "cell_type": "code",
   "execution_count": 1,
   "metadata": {},
   "outputs": [],
   "source": [
    "import ds_binary_search_tree as dbst"
   ]
  },
  {
   "cell_type": "markdown",
   "metadata": {},
   "source": [
    "## 1. Search BST <small>(leetcode)</small>\n",
    "Given a value `val`, find the node equal to that value and return the subtree rooted in that node. Return `null` if value not in tree."
   ]
  },
  {
   "cell_type": "markdown",
   "metadata": {},
   "source": [
    "**Version 1:** return node"
   ]
  },
  {
   "cell_type": "code",
   "execution_count": 28,
   "metadata": {},
   "outputs": [],
   "source": [
    "def searchBST(root, value):\n",
    "    if root is None:\n",
    "        return None\n",
    "    \n",
    "    if root.value == value:\n",
    "        return root\n",
    "    \n",
    "    if value < root.value:\n",
    "        return searchBST(root.left, value)\n",
    "    \n",
    "    if value > root.value:\n",
    "        return searchBST(root.right, value)\n",
    "    \n",
    "    return None\n",
    "        \n"
   ]
  },
  {
   "cell_type": "code",
   "execution_count": 29,
   "metadata": {},
   "outputs": [
    {
     "name": "stdout",
     "output_type": "stream",
     "text": [
      "root created: 9\n",
      "15 was inserted in tree\n",
      "5 was inserted in tree\n",
      "2 was inserted in tree\n",
      "8 was inserted in tree\n",
      "7 was inserted in tree\n",
      "6 was inserted in tree\n",
      "14 was inserted in tree\n",
      "12 was inserted in tree\n",
      "13 was inserted in tree\n",
      "17 was inserted in tree\n"
     ]
    }
   ],
   "source": [
    "t1 = dbst.BST()\n",
    "nums = [int(x) for x in list('5324768')]\n",
    "nums = [9, 15, 5, 2, 8, 7, 6, 14, 12, 13, 17]\n",
    "def add_to_tree(nums = nums, tree = t1):\n",
    "    for num in nums:\n",
    "        print(tree.insert(num))\n",
    "add_to_tree()"
   ]
  },
  {
   "cell_type": "code",
   "execution_count": 30,
   "metadata": {},
   "outputs": [
    {
     "data": {
      "text/plain": [
       "Node(12)"
      ]
     },
     "execution_count": 30,
     "metadata": {},
     "output_type": "execute_result"
    }
   ],
   "source": [
    "searchBST(t1.root, 12)"
   ]
  },
  {
   "cell_type": "markdown",
   "metadata": {},
   "source": [
    "**Version 2:** return in-order subtree"
   ]
  },
  {
   "cell_type": "code",
   "execution_count": 145,
   "metadata": {},
   "outputs": [],
   "source": [
    "def in_order_subtree(node):\n",
    "    nodes = []\n",
    "    if node:\n",
    "        nodes.extend(in_order_subtree(node.left))\n",
    "        nodes.append(node.value)\n",
    "        nodes.extend(in_order_subtree(node.right))\n",
    "    return nodes\n",
    "    "
   ]
  },
  {
   "cell_type": "code",
   "execution_count": 146,
   "metadata": {},
   "outputs": [],
   "source": [
    "def searchBST_2(root, value):\n",
    "    if root.value is None:\n",
    "        return None\n",
    "    \n",
    "    if root.value == value:\n",
    "        return in_order_subtree(root)\n",
    "    \n",
    "    if value < root.value:\n",
    "        return searchBST_2(root.left, value)\n",
    "    \n",
    "    if value > root.value:\n",
    "        return searchBST_2(root.right, value)\n",
    "    \n",
    "    return None\n",
    "        \n",
    "    "
   ]
  },
  {
   "cell_type": "code",
   "execution_count": 147,
   "metadata": {},
   "outputs": [
    {
     "data": {
      "text/plain": [
       "[12, 13, 14, 15, 17]"
      ]
     },
     "execution_count": 147,
     "metadata": {},
     "output_type": "execute_result"
    }
   ],
   "source": [
    "l = searchBST_2(t1.root, 15)\n",
    "l"
   ]
  },
  {
   "cell_type": "markdown",
   "metadata": {},
   "source": [
    "## 2. Find BST mode(s) <small>(leetcode)</small>\n",
    "Given a binary search tree, find its mode(s)."
   ]
  },
  {
   "cell_type": "code",
   "execution_count": 163,
   "metadata": {},
   "outputs": [],
   "source": [
    "def make_node_values_dict(root, node_values_dict={}):\n",
    "    node_values_dict = node_values_dict\n",
    "    if root:\n",
    "        node_values_dict[root.value] = node_values_dict.get(root.value, 0) + 1\n",
    "        node_values_dict = make_node_values_dict(root.left, node_values_dict)\n",
    "        node_values_dict = make_node_values_dict(root.right, node_values_dict)\n",
    "    return node_values_dict\n",
    "\n",
    "def find_mode(root):\n",
    "    counts = make_node_values_dict(root)\n",
    "    mode = max(counts.values())\n",
    "    modes = []\n",
    "    for key in counts:\n",
    "        if counts[key] == mode:\n",
    "            modes.append(key)\n",
    "    return modes\n",
    "            \n",
    "    "
   ]
  },
  {
   "cell_type": "code",
   "execution_count": 164,
   "metadata": {},
   "outputs": [
    {
     "data": {
      "text/plain": [
       "[9, 5, 2, 8, 7, 6, 15, 14, 12, 13, 17]"
      ]
     },
     "execution_count": 164,
     "metadata": {},
     "output_type": "execute_result"
    }
   ],
   "source": [
    "find_mode(t1.root)"
   ]
  },
  {
   "cell_type": "code",
   "execution_count": null,
   "metadata": {},
   "outputs": [],
   "source": []
  }
 ],
 "metadata": {
  "kernelspec": {
   "display_name": "Python 3",
   "language": "python",
   "name": "python3"
  },
  "language_info": {
   "codemirror_mode": {
    "name": "ipython",
    "version": 3
   },
   "file_extension": ".py",
   "mimetype": "text/x-python",
   "name": "python",
   "nbconvert_exporter": "python",
   "pygments_lexer": "ipython3",
   "version": "3.7.7"
  }
 },
 "nbformat": 4,
 "nbformat_minor": 4
}
