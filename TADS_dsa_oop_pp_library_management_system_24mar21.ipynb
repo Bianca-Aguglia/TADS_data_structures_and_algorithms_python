{
 "cells": [
  {
   "cell_type": "markdown",
   "metadata": {},
   "source": [
    "# Library management system\n",
    "---\n",
    "**Goal:** design a library management system using OOP."
   ]
  },
  {
   "cell_type": "markdown",
   "metadata": {},
   "source": [
    "### Questions <small>(assumed answers are in parantheses)</small>\n",
    "- is this a public library or a private library (e.g. personal library, private institution library, etc.)? <small>(public library)</small>\n",
    "- is it correct to assume that the system has the following actors:\n",
    "    - guests (people who want to read and, possibly, borrow books)\n",
    "    - vendors (people who supply books to the library)\n",
    "    - librarians (people who help guests, interact with vendors, organize the books)? <small>(yes to guests, vendors, librarians; add donors (people who donate books or money)</small>\n",
    "- do guests have to be members to use the library? <small>(anyone can visit the library and read books, only members can check-out books)</small>\n",
    "- is membership paid or free? <small>(free, guests must only register to become members)</small>\n",
    "- is there a time-limit to how long a book can be checked out? <small>(yes, max_term = 21 days)</small>\n",
    "- is there a limit to how many books a member can check out? <small>(yes, max_quantity = 10 books)</small>\n",
    "- can borrowed books be renewed? if yes, is there a limit to the number of renewals? <small>(yes, max_renewals = 3)</small>\n",
    "- are there fees for returning a book late? if yes, how much? <small>(yes, currently late_fee = 10c/day/book)</small>\n",
    "- is there a limit to the amount of late fees a member can incur before their membership is locked? <small>(yes, max_late_fee = &#0036;10)</small>\n"
   ]
  },
  {
   "cell_type": "markdown",
   "metadata": {},
   "source": [
    "### Specs\n",
    "- public library\n",
    "- anyone may visit the library and read library books on premises, but only members may borrow books\n",
    "- books can be searched by title, author, category, publisher, publication_year\n",
    "- books have an id, author id, location_id (physical location in library)"
   ]
  },
  {
   "cell_type": "code",
   "execution_count": 9,
   "metadata": {},
   "outputs": [],
   "source": [
    "def search_catalog(bid = None, aid = None, publisher_name = None, publication_year = None):\n",
    "    pass"
   ]
  },
  {
   "cell_type": "code",
   "execution_count": 1,
   "metadata": {},
   "outputs": [],
   "source": [
    "class Library:\n",
    "    def __init__(self, name, address):\n",
    "        self.name = name\n",
    "        self.address = Address(address)"
   ]
  },
  {
   "cell_type": "code",
   "execution_count": null,
   "metadata": {},
   "outputs": [],
   "source": [
    "class Address:\n",
    "    def __init__(self, street_number, street_name, city, zipcode):\n",
    "        self.street_number = street_number\n",
    "        self.street_name = street_name\n",
    "        self.city = city\n",
    "        self.zipcode = zipcode"
   ]
  },
  {
   "cell_type": "code",
   "execution_count": 2,
   "metadata": {},
   "outputs": [],
   "source": [
    "class Guest:\n",
    "    def __init__(self, name = None):\n",
    "        self.name = name"
   ]
  },
  {
   "cell_type": "code",
   "execution_count": null,
   "metadata": {},
   "outputs": [],
   "source": [
    "class Member:\n",
    "    def __init__(self, mid, name, address):\n",
    "        self.mid = mid\n",
    "        self.name = name\n",
    "        self.address = Address(address)"
   ]
  },
  {
   "cell_type": "code",
   "execution_count": 3,
   "metadata": {},
   "outputs": [],
   "source": [
    "class Librarian:\n",
    "    def __init__(self, lib, name, address):\n",
    "        self.lib = lib\n",
    "        self.name = name\n",
    "        self.address = Address(address)"
   ]
  },
  {
   "cell_type": "code",
   "execution_count": 4,
   "metadata": {},
   "outputs": [],
   "source": [
    "class Donor:\n",
    "    def __init__(self, did, name = 'anonymous', address = None):\n",
    "        self.did = did\n",
    "        self.name = name\n",
    "        if address:\n",
    "            self.address = address"
   ]
  },
  {
   "cell_type": "code",
   "execution_count": 5,
   "metadata": {},
   "outputs": [],
   "source": [
    "class Vendor:\n",
    "    def __init__(self, vid, name, address, telephone):\n",
    "        self.vid = vid\n",
    "        self.name = name\n",
    "        self.address = Address(address)\n",
    "        self.telephone = telephone\n",
    "        "
   ]
  },
  {
   "cell_type": "code",
   "execution_count": 6,
   "metadata": {},
   "outputs": [],
   "source": [
    "class LibraryCard:\n",
    "    def __init__(self, lcid, mid, status = 'active'):\n",
    "        self.lcid = lcid        # library_card_id\n",
    "        self.mid = mid          # member_id\n",
    "        self.status = status"
   ]
  },
  {
   "cell_type": "code",
   "execution_count": 11,
   "metadata": {},
   "outputs": [],
   "source": [
    "class Book:\n",
    "    def __init__(self, bid, aid, title, publisher_name, publication_year, library_shelf):\n",
    "        self.bid = bid                        # book_id\n",
    "        self.aid = aid                        # author_id\n",
    "        self.title = title\n",
    "        self.publisher = publisher_name\n",
    "        self.year = publication_year\n",
    "        self.library_shelf = library_shelf"
   ]
  },
  {
   "cell_type": "code",
   "execution_count": 8,
   "metadata": {},
   "outputs": [],
   "source": [
    "class Author:\n",
    "    def __init__(self, aid, bid, name, bio_tagline, bio):\n",
    "        self.aid = aid\n",
    "        self.bid = bid\n",
    "        self.name = name\n",
    "        self.bio_tagline = bio_tagline\n",
    "        self.bio = bio"
   ]
  },
  {
   "cell_type": "code",
   "execution_count": 10,
   "metadata": {},
   "outputs": [],
   "source": [
    "class LibraryShelf:\n",
    "    def __init__(self, row, row_segment, shelf_level):\n",
    "        self.row = row\n",
    "        self.row_segment = row_segment\n",
    "        self.shelf_level = shelf_level"
   ]
  },
  {
   "cell_type": "code",
   "execution_count": null,
   "metadata": {},
   "outputs": [],
   "source": []
  }
 ],
 "metadata": {
  "kernelspec": {
   "display_name": "Python 3",
   "language": "python",
   "name": "python3"
  },
  "language_info": {
   "codemirror_mode": {
    "name": "ipython",
    "version": 3
   },
   "file_extension": ".py",
   "mimetype": "text/x-python",
   "name": "python",
   "nbconvert_exporter": "python",
   "pygments_lexer": "ipython3",
   "version": "3.7.7"
  }
 },
 "nbformat": 4,
 "nbformat_minor": 4
}
