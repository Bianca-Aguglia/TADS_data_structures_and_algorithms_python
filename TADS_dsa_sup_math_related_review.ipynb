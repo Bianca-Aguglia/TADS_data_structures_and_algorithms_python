{
 "cells": [
  {
   "cell_type": "markdown",
   "metadata": {},
   "source": [
    "# Math review\n",
    "---\n",
    "A review of math concepts useful in the desgin and analysis of algorithms."
   ]
  },
  {
   "cell_type": "markdown",
   "metadata": {},
   "source": [
    "## Arithmetic progression\n",
    "\n",
    "An **arithmetic progression** or **arithmetic sequence** is a sequence of numbers in which the difference between any two consecutive terms is constant. For instance, the sequence 1, 3, 5, 7, 9, . . . is an arithmetic progression with a common difference of 2.   \n",
    "  \n",
    "A finite portion of an arithmetic progression is called a **finite arithmetic progression** (or just an arithmetic progression). The sum of a finite arithmetic progression is called an **arithmetic series**."
   ]
  },
  {
   "cell_type": "markdown",
   "metadata": {},
   "source": [
    "$$ S(n) = \\sum_{i=0}^{n}\\, a_{i} = \\frac{n(a_{1} + a_{2})} {2} $$ "
   ]
  },
  {
   "cell_type": "markdown",
   "metadata": {},
   "source": [
    "In *The Algorithm Design Manual*, S.Skiena points out that $\\Theta(n)$ for an arithmetic series is $n^2$. He then expands that to a sum of powers, and gives a general formula\n",
    "$$S(n,p) = \\sum_{i}^{n} {i}^p = \\Theta(n^{p + 1})$$"
   ]
  },
  {
   "cell_type": "markdown",
   "metadata": {},
   "source": [
    "## Geometric progression\n",
    "A **geometric progression** or **geometric sequence** is a sequence of non-zero numbers in which each element (after the first one) is found by multiplying the previous element by a constant number called the *common ratio*. For example, the sequence 1, 3, 9, 27, ... is a geometric progression with a common ratio of 3, and the sequence 1, $\\frac{1}{2}$, $\\frac{1}{4}$, $\\frac{1}{8}$, $\\frac{1}{16}$, ... is a geometric progression with a common ratio of $\\frac{1}{2}$.  \n",
    "  \n",
    "The general form of a geometric sequence is  \n",
    "  \n",
    "$a, ar, ar^2, ar^3, ar^4, ...$  \n",
    "  \n",
    "where $a \\neq 0$ is the *scale factor* or *base* of the progression (equal to the sequence's start value), and $r \\neq 0$ is the common ratio.  \n",
    "  \n",
    "The sum of a geometric progression is called a **geometric series**, and the general formula for it is:  \n",
    "  \n",
    "$$ G(n, a) = \\sum_{i=1}^{n} ar^{i} = \\frac{a(1 - r^n)}{1 - r}$$"
   ]
  },
  {
   "cell_type": "markdown",
   "metadata": {},
   "source": [
    "In *The Algorithm Design Manual*, S.Skiena points out that:\n",
    "1. when r < 1, G(n, a) = $\\Theta(1)$\n",
    "2. when r > 1, G(n, a) = $\\Theta(a^{n + 1}) $"
   ]
  },
  {
   "cell_type": "markdown",
   "metadata": {},
   "source": [
    "## Combinatorial objects"
   ]
  },
  {
   "cell_type": "markdown",
   "metadata": {},
   "source": [
    "### Permutations\n",
    "A **permutation** of a set S, is one of the possible ways in which the elements of the set can be arranged. The total number of permuations of a set of size n is $n!$. \n",
    "  \n",
    "For example, the set {1, 2, 3} has six permutations and they are:  \n",
    "(1, 2, 3)  \n",
    "(1, 3, 2)  \n",
    "(2, 1, 3)  \n",
    "(2, 3, 1)  \n",
    "(3, 1, 2)  \n",
    "(3, 2, 1)  "
   ]
  },
  {
   "cell_type": "markdown",
   "metadata": {},
   "source": [
    "Permutations usually show up in algorithm problems that look for an *arrangement*, an *order*, a *tour*, or a *sequence*."
   ]
  },
  {
   "cell_type": "markdown",
   "metadata": {},
   "source": [
    "### Subsets\n",
    "Set $A$ is a **subset** of set $B$, if all the elements of A are also elements of B. In this case, B is the **supraset** of A."
   ]
  },
  {
   "cell_type": "markdown",
   "metadata": {},
   "source": [
    "Subsets show up in algorithm problems that look for a *cluster*, a *selection*, "
   ]
  },
  {
   "cell_type": "code",
   "execution_count": null,
   "metadata": {},
   "outputs": [],
   "source": []
  },
  {
   "cell_type": "code",
   "execution_count": null,
   "metadata": {},
   "outputs": [],
   "source": []
  },
  {
   "cell_type": "code",
   "execution_count": null,
   "metadata": {},
   "outputs": [],
   "source": []
  },
  {
   "cell_type": "code",
   "execution_count": null,
   "metadata": {},
   "outputs": [],
   "source": []
  },
  {
   "cell_type": "code",
   "execution_count": null,
   "metadata": {},
   "outputs": [],
   "source": []
  },
  {
   "cell_type": "code",
   "execution_count": null,
   "metadata": {},
   "outputs": [],
   "source": []
  },
  {
   "cell_type": "markdown",
   "metadata": {},
   "source": [
    "Sum from 0 to +inf:\n",
    "\n",
    "$$\\sum_{j=0}^{+\\infty} A_{j}$$\n",
    "\n",
    "Double sum:\n",
    "$$\\sum^k_{i=1}\\sum^{l+1}_{j=1}\\,A_i A_j$$\t\n",
    "\n",
    "\n",
    "Taylor expansion of $e^x$:\n",
    "$$ e^x  = \\sum_{k=0}^{n}\\, \\frac{x^k}{k!} + o(x^n) $$ "
   ]
  },
  {
   "cell_type": "markdown",
   "metadata": {},
   "source": [
    "Sum from 0 to +inf:\n",
    "\n",
    "$$\\sum_{j=0}^{+\\infty} A_{j}$$\n",
    "\n",
    "Double sum:\n",
    "$$\\sum^k_{i=1}\\sum^{l+1}_{j=1}\\,A_i A_j$$\t\n",
    "\n",
    "\n",
    "Taylor expansion of $e^x$:\n",
    "$$ e^x  = \\sum_{k=0}^{n}\\, \\frac{x^k}{k!} + o(x^n) $$ "
   ]
  },
  {
   "cell_type": "code",
   "execution_count": null,
   "metadata": {},
   "outputs": [],
   "source": []
  }
 ],
 "metadata": {
  "kernelspec": {
   "display_name": "Python 3",
   "language": "python",
   "name": "python3"
  },
  "language_info": {
   "codemirror_mode": {
    "name": "ipython",
    "version": 3
   },
   "file_extension": ".py",
   "mimetype": "text/x-python",
   "name": "python",
   "nbconvert_exporter": "python",
   "pygments_lexer": "ipython3",
   "version": "3.7.7"
  }
 },
 "nbformat": 4,
 "nbformat_minor": 4
}
