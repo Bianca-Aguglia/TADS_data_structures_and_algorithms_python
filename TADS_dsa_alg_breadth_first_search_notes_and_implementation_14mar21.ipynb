{
 "cells": [
  {
   "cell_type": "markdown",
   "metadata": {},
   "source": [
    "# Breadth-first search\n",
    "---\n",
    "**Breadth-first search** (BFS) is an algorithm for traversing or searching tree or graph data structures. For trees, the algorithm starts at the root node, for graphs it starts at an arbitrary node, sometimes referred to as a 'search key'. It then explores all of the neighbor nodes at the present depth prior to moving on to the nodes at the next depth level.\n",
    "\n",
    "BFS uses the opposite strategy of depth-first search, which instead explores the node branch as far as possible before being forced to backtrack and expand other nodes.\n",
    "\n",
    "BFS and its application in finding connected components of graphs were invented in 1945 by Konrad Zuse, in his (rejected) Ph.D. thesis on the Plankalkül programming language, but this was not published until 1972. It was reinvented in 1959 by Edward F. Moore, who used it to find the shortest path out of a maze, and later developed by C. Y. Lee into a wire routing algorithm (published 1961)."
   ]
  },
  {
   "cell_type": "markdown",
   "metadata": {},
   "source": [
    "**Contents**\n",
    "- [Implementation](#implementation)\n",
    "- [Practical applications](#applications)\n",
    "- [Resources](#resources)"
   ]
  },
  {
   "cell_type": "markdown",
   "metadata": {},
   "source": [
    "## Implementation <a id='implementation'></a>"
   ]
  },
  {
   "cell_type": "code",
   "execution_count": null,
   "metadata": {},
   "outputs": [],
   "source": []
  },
  {
   "cell_type": "code",
   "execution_count": null,
   "metadata": {},
   "outputs": [],
   "source": []
  },
  {
   "cell_type": "code",
   "execution_count": null,
   "metadata": {},
   "outputs": [],
   "source": []
  },
  {
   "cell_type": "code",
   "execution_count": null,
   "metadata": {},
   "outputs": [],
   "source": []
  },
  {
   "cell_type": "markdown",
   "metadata": {},
   "source": [
    "## Practical applications <a id='applications'></a>\n",
    "  \n",
    "- a checkers program that calculates the fewest moves to victory\n",
    "- a spell checker that finds the shortest path from a misspelled word to the correct spelling (e.g. *finded* is one edit away from *finder*)\n",
    "- a program that finds the pharmacy closest to your location\n",
    "- a program that find the shortest route to a friend's house"
   ]
  },
  {
   "cell_type": "markdown",
   "metadata": {},
   "source": [
    "## Resources <a id='resources'></a>\n",
    "- [Wikipedia article on breadth first search](https://en.wikipedia.org/wiki/Breadth-first_search)\n",
    "- [*Grokking Algorithms* by A.Bhargava](https://www.amazon.com/Grokking-Algorithms-illustrated-programmers-curious/dp/1617292230)\n",
    "- [GeeksforGeeks applications of breadth-first search](https://www.geeksforgeeks.org/applications-of-breadth-first-traversal/)"
   ]
  },
  {
   "cell_type": "code",
   "execution_count": null,
   "metadata": {},
   "outputs": [],
   "source": []
  }
 ],
 "metadata": {
  "kernelspec": {
   "display_name": "Python 3",
   "language": "python",
   "name": "python3"
  },
  "language_info": {
   "codemirror_mode": {
    "name": "ipython",
    "version": 3
   },
   "file_extension": ".py",
   "mimetype": "text/x-python",
   "name": "python",
   "nbconvert_exporter": "python",
   "pygments_lexer": "ipython3",
   "version": "3.7.7"
  }
 },
 "nbformat": 4,
 "nbformat_minor": 4
}
