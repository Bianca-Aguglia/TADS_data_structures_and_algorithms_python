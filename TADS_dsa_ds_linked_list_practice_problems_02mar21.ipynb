{
 "cells": [
  {
   "cell_type": "markdown",
   "metadata": {},
   "source": [
    "# Linked lists - practice problems\n",
    "---"
   ]
  },
  {
   "cell_type": "code",
   "execution_count": 1,
   "metadata": {},
   "outputs": [],
   "source": [
    "import ds_linked_list as dll"
   ]
  },
  {
   "cell_type": "markdown",
   "metadata": {},
   "source": [
    "## Remove duplicates\n",
    "Remove duplicates from linked list.  \n",
    "Variation: remove duplicates without using a temporary buffer."
   ]
  },
  {
   "cell_type": "code",
   "execution_count": 119,
   "metadata": {},
   "outputs": [],
   "source": [
    "def remove_duplicates(linked_list):\n",
    "    list_elems = {}\n",
    "    cur_node = linked_list.head\n",
    "    while cur_node.next:\n",
    "        next_node = cur_node.next\n",
    "        print(cur_node)\n",
    "        print(next_node)\n",
    "        print()\n",
    "        list_elems[cur_node.value] = list_elems.get(cur_node.value, 0) + 1\n",
    "        if next_node.value in list_elems:\n",
    "            list_elems[next_node.value] += 1\n",
    "            try:\n",
    "                cur_node.next = next_node.next\n",
    "            except:\n",
    "                # AttributeError: 'NoneType' object has no attribute 'next'\n",
    "                cur_node.next = None\n",
    "                break\n",
    "        cur_node = cur_node.next\n",
    "    return linked_list, list_elems\n",
    "            "
   ]
  },
  {
   "cell_type": "code",
   "execution_count": 120,
   "metadata": {},
   "outputs": [],
   "source": [
    "l = dll.LinkedList(1)"
   ]
  },
  {
   "cell_type": "code",
   "execution_count": 121,
   "metadata": {},
   "outputs": [],
   "source": [
    "for i in [int(x) for x in list('329825242200')]:\n",
    "    l.append(i)"
   ]
  },
  {
   "cell_type": "code",
   "execution_count": 122,
   "metadata": {},
   "outputs": [
    {
     "name": "stdout",
     "output_type": "stream",
     "text": [
      "1 -> 3 -> 2 -> 9 -> 8 -> 2 -> 5 -> 2 -> 4 -> 2 -> 2 -> 0 -> 0 -> None\n"
     ]
    }
   ],
   "source": [
    "print(l)"
   ]
  },
  {
   "cell_type": "code",
   "execution_count": 123,
   "metadata": {},
   "outputs": [
    {
     "name": "stdout",
     "output_type": "stream",
     "text": [
      "Node(value: 1, next: 3)\n",
      "Node(value: 3, next: 2)\n",
      "\n",
      "Node(value: 3, next: 2)\n",
      "Node(value: 2, next: 9)\n",
      "\n",
      "Node(value: 2, next: 9)\n",
      "Node(value: 9, next: 8)\n",
      "\n",
      "Node(value: 9, next: 8)\n",
      "Node(value: 8, next: 2)\n",
      "\n",
      "Node(value: 8, next: 2)\n",
      "Node(value: 2, next: 5)\n",
      "\n",
      "Node(value: 5, next: 2)\n",
      "Node(value: 2, next: 4)\n",
      "\n",
      "Node(value: 4, next: 2)\n",
      "Node(value: 2, next: 2)\n",
      "\n",
      "Node(value: 2, next: 0)\n",
      "Node(value: 0, next: 0)\n",
      "\n",
      "Node(value: 0, next: 0)\n",
      "Node(value: 0, next: None)\n",
      "\n"
     ]
    },
    {
     "ename": "AttributeError",
     "evalue": "'NoneType' object has no attribute 'next'",
     "output_type": "error",
     "traceback": [
      "\u001b[0;31m---------------------------------------------------------------------------\u001b[0m",
      "\u001b[0;31mAttributeError\u001b[0m                            Traceback (most recent call last)",
      "\u001b[0;32m<ipython-input-123-ee34cb70c767>\u001b[0m in \u001b[0;36m<module>\u001b[0;34m\u001b[0m\n\u001b[0;32m----> 1\u001b[0;31m \u001b[0ml1\u001b[0m\u001b[0;34m,\u001b[0m \u001b[0md\u001b[0m \u001b[0;34m=\u001b[0m \u001b[0mremove_duplicates\u001b[0m\u001b[0;34m(\u001b[0m\u001b[0ml\u001b[0m\u001b[0;34m)\u001b[0m\u001b[0;34m\u001b[0m\u001b[0;34m\u001b[0m\u001b[0m\n\u001b[0m",
      "\u001b[0;32m<ipython-input-119-35d47c4d516b>\u001b[0m in \u001b[0;36mremove_duplicates\u001b[0;34m(linked_list)\u001b[0m\n\u001b[1;32m      2\u001b[0m     \u001b[0mlist_elems\u001b[0m \u001b[0;34m=\u001b[0m \u001b[0;34m{\u001b[0m\u001b[0;34m}\u001b[0m\u001b[0;34m\u001b[0m\u001b[0;34m\u001b[0m\u001b[0m\n\u001b[1;32m      3\u001b[0m     \u001b[0mcur_node\u001b[0m \u001b[0;34m=\u001b[0m \u001b[0mlinked_list\u001b[0m\u001b[0;34m.\u001b[0m\u001b[0mhead\u001b[0m\u001b[0;34m\u001b[0m\u001b[0;34m\u001b[0m\u001b[0m\n\u001b[0;32m----> 4\u001b[0;31m     \u001b[0;32mwhile\u001b[0m \u001b[0mcur_node\u001b[0m\u001b[0;34m.\u001b[0m\u001b[0mnext\u001b[0m\u001b[0;34m:\u001b[0m\u001b[0;34m\u001b[0m\u001b[0;34m\u001b[0m\u001b[0m\n\u001b[0m\u001b[1;32m      5\u001b[0m         \u001b[0mnext_node\u001b[0m \u001b[0;34m=\u001b[0m \u001b[0mcur_node\u001b[0m\u001b[0;34m.\u001b[0m\u001b[0mnext\u001b[0m\u001b[0;34m\u001b[0m\u001b[0;34m\u001b[0m\u001b[0m\n\u001b[1;32m      6\u001b[0m         \u001b[0mprint\u001b[0m\u001b[0;34m(\u001b[0m\u001b[0mcur_node\u001b[0m\u001b[0;34m)\u001b[0m\u001b[0;34m\u001b[0m\u001b[0;34m\u001b[0m\u001b[0m\n",
      "\u001b[0;31mAttributeError\u001b[0m: 'NoneType' object has no attribute 'next'"
     ]
    }
   ],
   "source": [
    "l1, d = remove_duplicates(l)"
   ]
  },
  {
   "cell_type": "code",
   "execution_count": 124,
   "metadata": {},
   "outputs": [
    {
     "name": "stdout",
     "output_type": "stream",
     "text": [
      "1 -> 3 -> 2 -> 9 -> 8 -> 5 -> 4 -> 0 -> 2 -> 8 -> 5 -> 4 -> 2 -> 0 -> None\n"
     ]
    }
   ],
   "source": [
    "print(l1)"
   ]
  },
  {
   "cell_type": "code",
   "execution_count": 84,
   "metadata": {},
   "outputs": [
    {
     "data": {
      "text/plain": [
       "{1: 1, 3: 1, 2: 5, 9: 1, 8: 1, 5: 1, 4: 1}"
      ]
     },
     "execution_count": 84,
     "metadata": {},
     "output_type": "execute_result"
    }
   ],
   "source": [
    "d"
   ]
  },
  {
   "cell_type": "code",
   "execution_count": 46,
   "metadata": {},
   "outputs": [
    {
     "name": "stdout",
     "output_type": "stream",
     "text": [
      "3\n",
      "2\n",
      "9\n",
      "8\n",
      "5\n",
      "4\n",
      "2\n",
      "0\n",
      "None\n"
     ]
    }
   ],
   "source": [
    "for _ in l:\n",
    "    print(_[1])"
   ]
  },
  {
   "cell_type": "code",
   "execution_count": null,
   "metadata": {},
   "outputs": [],
   "source": []
  }
 ],
 "metadata": {
  "kernelspec": {
   "display_name": "Python 3",
   "language": "python",
   "name": "python3"
  },
  "language_info": {
   "codemirror_mode": {
    "name": "ipython",
    "version": 3
   },
   "file_extension": ".py",
   "mimetype": "text/x-python",
   "name": "python",
   "nbconvert_exporter": "python",
   "pygments_lexer": "ipython3",
   "version": "3.7.7"
  }
 },
 "nbformat": 4,
 "nbformat_minor": 4
}
