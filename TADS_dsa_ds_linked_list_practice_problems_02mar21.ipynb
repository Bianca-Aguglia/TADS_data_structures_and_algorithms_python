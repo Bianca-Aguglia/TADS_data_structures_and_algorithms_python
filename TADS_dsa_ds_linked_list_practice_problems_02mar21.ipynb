{
 "cells": [
  {
   "cell_type": "markdown",
   "metadata": {},
   "source": [
    "# Linked lists - practice problems\n",
    "---"
   ]
  },
  {
   "cell_type": "code",
   "execution_count": 1,
   "metadata": {},
   "outputs": [],
   "source": [
    "import ds_linked_list as dll"
   ]
  },
  {
   "cell_type": "markdown",
   "metadata": {},
   "source": [
    "**Contents**\n",
    "1. remove duplicates (CTCI)\n",
    "2. return *k*th to last (CTCI)\n",
    "3. delete node - single point of entry (CTCI)\n",
    "4. partition (CTCI)\n",
    "5. sum lists (CTCI)"
   ]
  },
  {
   "cell_type": "markdown",
   "metadata": {},
   "source": [
    "## 1. Remove duplicates\n",
    "Remove duplicates from linked list.  "
   ]
  },
  {
   "cell_type": "code",
   "execution_count": 2,
   "metadata": {},
   "outputs": [],
   "source": [
    "def remove_duplicates(linked_list):\n",
    "    list_elems = {}\n",
    "    cur_node = linked_list.head\n",
    "    prev_node = None\n",
    "    while cur_node:\n",
    "        if cur_node.value in list_elems:\n",
    "            list_elems[cur_node.value] += 1\n",
    "            prev_node.next = cur_node.next\n",
    "        else:\n",
    "            list_elems[cur_node.value] = 1\n",
    "            prev_node = cur_node\n",
    "        cur_node = cur_node.next\n",
    "    return linked_list, list_elems"
   ]
  },
  {
   "cell_type": "code",
   "execution_count": 3,
   "metadata": {},
   "outputs": [
    {
     "data": {
      "text/plain": [
       "1 -> 1 -> 1 -> 3 -> 2 -> 4 -> 1 -> 2 -> 9 -> 8 -> 2 -> 5 -> 2 -> 4 -> 2 -> 2 -> 0 -> 0 -> None"
      ]
     },
     "execution_count": 3,
     "metadata": {},
     "output_type": "execute_result"
    }
   ],
   "source": [
    "l = dll.LinkedList(list('111324129825242200'))\n",
    "l"
   ]
  },
  {
   "cell_type": "code",
   "execution_count": 4,
   "metadata": {},
   "outputs": [
    {
     "name": "stdout",
     "output_type": "stream",
     "text": [
      "1 -> 3 -> 2 -> 4 -> 9 -> 8 -> 5 -> 0 -> None\n",
      "1 -> 3 -> 2 -> 4 -> 9 -> 8 -> 5 -> 0 -> None\n"
     ]
    },
    {
     "data": {
      "text/plain": [
       "{'1': 4, '3': 1, '2': 6, '4': 2, '9': 1, '8': 1, '5': 1, '0': 2}"
      ]
     },
     "execution_count": 4,
     "metadata": {},
     "output_type": "execute_result"
    }
   ],
   "source": [
    "l1, d = remove_duplicates(l)\n",
    "print(l1)\n",
    "print(l)\n",
    "d"
   ]
  },
  {
   "cell_type": "markdown",
   "metadata": {},
   "source": [
    "**Variation:** remove duplicates without using a temporary buffer. This means time complexity changes from O(n) to O(n**2)"
   ]
  },
  {
   "cell_type": "code",
   "execution_count": 5,
   "metadata": {},
   "outputs": [],
   "source": [
    "def remove_duplicates_without_buffer(linked_list):\n",
    "    cur_node = linked_list.head\n",
    "    while cur_node:\n",
    "        runner = cur_node\n",
    "        while runner.next:\n",
    "            if runner.next.value == cur_node.value:\n",
    "                runner.next = runner.next.next\n",
    "            else:\n",
    "                runner = runner.next\n",
    "        cur_node = cur_node.next"
   ]
  },
  {
   "cell_type": "code",
   "execution_count": 6,
   "metadata": {},
   "outputs": [],
   "source": [
    "l2 = dll.LinkedList(list('111324129825242200'))\n",
    "l3 = dll.LinkedList(list('111324129825242200'))"
   ]
  },
  {
   "cell_type": "code",
   "execution_count": 7,
   "metadata": {},
   "outputs": [
    {
     "name": "stdout",
     "output_type": "stream",
     "text": [
      "CPU times: user 12 µs, sys: 1 µs, total: 13 µs\n",
      "Wall time: 15 µs\n"
     ]
    },
    {
     "data": {
      "text/plain": [
       "(1 -> 3 -> 2 -> 4 -> 9 -> 8 -> 5 -> 0 -> None,\n",
       " {'1': 4, '3': 1, '2': 6, '4': 2, '9': 1, '8': 1, '5': 1, '0': 2})"
      ]
     },
     "execution_count": 7,
     "metadata": {},
     "output_type": "execute_result"
    }
   ],
   "source": [
    "%%time\n",
    "remove_duplicates(l2)"
   ]
  },
  {
   "cell_type": "code",
   "execution_count": 8,
   "metadata": {},
   "outputs": [
    {
     "name": "stdout",
     "output_type": "stream",
     "text": [
      "CPU times: user 18 µs, sys: 10 µs, total: 28 µs\n",
      "Wall time: 17.9 µs\n"
     ]
    }
   ],
   "source": [
    "%%time\n",
    "remove_duplicates_without_buffer(l3)"
   ]
  },
  {
   "cell_type": "code",
   "execution_count": 9,
   "metadata": {},
   "outputs": [
    {
     "data": {
      "text/plain": [
       "1 -> 3 -> 2 -> 4 -> 9 -> 8 -> 5 -> 0 -> None"
      ]
     },
     "execution_count": 9,
     "metadata": {},
     "output_type": "execute_result"
    }
   ],
   "source": [
    "l3"
   ]
  },
  {
   "cell_type": "code",
   "execution_count": null,
   "metadata": {},
   "outputs": [],
   "source": []
  },
  {
   "cell_type": "markdown",
   "metadata": {},
   "source": [
    "## 2. Return *k*th to last\n",
    "Find the *k*th to last element in a singly linked list. (In CTCI, k = 1 returns last element. In other online examples, k = 1 returns the element before last. In my implementation, I follow the CTCI approach.)\n",
    "  \n",
    "**Example:**    \n",
    "Input: \n",
    "- 1 -> 3 -> 7 -> None\n",
    "- k = 1  \n",
    "Output : 7  \n",
    "\n",
    "Input: \n",
    "- 1 -> 3 -> 7 -> None\n",
    "- k = 2  \n",
    "Output : 3   \n"
   ]
  },
  {
   "cell_type": "code",
   "execution_count": 10,
   "metadata": {},
   "outputs": [],
   "source": [
    "def find_kth_to_last(linked_list, k):\n",
    "    cur_node = linked_list.head\n",
    "    k_last = linked_list.head\n",
    "    k_lag = 0\n",
    "    while cur_node and k_lag < k:\n",
    "        cur_node = cur_node.next\n",
    "        k_lag += 1\n",
    "    if k_lag < k:\n",
    "        return f'list is only {k_lag} elements long'\n",
    "    while cur_node:\n",
    "        cur_node = cur_node.next\n",
    "        k_last = k_last.next\n",
    "    return k_last.value\n",
    "        \n",
    "    "
   ]
  },
  {
   "cell_type": "code",
   "execution_count": 11,
   "metadata": {},
   "outputs": [
    {
     "data": {
      "text/plain": [
       "'1'"
      ]
     },
     "execution_count": 11,
     "metadata": {},
     "output_type": "execute_result"
    }
   ],
   "source": [
    "k = find_kth_to_last(l3, 8)\n",
    "k"
   ]
  },
  {
   "cell_type": "code",
   "execution_count": 12,
   "metadata": {},
   "outputs": [
    {
     "data": {
      "text/plain": [
       "'1'"
      ]
     },
     "execution_count": 12,
     "metadata": {},
     "output_type": "execute_result"
    }
   ],
   "source": [
    "k"
   ]
  },
  {
   "cell_type": "markdown",
   "metadata": {},
   "source": [
    "## 3. Delete inside node\n",
    "Delete a node inside a linked list (i.e. not first, not last node) given only access to that node."
   ]
  },
  {
   "cell_type": "code",
   "execution_count": 13,
   "metadata": {},
   "outputs": [],
   "source": [
    "# note: this solution is wrong\n",
    "# i misunderstood the condition that access is given only to node to be deleted, not to list head\n",
    "def delete_inside(linked_list, value):\n",
    "    is_node = False\n",
    "    cur_node = linked_list.head\n",
    "    while cur_node.next.next:\n",
    "        if str(cur_node.next.value) == str(value):\n",
    "            cur_node.next = cur_node.next.next\n",
    "            is_node = True\n",
    "        cur_node = cur_node.next\n",
    "    return f'{value} removed' if is_node else f'{value} is not in list'"
   ]
  },
  {
   "cell_type": "code",
   "execution_count": 14,
   "metadata": {},
   "outputs": [
    {
     "data": {
      "text/plain": [
       "1 -> 3 -> 2 -> 4 -> 9 -> 8 -> 5 -> 0 -> None"
      ]
     },
     "execution_count": 14,
     "metadata": {},
     "output_type": "execute_result"
    }
   ],
   "source": [
    "l2"
   ]
  },
  {
   "cell_type": "code",
   "execution_count": 15,
   "metadata": {},
   "outputs": [
    {
     "data": {
      "text/plain": [
       "'7 is not in list'"
      ]
     },
     "execution_count": 15,
     "metadata": {},
     "output_type": "execute_result"
    }
   ],
   "source": [
    "delete_inside(l2, 7)"
   ]
  },
  {
   "cell_type": "code",
   "execution_count": 16,
   "metadata": {},
   "outputs": [
    {
     "data": {
      "text/plain": [
       "'9 removed'"
      ]
     },
     "execution_count": 16,
     "metadata": {},
     "output_type": "execute_result"
    }
   ],
   "source": [
    "delete_inside(l2, 9)"
   ]
  },
  {
   "cell_type": "code",
   "execution_count": 17,
   "metadata": {},
   "outputs": [
    {
     "data": {
      "text/plain": [
       "1 -> 3 -> 2 -> 4 -> 8 -> 5 -> 0 -> None"
      ]
     },
     "execution_count": 17,
     "metadata": {},
     "output_type": "execute_result"
    }
   ],
   "source": [
    "l2"
   ]
  },
  {
   "cell_type": "code",
   "execution_count": 18,
   "metadata": {},
   "outputs": [],
   "source": [
    "# correct solution (access given only to node to be removed)\n",
    "def delete_node(node):\n",
    "    node.value, node.next = node.next.value, node.next.next"
   ]
  },
  {
   "cell_type": "markdown",
   "metadata": {},
   "source": [
    "## 4. Partition\n",
    "Partition a linked list around a value *x*, such that all nodes less than *x* come before all the nodes greater than or equal to *x*.  \n",
    "  \n",
    "**Example:**  \n",
    "  \n",
    "**Input:**   3 -> 5 -> 8 -> 5 -> 10 -> 2 -> 1 -> None  \n",
    "**Output:**  3 -> 1 -> 2   ->   10 -> 5 -> 5 -> 8"
   ]
  },
  {
   "cell_type": "markdown",
   "metadata": {},
   "source": [
    "### Version 1: return two lists"
   ]
  },
  {
   "cell_type": "code",
   "execution_count": 19,
   "metadata": {},
   "outputs": [],
   "source": [
    "def partition_list_1(linked_list, value):\n",
    "    smaller = dll.LinkedList()\n",
    "    larger = dll.LinkedList()\n",
    "    cur_node = linked_list.head\n",
    "    while cur_node:\n",
    "        if cur_node.value < value:\n",
    "            smaller.append(cur_node.value)\n",
    "        else:\n",
    "            larger.append(cur_node.value)\n",
    "        cur_node = cur_node.next\n",
    "    return smaller, larger"
   ]
  },
  {
   "cell_type": "code",
   "execution_count": 20,
   "metadata": {},
   "outputs": [
    {
     "data": {
      "text/plain": [
       "3 -> 5 -> 8 -> 5 -> 10 -> 2 -> 1 -> None"
      ]
     },
     "execution_count": 20,
     "metadata": {},
     "output_type": "execute_result"
    }
   ],
   "source": [
    "l = dll.LinkedList([3,5,8,5,10,2,1])\n",
    "l"
   ]
  },
  {
   "cell_type": "code",
   "execution_count": 21,
   "metadata": {},
   "outputs": [
    {
     "name": "stdout",
     "output_type": "stream",
     "text": [
      "3 -> 2 -> 1 -> None\n",
      "5 -> 8 -> 5 -> 10 -> None\n"
     ]
    }
   ],
   "source": [
    "l1, l2 = partition_list_1(l, 5)\n",
    "print(l1)\n",
    "print(l2)"
   ]
  },
  {
   "cell_type": "markdown",
   "metadata": {},
   "source": [
    "### Version 2: use prepend and append"
   ]
  },
  {
   "cell_type": "code",
   "execution_count": 22,
   "metadata": {},
   "outputs": [],
   "source": [
    "def partition_list_2(linked_list, value):\n",
    "    partitioned = dll.LinkedList()\n",
    "    cur_node = linked_list.head\n",
    "    while cur_node:\n",
    "        if cur_node.value < value:\n",
    "            partitioned.prepend(cur_node.value)\n",
    "        else:\n",
    "            partitioned.append(cur_node.value)\n",
    "        cur_node = cur_node.next\n",
    "    return partitioned"
   ]
  },
  {
   "cell_type": "code",
   "execution_count": 23,
   "metadata": {},
   "outputs": [
    {
     "data": {
      "text/plain": [
       "3 -> 5 -> 8 -> 5 -> 10 -> 2 -> 1 -> None"
      ]
     },
     "execution_count": 23,
     "metadata": {},
     "output_type": "execute_result"
    }
   ],
   "source": [
    "l = dll.LinkedList([3,5,8,5,10,2,1])\n",
    "l"
   ]
  },
  {
   "cell_type": "code",
   "execution_count": 24,
   "metadata": {},
   "outputs": [
    {
     "data": {
      "text/plain": [
       "1 -> 2 -> 3 -> 5 -> 8 -> 5 -> 10 -> None"
      ]
     },
     "execution_count": 24,
     "metadata": {},
     "output_type": "execute_result"
    }
   ],
   "source": [
    "partition_list_2(l, 5)"
   ]
  },
  {
   "cell_type": "markdown",
   "metadata": {},
   "source": [
    "### Version 3: return merged"
   ]
  },
  {
   "cell_type": "code",
   "execution_count": 25,
   "metadata": {},
   "outputs": [],
   "source": [
    "def partition_list_3(linked_list, value):\n",
    "    smaller = dll.LinkedList()\n",
    "    larger = dll.LinkedList()\n",
    "    smaller_last = None\n",
    "    cur_node = linked_list.head\n",
    "    while cur_node:\n",
    "        if cur_node.value < value:\n",
    "            smaller.append(cur_node.value)\n",
    "            if smaller_last:\n",
    "                smaller_last = smaller_last.next\n",
    "            else:\n",
    "                smaller_last = smaller.head\n",
    "        else:\n",
    "            larger.append(cur_node.value)\n",
    "        cur_node = cur_node.next\n",
    "    smaller_last.next = larger.head\n",
    "        \n",
    "    return smaller"
   ]
  },
  {
   "cell_type": "code",
   "execution_count": 26,
   "metadata": {},
   "outputs": [
    {
     "data": {
      "text/plain": [
       "3 -> 5 -> 8 -> 5 -> 10 -> 2 -> 1 -> None"
      ]
     },
     "execution_count": 26,
     "metadata": {},
     "output_type": "execute_result"
    }
   ],
   "source": [
    "l = dll.LinkedList([3,5,8,5,10,2,1])\n",
    "l"
   ]
  },
  {
   "cell_type": "code",
   "execution_count": 27,
   "metadata": {},
   "outputs": [
    {
     "data": {
      "text/plain": [
       "3 -> 2 -> 1 -> 5 -> 8 -> 5 -> 10 -> None"
      ]
     },
     "execution_count": 27,
     "metadata": {},
     "output_type": "execute_result"
    }
   ],
   "source": [
    "partition_list_3(l, 5)"
   ]
  },
  {
   "cell_type": "markdown",
   "metadata": {},
   "source": [
    "## 5. Sum lists\n",
    "Sum two numbers - each represented by a linked list where each node represents a digit. The digits are stored in reverse order (eg. 716 is 6 -> 1 -> 7). Repeat the problem if the digits are stored in forward order. (Solution can't be to convert the linked list to integer.)"
   ]
  },
  {
   "cell_type": "markdown",
   "metadata": {},
   "source": [
    "### 5.1. Lists are stored in reverse order"
   ]
  },
  {
   "cell_type": "code",
   "execution_count": 28,
   "metadata": {},
   "outputs": [],
   "source": [
    "def sum_reversed(list_1, list_2):\n",
    "    result = dll.LinkedList()\n",
    "    term_1 = list_1.head\n",
    "    term_2 = list_2.head\n",
    "    carry_over = 0\n",
    "    while term_1 or term_2 or carry_over:\n",
    "        t1 = int(term_1.value) if term_1 else 0\n",
    "        t2 = int(term_2.value) if term_2 else 0\n",
    "        ones = (t1 + t2 + carry_over) % 10\n",
    "        carry_over = (t1 + t2 + carry_over) // 10\n",
    "        result.append(ones)\n",
    "        term_1 = term_1.next if term_1 else 0\n",
    "        term_2 = term_2.next if term_2 else 0\n",
    "    return result"
   ]
  },
  {
   "cell_type": "code",
   "execution_count": 29,
   "metadata": {},
   "outputs": [
    {
     "data": {
      "text/plain": [
       "5 -> 3 -> 8 -> None"
      ]
     },
     "execution_count": 29,
     "metadata": {},
     "output_type": "execute_result"
    }
   ],
   "source": [
    "l1 = dll.LinkedList(list('687'))\n",
    "l2 = dll.LinkedList(list('94'))\n",
    "sum_reversed(l1, l2)"
   ]
  },
  {
   "cell_type": "code",
   "execution_count": 30,
   "metadata": {},
   "outputs": [
    {
     "data": {
      "text/plain": [
       "7 -> 0 -> 7 -> 9 -> None"
      ]
     },
     "execution_count": 30,
     "metadata": {},
     "output_type": "execute_result"
    }
   ],
   "source": [
    "l1 = dll.LinkedList(list('607'))\n",
    "l2 = dll.LinkedList(list('1009'))\n",
    "sum_reversed(l1, l2)"
   ]
  },
  {
   "cell_type": "markdown",
   "metadata": {},
   "source": [
    "### 5.2. Lists are stored in forward order"
   ]
  },
  {
   "cell_type": "markdown",
   "metadata": {},
   "source": [
    "**Version 1:** reverse the lists and use sum_reversed() to add them. :-)"
   ]
  },
  {
   "cell_type": "code",
   "execution_count": null,
   "metadata": {},
   "outputs": [],
   "source": [
    "def sum_forward(list_1, list_2):\n",
    "    list_1.reverse()\n",
    "    list_2.reverse()\n",
    "    result = sum_reversed(list_1, list_2)\n",
    "    result.reverse()\n",
    "    return result"
   ]
  },
  {
   "cell_type": "code",
   "execution_count": 48,
   "metadata": {},
   "outputs": [
    {
     "name": "stdout",
     "output_type": "stream",
     "text": [
      "6 -> 0 -> 7 -> None\n",
      "1 -> 0 -> 0 -> 9 -> None\n"
     ]
    },
    {
     "data": {
      "text/plain": [
       "1 -> 6 -> 1 -> 6 -> None"
      ]
     },
     "execution_count": 48,
     "metadata": {},
     "output_type": "execute_result"
    }
   ],
   "source": [
    "l1 = dll.LinkedList(list('607'))\n",
    "l2 = dll.LinkedList(list('1009'))\n",
    "print(l1)\n",
    "print(l2)\n",
    "sum_forward(l1, l2)"
   ]
  },
  {
   "cell_type": "markdown",
   "metadata": {},
   "source": [
    "**Version 2:** pad the shorter list with 0, then add the lists"
   ]
  },
  {
   "cell_type": "code",
   "execution_count": 54,
   "metadata": {},
   "outputs": [],
   "source": [
    "def pad_lists(list_1, list_2):\n",
    "    '''\n",
    "    Given two linked lists, (if applicable) pad the shorter one with 0s.\n",
    "    '''\n",
    "    cur_1 = list_1.head\n",
    "    cur_2 = list_2.head\n",
    "    while cur_1 and cur_2:\n",
    "        cur_1, cur_2 = cur_1.next, cur_2.next\n",
    "    if cur_1:\n",
    "        while cur_1:\n",
    "            list_2.prepend(0)\n",
    "            cur_1 = cur_1.next\n",
    "    elif cur_2:\n",
    "        while cur_2:\n",
    "            list_1.prepend(0)\n",
    "            cur_2 = cur_2.next\n",
    "    return list_1, list_2"
   ]
  },
  {
   "cell_type": "code",
   "execution_count": 55,
   "metadata": {},
   "outputs": [
    {
     "name": "stdout",
     "output_type": "stream",
     "text": [
      "0 -> 6 -> 0 -> 7 -> None\n",
      "1 -> 0 -> 0 -> 9 -> None\n"
     ]
    }
   ],
   "source": [
    "l1 = dll.LinkedList(list('607'))\n",
    "l2 = dll.LinkedList(list('1009'))\n",
    "pad_lists(l1, l2)\n",
    "print(l1)\n",
    "print(l2)"
   ]
  },
  {
   "cell_type": "code",
   "execution_count": 56,
   "metadata": {},
   "outputs": [],
   "source": [
    "def sum_nodes(node_1, node_2, carry = 0):\n",
    "    term_1 = int(node_1.value) if node_1 else 0\n",
    "    term_2 = int(node_2.value) if node_2 else 0\n",
    "    ones = (term_1 + term_2 + carry) % 10\n",
    "    carry = (term_1 + term_2 + carry) // 10\n",
    "    return ones, carry\n",
    "    "
   ]
  },
  {
   "cell_type": "code",
   "execution_count": 76,
   "metadata": {},
   "outputs": [],
   "source": [
    "def sum_recursive(list_1, list_2):\n",
    "    result = dll.LinkedList()\n",
    "    pad_lists(list_1, list_2)\n",
    "    cur_1, cur_2 = list_1.head, list_2.head\n",
    "    carry = 0\n",
    "    while cur_1 or cur_2 or carry:\n",
    "        ones, carry = sum_nodes(cur_1, cur_2, carry)\n",
    "        result.append(ones)\n",
    "        cur_1 = cur_1.next if cur_1 else 0\n",
    "        cur_2 = cur_2.next if cur_2 else 0\n",
    "    return result\n",
    "        "
   ]
  },
  {
   "cell_type": "code",
   "execution_count": 77,
   "metadata": {},
   "outputs": [
    {
     "data": {
      "text/plain": [
       "1 -> 6 -> 0 -> 6 -> 1 -> None"
      ]
     },
     "execution_count": 77,
     "metadata": {},
     "output_type": "execute_result"
    }
   ],
   "source": [
    "l1 = dll.LinkedList(list('607'))\n",
    "l2 = dll.LinkedList(list('1009'))\n",
    "sum_recursive(l1, l2)"
   ]
  },
  {
   "cell_type": "code",
   "execution_count": null,
   "metadata": {},
   "outputs": [],
   "source": []
  },
  {
   "cell_type": "markdown",
   "metadata": {},
   "source": [
    "## 6. Palindrome\n",
    "Check if a linked list is a palindrome."
   ]
  },
  {
   "cell_type": "code",
   "execution_count": null,
   "metadata": {},
   "outputs": [],
   "source": [
    "def is_palindrome(linked_list):\n",
    "    first = linked_list.head\n",
    "    last = linked_list.head\n",
    "    while last.next:\n",
    "        last = last.next\n",
    "    while first.next and first != last:\n",
    "        if first.value != last.value:\n",
    "            return False\n",
    "        first, last"
   ]
  },
  {
   "cell_type": "code",
   "execution_count": null,
   "metadata": {},
   "outputs": [],
   "source": []
  },
  {
   "cell_type": "code",
   "execution_count": null,
   "metadata": {},
   "outputs": [],
   "source": []
  },
  {
   "cell_type": "markdown",
   "metadata": {},
   "source": [
    "## Reverse list\n",
    "Reverse a linked list."
   ]
  },
  {
   "cell_type": "code",
   "execution_count": null,
   "metadata": {},
   "outputs": [],
   "source": [
    "def reverse(linked_list):\n",
    "    prev = None\n",
    "    cur = linked_list.head\n",
    "    while cur.next:\n",
    "        cur.next, cur, prev = prev, cur.next, cur\n",
    "    linked_list.head = cur\n",
    "    cur.next = prev\n",
    "    return linked_list"
   ]
  },
  {
   "cell_type": "code",
   "execution_count": null,
   "metadata": {},
   "outputs": [],
   "source": [
    "l = dll.LinkedList(list('35870435'))\n",
    "reverse(l)"
   ]
  },
  {
   "cell_type": "code",
   "execution_count": null,
   "metadata": {},
   "outputs": [],
   "source": [
    "l"
   ]
  },
  {
   "cell_type": "code",
   "execution_count": null,
   "metadata": {},
   "outputs": [],
   "source": []
  }
 ],
 "metadata": {
  "kernelspec": {
   "display_name": "Python 3",
   "language": "python",
   "name": "python3"
  },
  "language_info": {
   "codemirror_mode": {
    "name": "ipython",
    "version": 3
   },
   "file_extension": ".py",
   "mimetype": "text/x-python",
   "name": "python",
   "nbconvert_exporter": "python",
   "pygments_lexer": "ipython3",
   "version": "3.7.7"
  }
 },
 "nbformat": 4,
 "nbformat_minor": 4
}
