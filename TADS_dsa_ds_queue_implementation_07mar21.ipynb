{
 "cells": [
  {
   "cell_type": "markdown",
   "metadata": {},
   "source": [
    "# Queue - Python implementation\n",
    "---\n",
    "**Goal:** implement a queue data structure in Python."
   ]
  },
  {
   "cell_type": "code",
   "execution_count": 20,
   "metadata": {},
   "outputs": [],
   "source": [
    "import random"
   ]
  },
  {
   "cell_type": "code",
   "execution_count": 80,
   "metadata": {},
   "outputs": [],
   "source": [
    "class Node:\n",
    "    def __init__(self, value):\n",
    "        self.value = value\n",
    "        self.next = None\n",
    "        \n",
    "    def __repr__(self):\n",
    "        return f'Node({self.value})'\n",
    "    \n",
    "    def __str__(self):\n",
    "        try:\n",
    "            return f'Node(value: {self.value}, next: {self.next.value})'\n",
    "        except:\n",
    "            return f'Node(value: {self.value}, next: None)'"
   ]
  },
  {
   "cell_type": "code",
   "execution_count": 90,
   "metadata": {},
   "outputs": [],
   "source": [
    "class Queue:\n",
    "    def __init__(self, value=None):\n",
    "        if value:\n",
    "            self.front = self.rear = Node(value)\n",
    "        else:\n",
    "            self.front = self.rear = None\n",
    "            \n",
    "    def enqueue(self, value):\n",
    "        node = Node(value)\n",
    "        \n",
    "        if self.rear == None:\n",
    "            self.front = self.rear = node\n",
    "            return\n",
    "        \n",
    "        self.rear.next = node\n",
    "        self.rear = node\n",
    "        \n",
    "    def dequeue(self):\n",
    "        if self.is_empty():\n",
    "            return 'queue is empty'\n",
    "        \n",
    "        dequeued = self.front.value\n",
    "        self.front = self.front.next\n",
    "        \n",
    "        if self.is_empty():\n",
    "            self.rear = None\n",
    "            \n",
    "        return dequeued\n",
    "        \n",
    "    def is_empty(self):\n",
    "        return not self.front\n",
    "    \n",
    "    def __repr__(self):\n",
    "        nodes = []\n",
    "        cur = self.front\n",
    "        while cur:\n",
    "            nodes.append(str(cur.value))\n",
    "            cur = cur.next\n",
    "        nodes.append('None')\n",
    "        nodes.reverse()\n",
    "        return ' <- '.join(nodes)\n",
    "    \n",
    "    def __str__(self):\n",
    "        nodes = []\n",
    "        cur = self.front\n",
    "        while cur:\n",
    "            nodes.append(str(cur.value))\n",
    "            cur = cur.next\n",
    "        nodes.append('None')\n",
    "        nodes.reverse()\n",
    "        return ' <- '.join(nodes)   "
   ]
  },
  {
   "cell_type": "code",
   "execution_count": 91,
   "metadata": {},
   "outputs": [],
   "source": [
    "q = Queue()"
   ]
  },
  {
   "cell_type": "code",
   "execution_count": 92,
   "metadata": {},
   "outputs": [
    {
     "data": {
      "text/plain": [
       "None"
      ]
     },
     "execution_count": 92,
     "metadata": {},
     "output_type": "execute_result"
    }
   ],
   "source": [
    "q"
   ]
  },
  {
   "cell_type": "code",
   "execution_count": 93,
   "metadata": {},
   "outputs": [
    {
     "name": "stdout",
     "output_type": "stream",
     "text": [
      "None <- 6\n",
      "None <- 3 <- 6\n",
      "None <- 9 <- 3 <- 6\n"
     ]
    }
   ],
   "source": [
    "for i in range(3):\n",
    "    q.enqueue(random.randint(1,10))\n",
    "    print(q)"
   ]
  },
  {
   "cell_type": "code",
   "execution_count": 94,
   "metadata": {},
   "outputs": [
    {
     "name": "stdout",
     "output_type": "stream",
     "text": [
      "6\n",
      "Node(value: 3, next: 9)\n",
      "Node(value: 9, next: None)\n",
      "None <- 9 <- 3\n",
      "\n",
      "3\n",
      "Node(value: 9, next: None)\n",
      "Node(value: 9, next: None)\n",
      "None <- 9\n",
      "\n",
      "9\n",
      "None\n",
      "None\n",
      "None\n",
      "\n",
      "queue is empty\n",
      "None\n",
      "None\n",
      "None\n",
      "\n",
      "queue is empty\n",
      "None\n",
      "None\n",
      "None\n",
      "\n"
     ]
    }
   ],
   "source": [
    "for i in range(5):\n",
    "    print(q.dequeue())\n",
    "    print(q.front)\n",
    "    print(q.rear)\n",
    "    print(q)\n",
    "    \n",
    "    print()"
   ]
  },
  {
   "cell_type": "code",
   "execution_count": 95,
   "metadata": {},
   "outputs": [
    {
     "name": "stdout",
     "output_type": "stream",
     "text": [
      "None\n",
      "None\n"
     ]
    }
   ],
   "source": [
    "print(q.front)\n",
    "print(q.rear)"
   ]
  },
  {
   "cell_type": "code",
   "execution_count": 102,
   "metadata": {},
   "outputs": [
    {
     "data": {
      "text/plain": [
       "[2, 4, 5]"
      ]
     },
     "execution_count": 102,
     "metadata": {},
     "output_type": "execute_result"
    }
   ],
   "source": [
    "l = [2, 5, 4]\n",
    "sorted(l)"
   ]
  },
  {
   "cell_type": "code",
   "execution_count": 103,
   "metadata": {},
   "outputs": [
    {
     "data": {
      "text/plain": [
       "[2, 5, 4]"
      ]
     },
     "execution_count": 103,
     "metadata": {},
     "output_type": "execute_result"
    }
   ],
   "source": [
    "l"
   ]
  },
  {
   "cell_type": "code",
   "execution_count": 104,
   "metadata": {},
   "outputs": [],
   "source": [
    "l.sort()"
   ]
  },
  {
   "cell_type": "code",
   "execution_count": 105,
   "metadata": {},
   "outputs": [
    {
     "data": {
      "text/plain": [
       "[2, 4, 5]"
      ]
     },
     "execution_count": 105,
     "metadata": {},
     "output_type": "execute_result"
    }
   ],
   "source": [
    "l"
   ]
  },
  {
   "cell_type": "code",
   "execution_count": null,
   "metadata": {},
   "outputs": [],
   "source": []
  }
 ],
 "metadata": {
  "kernelspec": {
   "display_name": "Python 3",
   "language": "python",
   "name": "python3"
  },
  "language_info": {
   "codemirror_mode": {
    "name": "ipython",
    "version": 3
   },
   "file_extension": ".py",
   "mimetype": "text/x-python",
   "name": "python",
   "nbconvert_exporter": "python",
   "pygments_lexer": "ipython3",
   "version": "3.7.7"
  }
 },
 "nbformat": 4,
 "nbformat_minor": 4
}
