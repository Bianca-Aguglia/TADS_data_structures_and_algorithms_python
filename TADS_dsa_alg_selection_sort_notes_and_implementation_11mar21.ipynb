{
 "cells": [
  {
   "cell_type": "markdown",
   "metadata": {},
   "source": [
    "# Selection sort\n",
    "---\n",
    "**Selection sort** is an in-place sorting algorithm. It takes as input an array and virtually divides it into two parts: a sorted part, which is initially empty and is placed at the beginning of the array, and an unsorted part, which follows the sorted part and is initally the entire array. The algorithm then builds up the sorted array, from left to right, by repeatedly passing over the unsorted array, selecting the smallest value it finds, swappinng that value with the leftmost value in the unsorted array, and moving up by one the right bound of the sorted array."
   ]
  },
  {
   "cell_type": "markdown",
   "metadata": {},
   "source": [
    "**Contents**\n",
    "- [General notes](#notes)\n",
    "- [Implementation](#implementation)\n",
    "- [References](#references)"
   ]
  },
  {
   "cell_type": "markdown",
   "metadata": {},
   "source": [
    "## General notes"
   ]
  },
  {
   "cell_type": "markdown",
   "metadata": {},
   "source": [
    "## Implementation"
   ]
  },
  {
   "cell_type": "code",
   "execution_count": 22,
   "metadata": {},
   "outputs": [],
   "source": [
    "def selection_sort(array):\n",
    "    for i in range(len(array)):\n",
    "        smallest = array[i]\n",
    "        idx = i\n",
    "        for j in range(i + 1, len(array)):\n",
    "            if array[j] < smallest:\n",
    "                smallest = array[j]\n",
    "                idx = j\n",
    "        if smallest < array[i]:\n",
    "            array[i], array[idx] = smallest, array[i]\n",
    "    return array\n",
    "            "
   ]
  },
  {
   "cell_type": "code",
   "execution_count": 20,
   "metadata": {},
   "outputs": [],
   "source": [
    "# selection sort using GeeksforGeeks example\n",
    "def selection_sort_geeks(array):\n",
    "    for i in range(len(array)):\n",
    "        index_smallest = i\n",
    "        for j in range(i+1, len(array)):\n",
    "            if array[j] < array[index_smallest]:\n",
    "                index_smallest = j\n",
    "        if i != index_smallest:\n",
    "            array[i], array[index_smallest] = array[index_smallest], array[i]\n",
    "    return array\n",
    "    "
   ]
  },
  {
   "cell_type": "code",
   "execution_count": 28,
   "metadata": {},
   "outputs": [],
   "source": [
    "def selection_sort_show_steps(array):\n",
    "    for i in range(len(array)):\n",
    "        temp_array = array.copy()\n",
    "        index_smallest = i\n",
    "        for j in range(i + 1, len(array)):\n",
    "            if array[j] < array[index_smallest]:\n",
    "                index_smallest = j\n",
    "        # if index_smallest changed\n",
    "        min_start, min_end = array[i], array[index_smallest]\n",
    "        if i != index_smallest:\n",
    "            array[i], array[index_smallest] = array[index_smallest], array[i]\n",
    "        print(f'Pass {i}, min_start: {min_start}, min_end: {min_end}: {temp_array} --> {array}')\n",
    "    return array"
   ]
  },
  {
   "cell_type": "code",
   "execution_count": 23,
   "metadata": {},
   "outputs": [
    {
     "data": {
      "text/plain": [
       "[1, 3, 4, 5, 7]"
      ]
     },
     "execution_count": 23,
     "metadata": {},
     "output_type": "execute_result"
    }
   ],
   "source": [
    "array = [7, 5, 3, 1, 4]\n",
    "selection_sort(array)"
   ]
  },
  {
   "cell_type": "code",
   "execution_count": 21,
   "metadata": {},
   "outputs": [
    {
     "data": {
      "text/plain": [
       "[1, 3, 4, 5, 7]"
      ]
     },
     "execution_count": 21,
     "metadata": {},
     "output_type": "execute_result"
    }
   ],
   "source": [
    "array = [7, 5, 3, 1, 4]\n",
    "selection_sort_geeks(array)"
   ]
  },
  {
   "cell_type": "code",
   "execution_count": 29,
   "metadata": {},
   "outputs": [
    {
     "name": "stdout",
     "output_type": "stream",
     "text": [
      "Pass 0, min_start: 7, min_end: 1: [7, 5, 3, 1, 4] --> [1, 5, 3, 7, 4]\n",
      "Pass 1, min_start: 5, min_end: 3: [1, 5, 3, 7, 4] --> [1, 3, 5, 7, 4]\n",
      "Pass 2, min_start: 5, min_end: 4: [1, 3, 5, 7, 4] --> [1, 3, 4, 7, 5]\n",
      "Pass 3, min_start: 7, min_end: 5: [1, 3, 4, 7, 5] --> [1, 3, 4, 5, 7]\n",
      "Pass 4, min_start: 7, min_end: 7: [1, 3, 4, 5, 7] --> [1, 3, 4, 5, 7]\n"
     ]
    },
    {
     "data": {
      "text/plain": [
       "[1, 3, 4, 5, 7]"
      ]
     },
     "execution_count": 29,
     "metadata": {},
     "output_type": "execute_result"
    }
   ],
   "source": [
    "array = [7, 5, 3, 1, 4]\n",
    "selection_sort_show_steps(array)"
   ]
  },
  {
   "cell_type": "markdown",
   "metadata": {},
   "source": [
    "## References <a id='references'></a>\n",
    "- [Wikipedia article on selection sort](https://en.wikipedia.org/wiki/Selection_sort)\n",
    "- [GeeksforGeeks article on selection sort](https://www.geeksforgeeks.org/selection-sort/)"
   ]
  },
  {
   "cell_type": "code",
   "execution_count": null,
   "metadata": {},
   "outputs": [],
   "source": []
  }
 ],
 "metadata": {
  "kernelspec": {
   "display_name": "Python 3",
   "language": "python",
   "name": "python3"
  },
  "language_info": {
   "codemirror_mode": {
    "name": "ipython",
    "version": 3
   },
   "file_extension": ".py",
   "mimetype": "text/x-python",
   "name": "python",
   "nbconvert_exporter": "python",
   "pygments_lexer": "ipython3",
   "version": "3.7.7"
  }
 },
 "nbformat": 4,
 "nbformat_minor": 4
}
