{
 "cells": [
  {
   "cell_type": "markdown",
   "metadata": {},
   "source": [
    "# Stack - Python implementation\n",
    "---\n",
    "**Goal:** implement a stack data structure in Python."
   ]
  },
  {
   "cell_type": "code",
   "execution_count": 39,
   "metadata": {},
   "outputs": [],
   "source": [
    "import random"
   ]
  },
  {
   "cell_type": "code",
   "execution_count": 3,
   "metadata": {},
   "outputs": [],
   "source": [
    "class Node:\n",
    "    def __init__(self, value = None):\n",
    "        self.value = value\n",
    "        self.next = None\n",
    "        \n",
    "    def __repr__(self):\n",
    "        return f'Node({self.value})'\n",
    "    \n",
    "    def __str__(self):\n",
    "        if self.next:\n",
    "            return f'Node(value: {self.value}, next: {self.next.value})'\n",
    "        return f'Node(value: {self.value}, next: None)'"
   ]
  },
  {
   "cell_type": "code",
   "execution_count": 80,
   "metadata": {},
   "outputs": [],
   "source": [
    "class Stack:\n",
    "    def __init__(self, value = None):\n",
    "        if value:\n",
    "            self.top = Node(value)\n",
    "        else:\n",
    "            self.top = None\n",
    "        \n",
    "    def __repr__(self):\n",
    "        elements = []\n",
    "        cursor = self.top\n",
    "        while cursor:\n",
    "            if cursor.value:\n",
    "                elements.append(str(cursor.value))\n",
    "            cursor = cursor.next\n",
    "        if elements:\n",
    "            elements.append('None')\n",
    "            return ' -> '.join(elements)\n",
    "        return 'stack is empty'\n",
    "\n",
    "    def __str__(self):\n",
    "        elements = []\n",
    "        cursor = self.top\n",
    "        while cursor:\n",
    "            if cursor.value:\n",
    "                elements.append(str(cursor.value))\n",
    "            cursor = cursor.next\n",
    "        if elements:\n",
    "            elements.append('None')\n",
    "            return ' -> '.join(elements)\n",
    "        return 'stack is empty'\n",
    "\n",
    "    \n",
    "    def push(self, value):\n",
    "        if self.top:\n",
    "            self.top, self.top.next = Node(value), self.top\n",
    "        else:\n",
    "            self.top = Node(value)\n",
    "            \n",
    "    def pop(self):\n",
    "        if self.top:\n",
    "            popped = self.top.value\n",
    "            self.top = self.top.next\n",
    "            return popped\n",
    "        return 'stack is empty'\n",
    "    \n",
    "    def peek(self):\n",
    "        if self.top:\n",
    "            return self.top.value\n",
    "        return 'stack is empty'\n",
    "    \n",
    "    def is_empty(self):\n",
    "        return not self.top"
   ]
  },
  {
   "cell_type": "code",
   "execution_count": 74,
   "metadata": {},
   "outputs": [
    {
     "data": {
      "text/plain": [
       "3 -> 9 -> 5 -> 1 -> 1 -> 6 -> 3 -> 6 -> 7 -> 3 -> None"
      ]
     },
     "execution_count": 74,
     "metadata": {},
     "output_type": "execute_result"
    }
   ],
   "source": [
    "s = Stack()\n",
    "for i in range(10):\n",
    "    s.push(random.randint(1,10))\n",
    "s"
   ]
  },
  {
   "cell_type": "code",
   "execution_count": 75,
   "metadata": {},
   "outputs": [
    {
     "data": {
      "text/plain": [
       "3"
      ]
     },
     "execution_count": 75,
     "metadata": {},
     "output_type": "execute_result"
    }
   ],
   "source": [
    "s.pop()"
   ]
  },
  {
   "cell_type": "code",
   "execution_count": 76,
   "metadata": {},
   "outputs": [
    {
     "data": {
      "text/plain": [
       "Node(9)"
      ]
     },
     "execution_count": 76,
     "metadata": {},
     "output_type": "execute_result"
    }
   ],
   "source": [
    "s.top"
   ]
  },
  {
   "cell_type": "code",
   "execution_count": 77,
   "metadata": {},
   "outputs": [
    {
     "data": {
      "text/plain": [
       "9"
      ]
     },
     "execution_count": 77,
     "metadata": {},
     "output_type": "execute_result"
    }
   ],
   "source": [
    "s.pop()"
   ]
  },
  {
   "cell_type": "code",
   "execution_count": 78,
   "metadata": {},
   "outputs": [
    {
     "data": {
      "text/plain": [
       "Node(5)"
      ]
     },
     "execution_count": 78,
     "metadata": {},
     "output_type": "execute_result"
    }
   ],
   "source": [
    "s.top"
   ]
  },
  {
   "cell_type": "code",
   "execution_count": 79,
   "metadata": {},
   "outputs": [
    {
     "data": {
      "text/plain": [
       "5 -> 1 -> 1 -> 6 -> 3 -> 6 -> 7 -> 3 -> None"
      ]
     },
     "execution_count": 79,
     "metadata": {},
     "output_type": "execute_result"
    }
   ],
   "source": [
    "s"
   ]
  },
  {
   "cell_type": "code",
   "execution_count": 66,
   "metadata": {},
   "outputs": [
    {
     "data": {
      "text/plain": [
       "6"
      ]
     },
     "execution_count": 66,
     "metadata": {},
     "output_type": "execute_result"
    }
   ],
   "source": [
    "s.peek()"
   ]
  },
  {
   "cell_type": "code",
   "execution_count": 67,
   "metadata": {},
   "outputs": [
    {
     "data": {
      "text/plain": [
       "6 -> 3 -> 2 -> 1 -> 2 -> 6 -> 2 -> 9 -> None"
      ]
     },
     "execution_count": 67,
     "metadata": {},
     "output_type": "execute_result"
    }
   ],
   "source": [
    "s"
   ]
  },
  {
   "cell_type": "code",
   "execution_count": 81,
   "metadata": {},
   "outputs": [
    {
     "data": {
      "text/plain": [
       "False"
      ]
     },
     "execution_count": 81,
     "metadata": {},
     "output_type": "execute_result"
    }
   ],
   "source": [
    "s.is_empty()"
   ]
  },
  {
   "cell_type": "code",
   "execution_count": 82,
   "metadata": {},
   "outputs": [
    {
     "data": {
      "text/plain": [
       "True"
      ]
     },
     "execution_count": 82,
     "metadata": {},
     "output_type": "execute_result"
    }
   ],
   "source": [
    "s1 = Stack()\n",
    "s1.is_empty()"
   ]
  },
  {
   "cell_type": "code",
   "execution_count": null,
   "metadata": {},
   "outputs": [],
   "source": []
  }
 ],
 "metadata": {
  "kernelspec": {
   "display_name": "Python 3",
   "language": "python",
   "name": "python3"
  },
  "language_info": {
   "codemirror_mode": {
    "name": "ipython",
    "version": 3
   },
   "file_extension": ".py",
   "mimetype": "text/x-python",
   "name": "python",
   "nbconvert_exporter": "python",
   "pygments_lexer": "ipython3",
   "version": "3.7.7"
  }
 },
 "nbformat": 4,
 "nbformat_minor": 4
}
