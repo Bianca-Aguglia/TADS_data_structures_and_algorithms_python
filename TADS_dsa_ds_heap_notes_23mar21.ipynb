{
 "cells": [
  {
   "cell_type": "markdown",
   "metadata": {},
   "source": [
    "# Heap\n",
    "---\n",
    "In computer science, a **heap** is a tree-based data structure which consists of a complete tree (or almost complete tree) that satisfies the heap property: in a *max-heap*, for any given nodes P (parent node) and C (child node), the key of P if greater than or equal to the key of C. In a *min-heap*, the relationship between P and C is reversed: the key of P is less than or equal to the key of C."
   ]
  },
  {
   "cell_type": "code",
   "execution_count": null,
   "metadata": {},
   "outputs": [],
   "source": []
  },
  {
   "cell_type": "markdown",
   "metadata": {},
   "source": [
    "**Contents**\n",
    "- [General notes](#general)\n",
    "- [Main operations](#operations)\n",
    "- [Applications](#applications)\n",
    "- [References](#references)"
   ]
  },
  {
   "cell_type": "markdown",
   "metadata": {},
   "source": [
    "## General notes <a id='general'></a>"
   ]
  },
  {
   "cell_type": "markdown",
   "metadata": {},
   "source": [
    "## Main operations <a id='operations'></a>"
   ]
  },
  {
   "cell_type": "markdown",
   "metadata": {},
   "source": [
    "## Applications <a id='applications'></a>"
   ]
  },
  {
   "cell_type": "markdown",
   "metadata": {},
   "source": [
    "## References\n",
    "- [Wikipedia article on heap](https://en.wikipedia.org/wiki/Heap_(data_structure)"
   ]
  },
  {
   "cell_type": "code",
   "execution_count": null,
   "metadata": {},
   "outputs": [],
   "source": []
  }
 ],
 "metadata": {
  "kernelspec": {
   "display_name": "Python 3",
   "language": "python",
   "name": "python3"
  },
  "language_info": {
   "codemirror_mode": {
    "name": "ipython",
    "version": 3
   },
   "file_extension": ".py",
   "mimetype": "text/x-python",
   "name": "python",
   "nbconvert_exporter": "python",
   "pygments_lexer": "ipython3",
   "version": "3.7.7"
  }
 },
 "nbformat": 4,
 "nbformat_minor": 4
}
