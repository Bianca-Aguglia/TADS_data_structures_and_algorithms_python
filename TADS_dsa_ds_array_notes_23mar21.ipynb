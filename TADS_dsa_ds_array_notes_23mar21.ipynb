{
 "cells": [
  {
   "cell_type": "markdown",
   "metadata": {},
   "source": [
    "# Arrays\n",
    "---\n",
    "In computer science, an **array** is a collection of elements which are stored at contiguous locations in memory and are identified by an index."
   ]
  },
  {
   "cell_type": "markdown",
   "metadata": {},
   "source": [
    "**Contents**\n",
    "- [General notes](#general)\n",
    "- [Main operations](#operations)\n",
    "- [Applications](#applications)\n",
    "- [References](#references)"
   ]
  },
  {
   "cell_type": "markdown",
   "metadata": {},
   "source": [
    "## General notes <a id='general'></a>\n",
    "- can be one-dimensional or multi-dimensional\n",
    "- based on the way they are indexed, arrays can be:\n",
    "    - 0-based indexed (the index of the first element is 0)\n",
    "    - 1-based indexed (the index of the first element is 1)\n",
    "    - n-based indexed (the base index can be freely chosen)"
   ]
  },
  {
   "cell_type": "markdown",
   "metadata": {},
   "source": [
    "## Main operations <a id='operations'></a>\n",
    "- search\n",
    "- insert\n",
    "- delete"
   ]
  },
  {
   "cell_type": "markdown",
   "metadata": {},
   "source": [
    "## Applications <a id='applications'></a>\n",
    "- implement mathematical vectors and matrices\n",
    "- create databases which consist of (or include) one-dimensional arrays. The elements of these arrays are the records of the database.\n",
    "- implement other data structures, such as lists, heaps, hashmaps, queues, stacks, strings, etc.\n",
    "- implement control tables, which can be used to replace multiple `IF` statements when determining the flow of programs. The array may contain subroutine pointers (i.e. pointers to subroutines which can be acted upon by `SWITCH` statements) that direct the execution path of a program."
   ]
  },
  {
   "cell_type": "markdown",
   "metadata": {},
   "source": [
    "## References <a id='references'></a>\n",
    "- [Wkipedia article on arrays](https://en.wikipedia.org/wiki/Array_data_structure)"
   ]
  },
  {
   "cell_type": "code",
   "execution_count": null,
   "metadata": {},
   "outputs": [],
   "source": []
  }
 ],
 "metadata": {
  "kernelspec": {
   "display_name": "Python 3",
   "language": "python",
   "name": "python3"
  },
  "language_info": {
   "codemirror_mode": {
    "name": "ipython",
    "version": 3
   },
   "file_extension": ".py",
   "mimetype": "text/x-python",
   "name": "python",
   "nbconvert_exporter": "python",
   "pygments_lexer": "ipython3",
   "version": "3.7.7"
  }
 },
 "nbformat": 4,
 "nbformat_minor": 4
}
