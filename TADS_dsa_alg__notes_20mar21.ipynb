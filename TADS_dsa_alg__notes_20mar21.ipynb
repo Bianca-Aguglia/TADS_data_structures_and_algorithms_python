{
 "cells": [
  {
   "cell_type": "markdown",
   "metadata": {},
   "source": [
    "# Algorithms <small>(overview)</small>\n",
    "---\n",
    "In computer science, an **algorithm** is a finite, well-defined sequence of computer implementable instructions meant to accomplish a specific task or to solve a specific problem. Given an initial state, the algorithm terminates in a defined end-state. The complete set of instances an algorithm has to work on and the desired output of the algorithm are described in what is called the **algorithmic problem**. The algorithm itself describes the steps for solving the problem."
   ]
  },
  {
   "cell_type": "markdown",
   "metadata": {},
   "source": [
    "**Contents**\n",
    "- [General notes](#notes)\n",
    "- [Expressing algorithms](#expressing_algorithms)\n",
    "- [Classification of algorithm design techniques](#classification_design_techniques)\n",
    "- [The development process](#development_process)\n",
    "- [Resources](#resources)"
   ]
  },
  {
   "cell_type": "markdown",
   "metadata": {},
   "source": [
    "## General notes <a id='notes'></a>\n",
    "- There is a fundamental difference between algorithms and heuristics: algorithms always produce a correct results, heuristics may produce a good result but don't provide any guarantees.\n",
    "- Algorithms that sound reasonable can easily be incorrect. Algorithm correctness is a property that must be carefully demonstrated."
   ]
  },
  {
   "cell_type": "markdown",
   "metadata": {},
   "source": [
    "## Expressing algorithms <a id='expressing_algorithms'></a>\n",
    "Common ways of expressing algorithms are:\n",
    "- *plain English* (or another natural language): tends to be verbose and ambiguous, and is rarely used for complex algorithms\n",
    "- *pseudo-code*, *diagrams*, or *flow charts*: have the benefit of being structured, unambiguous, and language independent\n",
    "- *programming language*: the form that can actually be run by a computer; it is also a common way of documenting algorithms"
   ]
  },
  {
   "cell_type": "markdown",
   "metadata": {},
   "source": [
    "## Classification of algorithm design techniques <a id='classification_design_techniques'></a>\n",
    "Algorithm design techniques can be separated into the following categories:\n",
    "- recursive\n",
    "- brute force\n",
    "- divide and conquer\n",
    "- depth first\n",
    "- breadth first\n",
    "- backtracking\n",
    "- greedy -- local optimal\n",
    "- branch and bound"
   ]
  },
  {
   "cell_type": "markdown",
   "metadata": {},
   "source": [
    "## The development process (not necessarily in order): <a id='development_process'></a>\n",
    "\n",
    "- Specification of the task\n",
    "- Design of a solution\n",
    "- Implementation (coding) of the solution\n",
    "- Analysis of the solution\n",
    "- Testing and debugging\n",
    "- Maintenance"
   ]
  },
  {
   "cell_type": "markdown",
   "metadata": {},
   "source": [
    "## Resources <a id='resources'></a>\n",
    "- [Wikipedia article on algorithms](https://en.wikipedia.org/wiki/Algorithm)\n",
    "- https://www.cs.usfca.edu/~galles/visualization/about.html\n",
    "- https://www.cs.princeton.edu/~rs/AlgsDS07/\n",
    "- https://www3.nd.edu/~pbui/teaching/cse.30872.fa17/#resources\n",
    "- [*The Algorithm Design Manual* by S.Skiena](https://www.amazon.com/Algorithm-Design-Manual-Steven-Skiena/dp/1848000693)\n",
    "- [cpp.edu CS241 intro notes](https://www.cpp.edu/~ftang/courses/CS241/notes/intro.htm)"
   ]
  },
  {
   "cell_type": "markdown",
   "metadata": {},
   "source": [
    "File for later resources:\n",
    "- [closest pair helper 1 for S.Skiena's book](https://stackoverflow.com/questions/11459571/dont-understand-closest-pair-heuristic-from-the-algorithm-design-manual/27093895#27093895)\n",
    "- [closest pair helper 2 for S.Skiena's book](https://stackoverflow.com/questions/7216755/what-is-the-meaning-of-from-distinct-vertex-chains-in-this-nearest-neighbor-al/7216814#comment15114654_7216814)"
   ]
  },
  {
   "cell_type": "markdown",
   "metadata": {},
   "source": [
    "Alternative definitions  \n",
    "- An algorithm is a procedure, a finite set of well-defined instructions, for solving a problem which, given an initial state, will terminate in a defined end-state."
   ]
  }
 ],
 "metadata": {
  "kernelspec": {
   "display_name": "Python 3",
   "language": "python",
   "name": "python3"
  },
  "language_info": {
   "codemirror_mode": {
    "name": "ipython",
    "version": 3
   },
   "file_extension": ".py",
   "mimetype": "text/x-python",
   "name": "python",
   "nbconvert_exporter": "python",
   "pygments_lexer": "ipython3",
   "version": "3.7.7"
  }
 },
 "nbformat": 4,
 "nbformat_minor": 4
}
