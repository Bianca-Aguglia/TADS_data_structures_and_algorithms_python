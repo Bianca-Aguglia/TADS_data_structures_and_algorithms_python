{
 "cells": [
  {
   "cell_type": "markdown",
   "metadata": {},
   "source": [
    "# Linked List\n",
    "---\n",
    "A **linked list** is a data structure made of an ordered collection of nodes. Unlike in a regular list, the elements of a linked list are not stored in a contiguos location in memory, which means that their order is not given by their physical location. Instead, each node points to the next node.  \n",
    "  \n",
    "A linked list node consists of two fields:\n",
    "- data: contains the value stored in the node\n",
    "    - other names for this field are *information*, *value*, *cargo*, and *payload*\n",
    "- next: contains a reference to the memory location of the next node  \n",
    "  \n",
    "The first node in a linked list is called the **head** and it is used for any traversal of the list. The last node in the list has its *next* field set to `None` to indicate the end of the list."
   ]
  },
  {
   "cell_type": "markdown",
   "metadata": {},
   "source": [
    "<img align='left' src='./images/img_pd_linked_list_wikipedia_01_01mar21.jpeg'>"
   ]
  },
  {
   "cell_type": "markdown",
   "metadata": {},
   "source": [
    "<small>[Credit: wikipedia user Lasindi](https://en.wikipedia.org/wiki/Linked_list#/media/File:Singly-linked-list.svg)</small>"
   ]
  },
  {
   "cell_type": "markdown",
   "metadata": {},
   "source": [
    "A variation of the linked list is the doubly linked list, in which each node points to the previous node and the next node."
   ]
  },
  {
   "cell_type": "markdown",
   "metadata": {},
   "source": [
    "**Contents:**\n",
    "- [General observations](#observations)\n",
    "- [Linked list operations](#operations)\n",
    "- [Practical uses](#uses)\n",
    "- [References](#references)"
   ]
  },
  {
   "cell_type": "markdown",
   "metadata": {},
   "source": [
    "<a id='observations'></a>\n",
    "## General observations\n",
    "---\n",
    "  \n",
    "- in other progamming languages, linked lists use at least two times more memory than regular lists. In Python, however, linked lists are stored as dynamic arrays. This makes the size difference between lists and linked lists insignificant. "
   ]
  },
  {
   "cell_type": "markdown",
   "metadata": {},
   "source": [
    "Complexity in big O notation\n",
    "\n",
    "\n",
    "|    | Average | Worst Case |\n",
    "|---|---|---|\n",
    "| a | b | c |"
   ]
  },
  {
   "cell_type": "markdown",
   "metadata": {},
   "source": [
    "<a id='operations'></a>\n",
    "## Linked list operations\n",
    "---"
   ]
  },
  {
   "cell_type": "markdown",
   "metadata": {},
   "source": [
    "## Practical uses\n",
    "---\n",
    "- linked lists can be used to implement several other common abstract data types, including lists, stacks, queues, graphs, associative arrays, and S-expressions, though it is not uncommon to implement those data structures directly without using a linked list as the basis.\n",
    "- linked lists can be used to implement graphs such as DACs (directed acyclic graphs). In terms of both speed and memory, implementing graphs using adjacency lists is very efficient in comparison with, for example, an adjacency matrix. That’s why linked lists are so useful for graph implementation.\n",
    "- linked lists are also useful for complex tasks, such as lifecycle management for an operating system application\n",
    "- many modern operating systems use doubly linked lists to maintain references to active processes, threads, and other dynamic objects. A common strategy for rootkits to evade detection is to unlink themselves from these lists."
   ]
  },
  {
   "cell_type": "markdown",
   "metadata": {},
   "source": [
    "<a id='references'></a>\n",
    "## References\n",
    "---\n",
    "- [Wikipedia article on linked lists](https://en.wikipedia.org/wiki/Linked_list)\n",
    "- [RealPython article on linked lists](https://realpython.com/linked-lists-python/)\n",
    "- [Laurent Luce's article on Python list implementation](http://www.laurentluce.com/posts/python-list-implementation/)"
   ]
  },
  {
   "cell_type": "code",
   "execution_count": null,
   "metadata": {},
   "outputs": [],
   "source": []
  }
 ],
 "metadata": {
  "kernelspec": {
   "display_name": "Python 3",
   "language": "python",
   "name": "python3"
  },
  "language_info": {
   "codemirror_mode": {
    "name": "ipython",
    "version": 3
   },
   "file_extension": ".py",
   "mimetype": "text/x-python",
   "name": "python",
   "nbconvert_exporter": "python",
   "pygments_lexer": "ipython3",
   "version": "3.7.7"
  }
 },
 "nbformat": 4,
 "nbformat_minor": 4
}
