{
 "cells": [
  {
   "cell_type": "markdown",
   "metadata": {},
   "source": [
    "# Graph\n",
    "---\n",
    "A **graph** is a non-linear data structure that models a set of connections. It consists of a collection of vertices (also called nodes, or points) and edges (also called links, lines, or connections) between (some of) them.  \n",
    "<img src='images/img_pd_graph_wikipedia_14mar21.jpg' align='left' width='25%'>"
   ]
  },
  {
   "cell_type": "markdown",
   "metadata": {},
   "source": [
    "<small>[Credit: Wikipedia user Pluke](https://commons.wikimedia.org/wiki/File:CPT-Graphs-directed-weighted-ex1.svg)"
   ]
  },
  {
   "cell_type": "markdown",
   "metadata": {},
   "source": [
    "**Contents**\n",
    "- [General notes](#notes)\n",
    "- [Main operations on graphs](#operations)\n",
    "- [Practical applications](#applications)\n",
    "- [Resources](#resources)"
   ]
  },
  {
   "cell_type": "markdown",
   "metadata": {},
   "source": [
    "## General notes <a id='notes'></a>\n",
    "Graphs are a more general data structure than trees. In fact, trees are just a special form of graphs (i.e. all trees are graphs, not all graphs are trees).  \n",
    "\n",
    "### Types of graphs\n",
    "1. **Undirected graph:** similar to a network of two-way streets. If nodes A and B are connected, A can be reached from B and B can be reached from A.\n",
    "2. **Directed graph:** similar to a network of one-way and two-way streets. If nodes A and B are connected and A can be reached from B, it doesn't necessarily mean that B can be reached from A.\n",
    "3. **Null graph:** a graph with no edges.\n",
    "4. **Trivial graph:** a graph with only one vertex.\n",
    "5. **Simple graph:** a graph with no loops and no edges.\n",
    "6. **Connected graph:** a graph in which there is a path between any pair of vertices.\n",
    "7. **Disconnected graph:** a graph in which at least two of the nodes are not connected.\n",
    "  \n",
    "### Ways of representing graphs\n",
    "1. Adjacency list: is a list of size V, where V is the number of vertices, in which each element is a vertex and each vertex stores a list of its neighbors. In effect, an adjacency list is an unordered list of lists.\n",
    "2. Adjacency matrix: is a two dimensional matrix of size V\\*V, in which all vertices are represented as rows and as columns. If nodes A and B are connected, the values at row A, column B and at row B, column A are set to 1 or True."
   ]
  },
  {
   "cell_type": "markdown",
   "metadata": {},
   "source": [
    "## Main operations on graphs <a id='operations'></a>\n",
    "- **adjacent**: tests if there is an edge from `x` to `y`\n",
    "- **neighbors**: returns all vertices that are one edge away from `x`\n",
    "- **add_vertex**: adds vertex `x` to the graph\n",
    "- **remove_vertex**: removes vertex `x` from the graph\n",
    "- **add_edge**\n",
    "- **remove_edge**\n",
    "- **get_vertex_value**\n",
    "- **set_vertex_value**\n",
    "- **get_edge_value**\n",
    "- **set_edge_value**"
   ]
  },
  {
   "cell_type": "code",
   "execution_count": null,
   "metadata": {},
   "outputs": [],
   "source": []
  },
  {
   "cell_type": "code",
   "execution_count": null,
   "metadata": {},
   "outputs": [],
   "source": []
  },
  {
   "cell_type": "markdown",
   "metadata": {},
   "source": [
    "## Practical applications\n",
    "- represent the network of paths in a city\n",
    "- represent the network of flights that connect airports\n",
    "- represent the sequence of courses needed to complete a college degree\n",
    "- represent people and their connections in a social network"
   ]
  },
  {
   "cell_type": "markdown",
   "metadata": {},
   "source": [
    "## Resources <a id='resources'></a>\n",
    "- [Wikipedia article on graphs](https://en.wikipedia.org/wiki/Graph_(abstract_data_type)\n",
    "- [GeeksforGeeks article on graphs](https://www.geeksforgeeks.org/graph-data-structure-and-algorithms/)\n",
    "- [tutorialspoint graph theory tutorial](https://www.tutorialspoint.com/graph_theory/index.htm)\n",
    "- [*Problem Solving with Algorithms and Data Structures*](http://www.openbookproject.net/books/pythonds/index.html)\n",
    "- [python-course.eu graphs in Python](https://www.python-course.eu/graphs_python.php)"
   ]
  },
  {
   "cell_type": "code",
   "execution_count": null,
   "metadata": {},
   "outputs": [],
   "source": []
  }
 ],
 "metadata": {
  "kernelspec": {
   "display_name": "Python 3",
   "language": "python",
   "name": "python3"
  },
  "language_info": {
   "codemirror_mode": {
    "name": "ipython",
    "version": 3
   },
   "file_extension": ".py",
   "mimetype": "text/x-python",
   "name": "python",
   "nbconvert_exporter": "python",
   "pygments_lexer": "ipython3",
   "version": "3.7.7"
  }
 },
 "nbformat": 4,
 "nbformat_minor": 4
}
