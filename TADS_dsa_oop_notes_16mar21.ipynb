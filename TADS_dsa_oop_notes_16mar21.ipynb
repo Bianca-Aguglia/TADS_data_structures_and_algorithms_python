{
 "cells": [
  {
   "cell_type": "markdown",
   "metadata": {},
   "source": [
    "# Object oriented programming\n",
    "---\n",
    "**Object oriented programming** (OOP) is a style of programming that uses the concept of **objects** to design and built applications. Contrary to procedure-oriented programming where programs are designed as blocks of statements to manipulate data, OOP organizes the program to combine data and functionality and wrap it inside something called an **object**.  \n",
    "  \n",
    "### Objects\n",
    "**Objects** are the building blocks of OOP. They model real-world physical or abstract entities. Examples of objects are *animal*, *vehicle*, *customer*, *vacation*, etc. In a software application, we combine objects to build the application. For example, to create an app for a book store, we combine objects like *book*, *customer*, *employee*, *payment system*, etc.  \n",
    "  \n",
    "  \n",
    "Objects are a combination of data and functionality. The data is in the form of fields (also known as attributes or properties). It defines the state of the object and it is the data the object stores. This data can be a built-in type like int, boolean, etc, or a custom type created by the programmer.\n",
    "\n",
    "The functionality, or behavior, is in the form of functions (also known as procedures or methods). It represents the actions an object can take. Oftentimes, this involves using or modifying the properties of the object."
   ]
  },
  {
   "cell_type": "markdown",
   "metadata": {},
   "source": [
    "### Class\n",
    "**Classes** are the blueprints for creating objects. Each class specifies the attributes and the methods its object has."
   ]
  },
  {
   "cell_type": "markdown",
   "metadata": {},
   "source": [
    "Questions to ask:\n",
    "- who will use it\n",
    "- how will they use it"
   ]
  },
  {
   "cell_type": "markdown",
   "metadata": {},
   "source": [
    "**Features of OOP**\n",
    "- encapsulation\n",
    "- abstraction\n",
    "- inheritance: the abilitiy to define a new class that is a modified version of an existing class\n",
    "- polymorphism: the ability of an object to take many forms and change its data and to vary its data and behaviors accordingly."
   ]
  },
  {
   "cell_type": "markdown",
   "metadata": {},
   "source": [
    "### Inheritance \n",
    "---\n",
    "Inheritance notes:  \n",
    "- the inheriting class is called *child class*, the class the child inherits from is called *parent class*\n",
    "- other names for child class are *subclass* and *heir class*\n",
    "- other name for parent class is *superclass*\n",
    "- the relationships between child classes and parent classes form a directed graph\n",
    "\n",
    "Inheritance advantanges:\n",
    "- inheritance supports code reusability"
   ]
  },
  {
   "cell_type": "markdown",
   "metadata": {},
   "source": [
    "## References <a id='references'></a>\n",
    "- [Real Python OOP](https://realpython.com/python3-object-oriented-programming/)\n",
    "- [*Beginning Python Programming for Aspiring Developers* by J.Elkner](https://www.openbookproject.net/books/bpp4awd/ch08.html)\n",
    "- [Toptal Python Design Patterns](https://www.toptal.com/python/python-design-patterns)\n",
    "- [python-course.eu](https://www.python-course.eu/python3_object_oriented_programming.php)\n",
    "- [Grokking the OOP interview](https://www.sartiano.it/marco/diigo/System%20Design/Grokking%20the%20Object%20Oriented%20Design%20Interview.html)"
   ]
  },
  {
   "cell_type": "code",
   "execution_count": null,
   "metadata": {},
   "outputs": [],
   "source": []
  }
 ],
 "metadata": {
  "kernelspec": {
   "display_name": "Python 3",
   "language": "python",
   "name": "python3"
  },
  "language_info": {
   "codemirror_mode": {
    "name": "ipython",
    "version": 3
   },
   "file_extension": ".py",
   "mimetype": "text/x-python",
   "name": "python",
   "nbconvert_exporter": "python",
   "pygments_lexer": "ipython3",
   "version": "3.7.7"
  }
 },
 "nbformat": 4,
 "nbformat_minor": 4
}
