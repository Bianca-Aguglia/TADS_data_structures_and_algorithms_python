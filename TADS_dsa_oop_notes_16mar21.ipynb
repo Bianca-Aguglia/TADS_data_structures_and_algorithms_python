{
 "cells": [
  {
   "cell_type": "markdown",
   "metadata": {},
   "source": [
    "# Object oriented programming\n",
    "---\n",
    "**Object oriented programming** is a programming approach based on the concept of **objects**, which can have properties and behaviors. The properties are in the form of fields (also known as attributes), and the behaviors are in the form of functions (also known as procedures or methods).  \n",
    "  \n",
    "Properties define the state of the object. This is the data that the object stores. This data can be a built-in type like int, or even our own custom types we’ll create later.  \n",
    "  \n",
    "Behaviors are the actions our object can take. Oftentimes, this involves using or modifying the properties of our object."
   ]
  },
  {
   "cell_type": "markdown",
   "metadata": {},
   "source": [
    "Questions to ask:\n",
    "- who will use it\n",
    "- how will they use it"
   ]
  },
  {
   "cell_type": "markdown",
   "metadata": {},
   "source": [
    "**Features of OOP**\n",
    "- encapsulation\n",
    "- inheritance: the abilitiy to define a new class that is a modified version of an existing class\n",
    "- polymorphism\n"
   ]
  },
  {
   "cell_type": "markdown",
   "metadata": {},
   "source": [
    "### Inheritance \n",
    "---\n",
    "Inheritance notes:  \n",
    "- the inheriting class is called *child class*, the class the child inherits from is called *parent class*\n",
    "- other names for child class are *subclass* and *heir class*\n",
    "- other name for parent class is *superclass*\n",
    "- the relationships between child classes and parent classes form a directed graph\n",
    "\n",
    "Inheritance advantanges:\n",
    "- inheritance supports code reusability"
   ]
  },
  {
   "cell_type": "markdown",
   "metadata": {},
   "source": [
    "## References <a id='references'></a>\n",
    "- [Real Python OOP](https://realpython.com/python3-object-oriented-programming/)\n",
    "- [*Beginning Python Programming for Aspiring Developers* by J.Elkner](https://www.openbookproject.net/books/bpp4awd/ch08.html)\n",
    "- [Toptal Python Design Patterns](https://www.toptal.com/python/python-design-patterns)\n",
    "- [python-course.eu](https://www.python-course.eu/python3_object_oriented_programming.php)"
   ]
  },
  {
   "cell_type": "code",
   "execution_count": null,
   "metadata": {},
   "outputs": [],
   "source": []
  }
 ],
 "metadata": {
  "kernelspec": {
   "display_name": "Python 3",
   "language": "python",
   "name": "python3"
  },
  "language_info": {
   "codemirror_mode": {
    "name": "ipython",
    "version": 3
   },
   "file_extension": ".py",
   "mimetype": "text/x-python",
   "name": "python",
   "nbconvert_exporter": "python",
   "pygments_lexer": "ipython3",
   "version": "3.7.7"
  }
 },
 "nbformat": 4,
 "nbformat_minor": 4
}
