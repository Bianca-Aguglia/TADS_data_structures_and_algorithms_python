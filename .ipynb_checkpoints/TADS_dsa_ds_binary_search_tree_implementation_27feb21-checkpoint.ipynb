{
 "cells": [
  {
   "cell_type": "markdown",
   "metadata": {},
   "source": [
    "# Binary Search Tree - Python implementation\n",
    "---\n",
    "**Goal:** implement a binary search tree in Python"
   ]
  },
  {
   "cell_type": "code",
   "execution_count": 4,
   "metadata": {},
   "outputs": [],
   "source": [
    "class Node:\n",
    "    def __init__(self, value):\n",
    "        self.value = value\n",
    "        self.left = None\n",
    "        self.right = None"
   ]
  },
  {
   "cell_type": "code",
   "execution_count": 156,
   "metadata": {},
   "outputs": [],
   "source": [
    "class BST:\n",
    "    def __init__(self, value=None):\n",
    "        if value:\n",
    "            self.root = Node(value)\n",
    "        else:\n",
    "            self.root = None\n",
    "        \n",
    "    def insert(self, value):\n",
    "        if self.root is None:\n",
    "            self.root = Node(value)\n",
    "            return f'root created: {value}'\n",
    "        else:\n",
    "            ins = self._insert(self.root, value)\n",
    "            return ins\n",
    "            \n",
    "    def _insert(self, node, value):\n",
    "        if value < node.value:\n",
    "            if node.left is None:\n",
    "                node.left = Node(value)\n",
    "                return f'{value} was inserted in tree'\n",
    "            else:\n",
    "                return self._insert(node.left, value)\n",
    "        elif value > node.value:\n",
    "            if node.right is None:\n",
    "                node.right = Node(value)\n",
    "                return f'{value} was inserted in tree'\n",
    "            else:\n",
    "                return self._insert(node.right, value)\n",
    "        else:\n",
    "            return f'{value} already in tree'\n",
    "        \n",
    "    def print_tree(self, traversal_type='in_order'):\n",
    "        if traversal_type == 'in_order':\n",
    "            return self.print_in_order(self.root)\n",
    "        elif traversal_type == 'pre_order':\n",
    "            return self.print_pre_order(self.root)\n",
    "        elif traversal_type == 'post_order':\n",
    "            return self.print_post_order(self.root)\n",
    "        else:\n",
    "            return f'{traversal_type} traversal type not supported'\n",
    "        \n",
    "                \n",
    "    def print_in_order(self, node):\n",
    "        nodes = []\n",
    "        if node:\n",
    "            nodes.extend(self.print_in_order(node.left))\n",
    "            nodes.append(node.value)\n",
    "            nodes.extend(self.print_in_order(node.right))\n",
    "        return nodes\n",
    "        \n",
    "    def print_pre_order(self, node):\n",
    "        nodes = []\n",
    "        if node:\n",
    "            nodes.append(node.value)\n",
    "            nodes.extend(self.print_pre_order(node.left))\n",
    "            nodes.extend(self.print_pre_order(node.right))\n",
    "        return nodes\n",
    "    \n",
    "    def print_post_order(self, node):\n",
    "        nodes = []\n",
    "        if node:\n",
    "            nodes.extend(self.print_post_order(node.left))\n",
    "            nodes.extend(self.print_post_order(node.right))\n",
    "            nodes.append(node.value)\n",
    "        return nodes\n",
    "    \n",
    "    def search(self, value):\n",
    "        if self.root:\n",
    "            return self._search(self.root, value)\n",
    "        else:\n",
    "            return 'tree is empty'\n",
    "    \n",
    "    def _search(self, node, value):\n",
    "        if node:\n",
    "            if node.value == value:\n",
    "                return True\n",
    "            elif value < node.value:\n",
    "                return self._search(node.left, value)\n",
    "            elif value < node.value:\n",
    "                return self._search(node.right, value)\n",
    "        else:\n",
    "            return False\n",
    "        \n",
    "    def find_max(self):\n",
    "        if self.root is None:\n",
    "            return 'tree is empty'\n",
    "        else:\n",
    "            cur_node = self.root\n",
    "            while cur_node.right:\n",
    "                cur_node = cur_node.right\n",
    "            return cur_node.value\n",
    "        \n",
    "    \n",
    "    def find_min(self, value):\n",
    "        if self.root is None:\n",
    "            return 'tree is empty'\n",
    "        else:\n",
    "            cur_node = self.root\n",
    "            while cur_node.left:\n",
    "                cur_node = cur_node.left\n",
    "            return cur_node.value\n",
    "    \n",
    "    def find_closest(self, value):\n",
    "        if self.root is None:\n",
    "            return 'tree is empty'\n",
    "        else:\n",
    "            cur_diff = abs(self.root.value - value)\n",
    "            cur_val = self.root.value\n",
    "            return self._find_closest(self.root, cur_diff, cur_val, value)\n",
    "        \n",
    "    def _find_closest(self, cur_node, cur_diff, cur_val, value):\n",
    "        if cur_node:\n",
    "            if abs(cur_node.value - value) < cur_diff:\n",
    "                cur_diff = abs(cur_node.value - value)\n",
    "                cur_val = cur_node.value\n",
    "            if value < cur_node.value:\n",
    "                return self._find_closest(cur_node.left, cur_diff, cur_val, value)\n",
    "            elif value > cur_node.value:\n",
    "                return self._find_closest(cur_node.right, cur_diff, cur_val, value)\n",
    "        cur_closest = {'minimum_difference': cur_diff,\n",
    "                      'closest_value': cur_val}\n",
    "        return cur_closest\n",
    "            \n",
    "            \n",
    "    \n",
    "    def remove(self, value):\n",
    "        if self.root is None:\n",
    "            return 'tree is empty'\n",
    "        if not self.search(value):\n",
    "            return 'value not in tree'\n",
    "        return self.root._remove(value)\n",
    "    \n",
    "    def _remove(self, value):\n",
    "        if value < self.value:\n",
    "            # target value is in left subtree\n",
    "            self.left = self.left._remove(value)\n",
    "            return f'{value} was removed from tree'\n",
    "        \n",
    "        elif value > self.value:\n",
    "            # target value is in right subtree\n",
    "            self.right = self.right._remove(value)\n",
    "        \n",
    "        else:\n",
    "            # found target value\n",
    "            if self.left == self.right == None:\n",
    "                return None\n",
    "            if self.left == None:\n",
    "                return self.right\n",
    "            if self.right == None:\n",
    "                return self.left\n",
    "            parent, node = self, self.left\n",
    "            while node.right is not None:\n",
    "                parent, node = node, node.right\n",
    "            # Now, `node` is the rightmost node in the left subtree, and\n",
    "            # `parent` its parent node. Instead of replacing `self`, we change\n",
    "            # its attributes to match the value of `node`.\n",
    "            if parent.left is node:\n",
    "                # This check is necessary, because if the left subtree has only\n",
    "                # node, `node` would be `self.left`.\n",
    "                parent.left = None\n",
    "            else:\n",
    "                parent.right = None\n",
    "            self.value = node.val\n",
    "            return self\n",
    "        \n",
    "    def delete(self, key):\n",
    "        \n",
    "        \"\"\"Delete a node with value `key`.\"\"\"\n",
    "        if key < self.value: \n",
    "            # Find and delete the value in the left subtree.\n",
    "            if self.left is None:\n",
    "                # There's no left subtree; the value does not exist.\n",
    "                raise ValueError(\"Value not found in tree\")\n",
    "            self.left = self.left.delete(key)\n",
    "            return self  # current node not deleted, just return\n",
    "        elif key > self.value: \n",
    "            # Find and delete the value in the right subtree.\n",
    "            if self.right is None:\n",
    "                # There's no right subtree; the value does not exist.\n",
    "                raise ValueError(\"Value not found in tree\")\n",
    "            self.right = self.right.delete(key)\n",
    "            return self  # current node not deleted, just return\n",
    "        else:\n",
    "            # The current node should be deleted.\n",
    "            if self.left is None and self.right is None:\n",
    "                # The node has no children -- it is a leaf node. Just delete.\n",
    "                return None\n",
    "\n",
    "            # If the node has only one children, simply return that child.\n",
    "            if self.left is None:\n",
    "                return self.right\n",
    "            if self.right is None:\n",
    "                return self.left\n",
    "\n",
    "            # The node has both left and right subtrees, and they should be merged.\n",
    "            # Following your implementation, we find the rightmost node in the\n",
    "            # left subtree and replace the current node with it.\n",
    "            parent, node = self, self.left\n",
    "            while node.right is not None:\n",
    "                parent, node = node, node.right\n",
    "            # Now, `node` is the rightmost node in the left subtree, and\n",
    "            # `parent` its parent node. Instead of replacing `self`, we change\n",
    "            # its attributes to match the value of `node`.\n",
    "            if parent.left is node:\n",
    "                # This check is necessary, because if the left subtree has only\n",
    "                # node, `node` would be `self.left`.\n",
    "                parent.left = None\n",
    "            else:\n",
    "                parent.right = None\n",
    "            self.value = node.val\n",
    "            return self\n",
    "        \n",
    "            \n",
    "        "
   ]
  },
  {
   "cell_type": "code",
   "execution_count": 165,
   "metadata": {},
   "outputs": [
    {
     "ename": "AttributeError",
     "evalue": "'Node' object has no attribute '_remove'",
     "output_type": "error",
     "traceback": [
      "\u001b[0;31m---------------------------------------------------------------------------\u001b[0m",
      "\u001b[0;31mAttributeError\u001b[0m                            Traceback (most recent call last)",
      "\u001b[0;32m<ipython-input-165-a30eed00a86c>\u001b[0m in \u001b[0;36m<module>\u001b[0;34m\u001b[0m\n\u001b[0;32m----> 1\u001b[0;31m \u001b[0mbst1\u001b[0m\u001b[0;34m.\u001b[0m\u001b[0mremove\u001b[0m\u001b[0;34m(\u001b[0m\u001b[0;36m3\u001b[0m\u001b[0;34m)\u001b[0m\u001b[0;34m\u001b[0m\u001b[0;34m\u001b[0m\u001b[0m\n\u001b[0m",
      "\u001b[0;32m<ipython-input-156-1a643a8e47eb>\u001b[0m in \u001b[0;36mremove\u001b[0;34m(self, value)\u001b[0m\n\u001b[1;32m    129\u001b[0m         \u001b[0;32mif\u001b[0m \u001b[0;32mnot\u001b[0m \u001b[0mself\u001b[0m\u001b[0;34m.\u001b[0m\u001b[0msearch\u001b[0m\u001b[0;34m(\u001b[0m\u001b[0mvalue\u001b[0m\u001b[0;34m)\u001b[0m\u001b[0;34m:\u001b[0m\u001b[0;34m\u001b[0m\u001b[0;34m\u001b[0m\u001b[0m\n\u001b[1;32m    130\u001b[0m             \u001b[0;32mreturn\u001b[0m \u001b[0;34m'value not in tree'\u001b[0m\u001b[0;34m\u001b[0m\u001b[0;34m\u001b[0m\u001b[0m\n\u001b[0;32m--> 131\u001b[0;31m         \u001b[0;32mreturn\u001b[0m \u001b[0mself\u001b[0m\u001b[0;34m.\u001b[0m\u001b[0mroot\u001b[0m\u001b[0;34m.\u001b[0m\u001b[0m_remove\u001b[0m\u001b[0;34m(\u001b[0m\u001b[0mvalue\u001b[0m\u001b[0;34m)\u001b[0m\u001b[0;34m\u001b[0m\u001b[0;34m\u001b[0m\u001b[0m\n\u001b[0m\u001b[1;32m    132\u001b[0m \u001b[0;34m\u001b[0m\u001b[0m\n\u001b[1;32m    133\u001b[0m     \u001b[0;32mdef\u001b[0m \u001b[0m_remove\u001b[0m\u001b[0;34m(\u001b[0m\u001b[0mself\u001b[0m\u001b[0;34m,\u001b[0m \u001b[0mvalue\u001b[0m\u001b[0;34m)\u001b[0m\u001b[0;34m:\u001b[0m\u001b[0;34m\u001b[0m\u001b[0;34m\u001b[0m\u001b[0m\n",
      "\u001b[0;31mAttributeError\u001b[0m: 'Node' object has no attribute '_remove'"
     ]
    }
   ],
   "source": [
    "bst1.remove(3)"
   ]
  },
  {
   "cell_type": "code",
   "execution_count": 160,
   "metadata": {},
   "outputs": [],
   "source": [
    "bst1 = BST()"
   ]
  },
  {
   "cell_type": "code",
   "execution_count": 161,
   "metadata": {},
   "outputs": [
    {
     "name": "stdout",
     "output_type": "stream",
     "text": [
      "root created: 5\n",
      "3 was inserted in tree\n",
      "2 was inserted in tree\n",
      "4 was inserted in tree\n",
      "7 was inserted in tree\n",
      "6 was inserted in tree\n",
      "8 was inserted in tree\n"
     ]
    }
   ],
   "source": [
    "nums = [int(x) for x in list('5324768')]\n",
    "def add_to_tree(nums = nums, tree = bst1):\n",
    "    for num in nums:\n",
    "        print(tree.insert(num))\n",
    "add_to_tree()"
   ]
  },
  {
   "cell_type": "code",
   "execution_count": 162,
   "metadata": {},
   "outputs": [
    {
     "name": "stdout",
     "output_type": "stream",
     "text": [
      "[2, 3, 4, 5, 6, 7, 8]\n",
      "[5, 3, 2, 4, 7, 6, 8]\n",
      "[2, 4, 3, 6, 8, 7, 5]\n"
     ]
    }
   ],
   "source": [
    "print(bst1.print_tree())\n",
    "print(bst1.print_tree('pre_order'))\n",
    "print(bst1.print_tree('post_order'))"
   ]
  },
  {
   "cell_type": "code",
   "execution_count": 164,
   "metadata": {},
   "outputs": [],
   "source": [
    "bst1.search(4)"
   ]
  },
  {
   "cell_type": "code",
   "execution_count": 139,
   "metadata": {},
   "outputs": [
    {
     "name": "stdout",
     "output_type": "stream",
     "text": [
      "8\n"
     ]
    }
   ],
   "source": [
    "print(bst1.find_max())"
   ]
  },
  {
   "cell_type": "code",
   "execution_count": 140,
   "metadata": {},
   "outputs": [
    {
     "data": {
      "text/plain": [
       "{'minimum_difference': 1, 'closest_value': 2}"
      ]
     },
     "execution_count": 140,
     "metadata": {},
     "output_type": "execute_result"
    }
   ],
   "source": [
    "bst1.find_closest(1)"
   ]
  },
  {
   "cell_type": "code",
   "execution_count": null,
   "metadata": {},
   "outputs": [],
   "source": []
  }
 ],
 "metadata": {
  "kernelspec": {
   "display_name": "Python 3",
   "language": "python",
   "name": "python3"
  },
  "language_info": {
   "codemirror_mode": {
    "name": "ipython",
    "version": 3
   },
   "file_extension": ".py",
   "mimetype": "text/x-python",
   "name": "python",
   "nbconvert_exporter": "python",
   "pygments_lexer": "ipython3",
   "version": "3.7.7"
  }
 },
 "nbformat": 4,
 "nbformat_minor": 4
}
