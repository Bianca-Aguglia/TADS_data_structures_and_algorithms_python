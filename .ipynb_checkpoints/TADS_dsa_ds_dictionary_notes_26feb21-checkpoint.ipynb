{
 "cells": [
  {
   "cell_type": "markdown",
   "metadata": {},
   "source": [
    "# Dictionary\n",
    "---\n",
    "\n",
    "A **dictionary** (commonly known as a *hash table*) is a data structure that uses a hash function and an array of buckets or slots to store key, value pairs. In Python terminology, this array of buckets is a list of lists.  \n",
    "  \n",
    "![](images/img_cc30_hash_table_wikipedia_01_27feb21.jpeg)\n",
    "<small>[Credit: wikipedia user Jorge Stolfi](https://en.wikipedia.org/wiki/File:Hash_table_3_1_1_0_1_0_0_SP.svg)</small>"
   ]
  },
  {
   "cell_type": "markdown",
   "metadata": {},
   "source": [
    "**Content:**\n",
    "1. [General notes](#general_notes)\n",
    "2. [Ways of creating dictionaries](#creating_dictionaries)\n",
    "3. [Main operations on dictionaries](#operations)\n",
    "4. [Practical uses of dictionaries](#uses)\n",
    "5. [Resources](#resources)"
   ]
  },
  {
   "cell_type": "markdown",
   "metadata": {},
   "source": [
    "<a id='general_notes'></a>\n",
    "## 1. General notes\n",
    "---\n",
    "\n",
    "- dictionaries are mutable\n",
    "- dictionaries are dynamic: a dictionary can change size as needed\n",
    "- dictionaries are flexible on the type of data they can store: dictionary values can be primitive data types such as integer or string, but they can also be data structures such as lists, tuples, and other dictionaries\n",
    "- dictionaries that store other dictionaries are called nested dictionaries\n",
    "- unlike sequence data types (i.e. string, list, tuple) which are indexed by a range of numbers, dictionaries are indexed by keys\n",
    "- keys must be unique and immutable \n",
    "    - data types that can be used as dictionary keys are:\n",
    "        - string (always)\n",
    "        - int (always)\n",
    "        - float (always)\n",
    "            - note: 1 and 1.0 compare equal => they index the same value\n",
    "            - floats are stored as approximations => not the best choice for dictionary keys\n",
    "        - tuple (if they contain only strings, numbers, or tuples)\n",
    "- keys are guaranteed to be in insertion order (starting with python 3.7)\n",
    "- objects returned by dict.keys(), dict.values(), and dict.items() are dictionary view objects\n",
    "- dictionary view objects can be iterated over and support membership tests\n",
    "- other names for dictionaries: hash table, hash map, associative memory, associative array"
   ]
  },
  {
   "cell_type": "markdown",
   "metadata": {},
   "source": [
    "<a id='creating_dictionaries'></a>\n",
    "## 2. Ways of creating dictionaries\n",
    "---\n",
    "  \n",
    "Dictionaries can be created by using `{}` or by using the `dict()` constructor.  \n",
    "  \n",
    "### Examples  "
   ]
  },
  {
   "cell_type": "code",
   "execution_count": 70,
   "metadata": {},
   "outputs": [
    {
     "name": "stdout",
     "output_type": "stream",
     "text": [
      "True\n",
      "{}\n"
     ]
    }
   ],
   "source": [
    "# equivalent ways of creating empty dictionaries\n",
    "empty_dict_1 = {}\n",
    "empty_dict_2 = dict()\n",
    "print(empty_dict_1 == empty_dict_2)\n",
    "print(empty_dict_1)"
   ]
  },
  {
   "cell_type": "code",
   "execution_count": 73,
   "metadata": {},
   "outputs": [
    {
     "name": "stdout",
     "output_type": "stream",
     "text": [
      "True\n",
      "{'age': 42, 'favorite_language': 'python'}\n"
     ]
    }
   ],
   "source": [
    "# equivalent ways of creating non-empty dictionaries\n",
    "me_1 = {'age': 42, 'favorite_language': 'python'}\n",
    "me_2 = dict(age=42, favorite_language='python')\n",
    "me_3 = dict([('age', 42), ('favorite_language', 'python')])\n",
    "me_4 = {key:value for key, value in zip(['age', 'favorite_language'], [42, 'python'])}\n",
    "print(me_1 == me_2 == me_3 == me_4)\n",
    "print(me_1)"
   ]
  },
  {
   "cell_type": "markdown",
   "metadata": {},
   "source": [
    "<a id='operations'></a>\n",
    "## 3. Main operations on dictionaries\n",
    "---  \n",
    "Examples of operations that can be performed on dictionaries:\n",
    "- store a value\n",
    "- extract a value\n",
    "- update a value\n",
    "- delete a value\n",
    "- get an iterrable of dictionary keys\n",
    "- get an iterrable of dictionary values\n",
    "- get an iterrable of (key:value) tuples\n",
    "- get the length of a dictionary\n",
    "- clear a dictionary\n",
    "- copy a dictionary\n",
    "- check if key is in dictionary\n",
    "  \n",
    "### Examples"
   ]
  },
  {
   "cell_type": "code",
   "execution_count": 17,
   "metadata": {},
   "outputs": [
    {
     "data": {
      "text/plain": [
       "{'age': 42}"
      ]
     },
     "execution_count": 17,
     "metadata": {},
     "output_type": "execute_result"
    }
   ],
   "source": [
    "# storing a value\n",
    "d = {}\n",
    "d['age'] = 42\n",
    "d"
   ]
  },
  {
   "cell_type": "code",
   "execution_count": 19,
   "metadata": {},
   "outputs": [
    {
     "data": {
      "text/plain": [
       "{'age': 43}"
      ]
     },
     "execution_count": 19,
     "metadata": {},
     "output_type": "execute_result"
    }
   ],
   "source": [
    "# if storing a value for a key that already exists, the old value is lost\n",
    "d = {}\n",
    "d['age'] = 42\n",
    "d['age'] = 43\n",
    "d"
   ]
  },
  {
   "cell_type": "code",
   "execution_count": 20,
   "metadata": {},
   "outputs": [
    {
     "data": {
      "text/plain": [
       "42"
      ]
     },
     "execution_count": 20,
     "metadata": {},
     "output_type": "execute_result"
    }
   ],
   "source": [
    "# extracting the value for an existing key\n",
    "d = {}\n",
    "d['age'] = 42\n",
    "age = d['age']\n",
    "age"
   ]
  },
  {
   "cell_type": "code",
   "execution_count": 21,
   "metadata": {},
   "outputs": [
    {
     "ename": "KeyError",
     "evalue": "'age'",
     "output_type": "error",
     "traceback": [
      "\u001b[0;31m---------------------------------------------------------------------------\u001b[0m",
      "\u001b[0;31mKeyError\u001b[0m                                  Traceback (most recent call last)",
      "\u001b[0;32m<ipython-input-21-74f3c9a51d7f>\u001b[0m in \u001b[0;36m<module>\u001b[0;34m\u001b[0m\n\u001b[1;32m      1\u001b[0m \u001b[0;31m# extracting the value of a non-exisiting key resulted in KeyError\u001b[0m\u001b[0;34m\u001b[0m\u001b[0;34m\u001b[0m\u001b[0;34m\u001b[0m\u001b[0m\n\u001b[1;32m      2\u001b[0m \u001b[0md\u001b[0m \u001b[0;34m=\u001b[0m \u001b[0;34m{\u001b[0m\u001b[0;34m}\u001b[0m\u001b[0;34m\u001b[0m\u001b[0;34m\u001b[0m\u001b[0m\n\u001b[0;32m----> 3\u001b[0;31m \u001b[0mage\u001b[0m \u001b[0;34m=\u001b[0m \u001b[0md\u001b[0m\u001b[0;34m[\u001b[0m\u001b[0;34m'age'\u001b[0m\u001b[0;34m]\u001b[0m\u001b[0;34m\u001b[0m\u001b[0;34m\u001b[0m\u001b[0m\n\u001b[0m\u001b[1;32m      4\u001b[0m \u001b[0mage\u001b[0m\u001b[0;34m\u001b[0m\u001b[0;34m\u001b[0m\u001b[0m\n",
      "\u001b[0;31mKeyError\u001b[0m: 'age'"
     ]
    }
   ],
   "source": [
    "# trying to extract the value of a non-exisiting key results in KeyError\n",
    "d = {}\n",
    "age = d['age']\n",
    "age"
   ]
  },
  {
   "cell_type": "code",
   "execution_count": 22,
   "metadata": {},
   "outputs": [
    {
     "data": {
      "text/plain": [
       "42"
      ]
     },
     "execution_count": 22,
     "metadata": {},
     "output_type": "execute_result"
    }
   ],
   "source": [
    "# to avoid KeyError exceptions, use get() method and provide a default value if key is missing\n",
    "d = {}\n",
    "age = d.get('age', 42)\n",
    "age"
   ]
  },
  {
   "cell_type": "code",
   "execution_count": 33,
   "metadata": {},
   "outputs": [
    {
     "data": {
      "text/plain": [
       "43"
      ]
     },
     "execution_count": 33,
     "metadata": {},
     "output_type": "execute_result"
    }
   ],
   "source": [
    "# update a value with a simple assignment\n",
    "d = {}\n",
    "d['age'] = 42\n",
    "d['age'] = 43\n",
    "d['age']"
   ]
  },
  {
   "cell_type": "code",
   "execution_count": 35,
   "metadata": {},
   "outputs": [
    {
     "data": {
      "text/plain": [
       "{'age': 43, 'favorite_language': 'python', 'favorite_color': 'purple'}"
      ]
     },
     "execution_count": 35,
     "metadata": {},
     "output_type": "execute_result"
    }
   ],
   "source": [
    "# update a value with the update() method (if extra keys are present, they are added to the dictionary)\n",
    "d = {'age': 42, 'favorite_language': 'python'}\n",
    "d1 = {'age': 43, 'favorite_color': 'purple'}\n",
    "d.update(d1)\n",
    "d"
   ]
  },
  {
   "cell_type": "code",
   "execution_count": 36,
   "metadata": {},
   "outputs": [
    {
     "data": {
      "text/plain": [
       "{'favorite_language': 'python'}"
      ]
     },
     "execution_count": 36,
     "metadata": {},
     "output_type": "execute_result"
    }
   ],
   "source": [
    "# deleting a value with del\n",
    "d = {'age': 42, 'favorite_language': 'python'}\n",
    "del(d['age'])\n",
    "d"
   ]
  },
  {
   "cell_type": "code",
   "execution_count": 37,
   "metadata": {},
   "outputs": [
    {
     "name": "stdout",
     "output_type": "stream",
     "text": [
      "42\n",
      "{'favorite_language': 'python'}\n"
     ]
    }
   ],
   "source": [
    "# deleting a value with pop (it returns the deleted value)\n",
    "d = {'age': 42, 'favorite_language': 'python'}\n",
    "age = d.pop('age')\n",
    "print(age)\n",
    "print(d)"
   ]
  },
  {
   "cell_type": "code",
   "execution_count": null,
   "metadata": {},
   "outputs": [],
   "source": []
  },
  {
   "cell_type": "code",
   "execution_count": null,
   "metadata": {},
   "outputs": [],
   "source": []
  },
  {
   "cell_type": "code",
   "execution_count": 29,
   "metadata": {},
   "outputs": [
    {
     "name": "stdout",
     "output_type": "stream",
     "text": [
      "age\n",
      "favorite_language\n",
      "\n",
      "---\n",
      "\n",
      "age\n",
      "favorite_language\n"
     ]
    }
   ],
   "source": [
    "# get an iterable of dictionary keys\n",
    "d = {'age': 42, 'favorite_language': 'python'}\n",
    "\n",
    "# methond 1: using keys() method\n",
    "for key in d.keys():\n",
    "    print(key)\n",
    "    \n",
    "print('\\n---\\n')\n",
    "# method 2: loop directly over dictionary\n",
    "for key in d:\n",
    "    print(key)"
   ]
  },
  {
   "cell_type": "code",
   "execution_count": 30,
   "metadata": {},
   "outputs": [
    {
     "name": "stdout",
     "output_type": "stream",
     "text": [
      "42\n",
      "python\n"
     ]
    }
   ],
   "source": [
    "# get an iterable of dictionary values\n",
    "d = {'age': 42, 'favorite_language': 'python'}\n",
    "\n",
    "for value in d.values():\n",
    "    print(value)"
   ]
  },
  {
   "cell_type": "code",
   "execution_count": 31,
   "metadata": {},
   "outputs": [
    {
     "name": "stdout",
     "output_type": "stream",
     "text": [
      "('age', 42)\n",
      "('favorite_language', 'python')\n",
      "\n",
      "---\n",
      "\n",
      "age: 42\n",
      "favorite_language: python\n"
     ]
    }
   ],
   "source": [
    "# get an iterable of dictionary items (i.e. key:value pairs)\n",
    "d = {'age': 42, 'favorite_language': 'python'}\n",
    "\n",
    "# method 1: items packed into a tuple\n",
    "for item in d.items():\n",
    "    print(item)\n",
    "    \n",
    "print('\\n---\\n')\n",
    "# method 2: items unpacked into individual variables\n",
    "for key, value in d.items():\n",
    "    print(f'{key}: {value}')"
   ]
  },
  {
   "cell_type": "code",
   "execution_count": 41,
   "metadata": {},
   "outputs": [
    {
     "data": {
      "text/plain": [
       "2"
      ]
     },
     "execution_count": 41,
     "metadata": {},
     "output_type": "execute_result"
    }
   ],
   "source": [
    "# get the length of a dictionary\n",
    "d = {'age': 42, 'favorite_language': 'python'}\n",
    "len(d)"
   ]
  },
  {
   "cell_type": "code",
   "execution_count": 42,
   "metadata": {},
   "outputs": [
    {
     "data": {
      "text/plain": [
       "{}"
      ]
     },
     "execution_count": 42,
     "metadata": {},
     "output_type": "execute_result"
    }
   ],
   "source": [
    "# clear a dictionary\n",
    "d = {'age': 42, 'favorite_language': 'python'}\n",
    "d.clear()\n",
    "d"
   ]
  },
  {
   "cell_type": "code",
   "execution_count": 59,
   "metadata": {},
   "outputs": [
    {
     "data": {
      "text/plain": [
       "{'age': 42, 'favorite_language': 'python'}"
      ]
     },
     "execution_count": 59,
     "metadata": {},
     "output_type": "execute_result"
    }
   ],
   "source": [
    "# copy a dictionary with copy()\n",
    "d = {'age': 42, 'favorite_language': 'python'}\n",
    "d_copy = d.copy()\n",
    "d_copy"
   ]
  },
  {
   "cell_type": "code",
   "execution_count": 60,
   "metadata": {},
   "outputs": [
    {
     "data": {
      "text/plain": [
       "{'age': 42, 'favorite_language': 'python'}"
      ]
     },
     "execution_count": 60,
     "metadata": {},
     "output_type": "execute_result"
    }
   ],
   "source": [
    "# copy a dictionary with dict()\n",
    "d = {'age': 42, 'favorite_language': 'python'}\n",
    "d_copy = dict(d)\n",
    "d_copy"
   ]
  },
  {
   "cell_type": "code",
   "execution_count": 63,
   "metadata": {},
   "outputs": [
    {
     "name": "stdout",
     "output_type": "stream",
     "text": [
      "{'age': 42, 'favorite_language': 'python'}\n",
      "\n",
      "---\n",
      "\n",
      "{'age': 43, 'favorite_language': 'python'}\n"
     ]
    }
   ],
   "source": [
    "# caution: assigning a dictionary to a new variable doesn't make a copy\n",
    "# it merely points the new dictionary to the existing dictionary\n",
    "# => changes to new variable affect the existing dictionary\n",
    "d = {'age': 42, 'favorite_language': 'python'}\n",
    "d_not_a_copy = d\n",
    "print(d)\n",
    "print('\\n---\\n')\n",
    "d_not_a_copy['age'] = 43\n",
    "print(d)"
   ]
  },
  {
   "cell_type": "markdown",
   "metadata": {},
   "source": [
    "![](images/img_ss_dictionary_copying_26feb21.jpeg)"
   ]
  },
  {
   "cell_type": "markdown",
   "metadata": {},
   "source": [
    "<small>[Image credit: Soner Yildrim](https://towardsdatascience.com/12-examples-to-master-python-dictionaries-5a8bcd688c6d)</small>"
   ]
  },
  {
   "cell_type": "code",
   "execution_count": 65,
   "metadata": {},
   "outputs": [
    {
     "data": {
      "text/plain": [
       "True"
      ]
     },
     "execution_count": 65,
     "metadata": {},
     "output_type": "execute_result"
    }
   ],
   "source": [
    "# check if key is in dictionary\n",
    "d = {'age': 42, 'favorite_language': 'python'}\n",
    "'age' in d"
   ]
  },
  {
   "cell_type": "code",
   "execution_count": 66,
   "metadata": {},
   "outputs": [
    {
     "data": {
      "text/plain": [
       "True"
      ]
     },
     "execution_count": 66,
     "metadata": {},
     "output_type": "execute_result"
    }
   ],
   "source": [
    "# check if value is in dictionary values\n",
    "d = {'age': 42, 'favorite_language': 'python'}\n",
    "42 in d.values()"
   ]
  },
  {
   "cell_type": "code",
   "execution_count": 67,
   "metadata": {},
   "outputs": [
    {
     "data": {
      "text/plain": [
       "True"
      ]
     },
     "execution_count": 67,
     "metadata": {},
     "output_type": "execute_result"
    }
   ],
   "source": [
    "# check if item is in dictionary items\n",
    "d = {'age': 42, 'favorite_language': 'python'}\n",
    "('age', 42) in d.items()"
   ]
  },
  {
   "cell_type": "code",
   "execution_count": 68,
   "metadata": {},
   "outputs": [
    {
     "name": "stdout",
     "output_type": "stream",
     "text": [
      "True\n",
      "{}\n"
     ]
    }
   ],
   "source": [
    "d1 = {}\n",
    "d2 = dict()\n",
    "print(d1 == d2)\n",
    "print(d1)"
   ]
  },
  {
   "cell_type": "markdown",
   "metadata": {},
   "source": [
    "<a id='uses'></a>\n",
    "## 4. Practical uses of dictionaries\n",
    "---\n",
    "  \n",
    "1. Python is effectively build on dictionaries. All classes - even the built-in ones - are dictionaries of data and methods. Every time we use an object, even a primitive data type such as integer or string, we are using a dictionary. This dictionary can be accessed with the *\\__dict__()* attribute.\n",
    "2. Dictionaries make it easy to represent JSON objects. This is very useful since JSON is widely used for data exchange over the internet.\n",
    "3. Dictionaries are good for storing related data in a readable way.\n",
    "    - player data\n",
    "    - employee data\n",
    "    - time series data\n",
    "4. Dictionaries are often used for counting the frequency of elements in a list, words in a document, etc.\n",
    "5. Dictionaries can be used to store data needed to create a pandas dataframe.\n",
    "6. In many situations, hash tables turn out to be on average more efficient than search trees or any other table lookup structure. For this reason, they are widely used in many kinds of computer software, particularly for associative arrays, database indexing, caches, and sets."
   ]
  },
  {
   "cell_type": "markdown",
   "metadata": {},
   "source": [
    "<a id='resources'></a>\n",
    "## 5. Resources\n",
    "---\n",
    "  \n",
    "1. [Python official docs - data structures](https://docs.python.org/3/tutorial/datastructures.html#dictionaries)\n",
    "2. [Python official docs - built-in types](https://docs.python.org/3/library/stdtypes.html#dictionary-view-objects)\n",
    "3. [Wikipedia article on hash tables](https://en.wikipedia.org/wiki/Hash_table)\n",
    "4. [Soner Yildirim's article on Python dictionaries](https://towardsdatascience.com/12-examples-to-master-python-dictionaries-5a8bcd688c6d)\n",
    "5. [Quora article on practical uses of Python](https://www.quora.com/What-is-an-example-of-a-practical-use-of-a-dictionary-map-in-a-Python-3-program)"
   ]
  },
  {
   "cell_type": "code",
   "execution_count": null,
   "metadata": {},
   "outputs": [],
   "source": []
  }
 ],
 "metadata": {
  "kernelspec": {
   "display_name": "Python 3",
   "language": "python",
   "name": "python3"
  },
  "language_info": {
   "codemirror_mode": {
    "name": "ipython",
    "version": 3
   },
   "file_extension": ".py",
   "mimetype": "text/x-python",
   "name": "python",
   "nbconvert_exporter": "python",
   "pygments_lexer": "ipython3",
   "version": "3.7.7"
  }
 },
 "nbformat": 4,
 "nbformat_minor": 4
}
