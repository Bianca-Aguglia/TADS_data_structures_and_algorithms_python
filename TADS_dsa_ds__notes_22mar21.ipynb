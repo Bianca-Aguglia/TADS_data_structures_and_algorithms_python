{
 "cells": [
  {
   "cell_type": "markdown",
   "metadata": {},
   "source": [
    "# Data structures <small>(overview)</small>\n",
    "---\n",
    "A **data structure** is a way of organizing, managing, and storing data so that operations on that data (such as search, insert, delete) are easier or more efficient. Some examples of data structures are array, linked list, hashmap, tree, graph, etc."
   ]
  },
  {
   "cell_type": "markdown",
   "metadata": {},
   "source": [
    "**Contents**\n",
    "- [Commonly used data structures](#common)\n",
    "- [References](#references)"
   ]
  },
  {
   "cell_type": "markdown",
   "metadata": {},
   "source": [
    "### Data type vs. data structure. \n",
    "  \n",
    "Data structure is a general computer science concept. It is just a way of organizing data to make certain operations easier or harder.\n",
    "\n",
    "Data type is a concept specific to a programming language. In a way, it is a concrete implementation of a data structure in a particular programming language. But the actual definition of what constitutes a \"type\" varies among programming languages. For example, in C, you can define a struct and use it as a type. There are also basic types like int, float, char etc. In python, you can use the built-in types like list, set etc. or define your own types using classes."
   ]
  },
  {
   "cell_type": "markdown",
   "metadata": {},
   "source": [
    "## Python data type hierarchy  \n",
    "<br>  \n",
    "<img src='images/img_cc40_data_types_wikipedia_22mar21.jpg' align='left'>"
   ]
  },
  {
   "cell_type": "markdown",
   "metadata": {},
   "source": [
    "<small>[Credit: Wikipedia user Максим Пе](https://en.wikipedia.org/wiki/Data_type#/media/File:Python_3._The_standard_type_hierarchy.png)</small>"
   ]
  },
  {
   "cell_type": "markdown",
   "metadata": {},
   "source": [
    "## Commonly used data structures <a id='common'></a>\n",
    "- array (list)\n",
    "- linked list\n",
    "- hashmap (dictionary)"
   ]
  },
  {
   "cell_type": "markdown",
   "metadata": {},
   "source": [
    "## References <a id='references'></a>\n",
    "- [Wikipedia article on data structure](https://en.wikipedia.org/wiki/Data_structure#:~:text=In%20computer%20science%2C%20a%20data,be%20applied%20to%20the%20data.)\n",
    "- [stackoverflow data type vs. data structure](https://stackoverflow.com/questions/51054798/what-is-the-difference-between-data-type-and-data-structure)\n",
    "- [stackoverflow data type vs. data structure 2](https://stackoverflow.com/questions/4630377/explain-the-difference-between-a-data-structure-and-a-data-type)"
   ]
  },
  {
   "cell_type": "code",
   "execution_count": null,
   "metadata": {},
   "outputs": [],
   "source": []
  }
 ],
 "metadata": {
  "kernelspec": {
   "display_name": "Python 3",
   "language": "python",
   "name": "python3"
  },
  "language_info": {
   "codemirror_mode": {
    "name": "ipython",
    "version": 3
   },
   "file_extension": ".py",
   "mimetype": "text/x-python",
   "name": "python",
   "nbconvert_exporter": "python",
   "pygments_lexer": "ipython3",
   "version": "3.7.7"
  }
 },
 "nbformat": 4,
 "nbformat_minor": 4
}
