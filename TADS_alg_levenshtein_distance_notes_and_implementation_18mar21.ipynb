{
 "cells": [
  {
   "cell_type": "markdown",
   "metadata": {},
   "source": [
    "# Levenshtein distance\n",
    "---\n",
    "**Levenshtein distance** is a metric for expressing the difference between two sequences of characters. For example, the Levenshtein distance between two words is the minimum number of single-character edits (i.e. deletion, insertion, or substituion) needed to change one word into the other. "
   ]
  },
  {
   "cell_type": "code",
   "execution_count": 84,
   "metadata": {},
   "outputs": [],
   "source": [
    "def levenshtein_distance(source, target):\n",
    "    s, t = len(source) + 1, len(target) + 1\n",
    "    cols = [0 for _ in range(s)]\n",
    "    table = [cols.copy() for _ in range(t)]\n",
    "    for row in table:\n",
    "        print(row)\n",
    "    print(s, t, len(table))\n",
    "    for _ in range(1, s):\n",
    "        table[0][_] = _\n",
    "        \n",
    "    for row in table:\n",
    "        print(row)\n",
    "        \n",
    "    for _ in range(1, t):\n",
    "        table[_][0] = _\n",
    "        \n",
    "    for row in table:\n",
    "        print(row)\n",
    "        \n",
    "    for i in range(1, t):\n",
    "        print('i: ', i)\n",
    "        for row in table:\n",
    "            print(row)\n",
    "        for j in range(1, s):\n",
    "            print(j, end = '')\n",
    "#             print('j: ', j, ' t: ', table[i][j], ', s: ', source[i-1], ' t:  ', target[j-1])\n",
    "            if source[j-1] == target[i-1]:\n",
    "                table[i][j] = table[i-1][j-1]\n",
    "            else:\n",
    "                table[i][j] = 1 + min(table[i-1][j], table[i][j-1], table[i-1][j-1])\n",
    "        print()\n",
    "    return table[-1][-1]"
   ]
  },
  {
   "cell_type": "code",
   "execution_count": 86,
   "metadata": {
    "scrolled": true
   },
   "outputs": [
    {
     "name": "stdout",
     "output_type": "stream",
     "text": [
      "[0, 0, 0, 0, 0, 0]\n",
      "[0, 0, 0, 0, 0, 0]\n",
      "[0, 0, 0, 0, 0, 0]\n",
      "[0, 0, 0, 0, 0, 0]\n",
      "6 4 4\n",
      "[0, 1, 2, 3, 4, 5]\n",
      "[0, 0, 0, 0, 0, 0]\n",
      "[0, 0, 0, 0, 0, 0]\n",
      "[0, 0, 0, 0, 0, 0]\n",
      "[0, 1, 2, 3, 4, 5]\n",
      "[1, 0, 0, 0, 0, 0]\n",
      "[2, 0, 0, 0, 0, 0]\n",
      "[3, 0, 0, 0, 0, 0]\n",
      "i:  1\n",
      "[0, 1, 2, 3, 4, 5]\n",
      "[1, 0, 0, 0, 0, 0]\n",
      "[2, 0, 0, 0, 0, 0]\n",
      "[3, 0, 0, 0, 0, 0]\n",
      "12345\n",
      "i:  2\n",
      "[0, 1, 2, 3, 4, 5]\n",
      "[1, 1, 2, 2, 3, 4]\n",
      "[2, 0, 0, 0, 0, 0]\n",
      "[3, 0, 0, 0, 0, 0]\n",
      "12345\n",
      "i:  3\n",
      "[0, 1, 2, 3, 4, 5]\n",
      "[1, 1, 2, 2, 3, 4]\n",
      "[2, 2, 1, 2, 3, 4]\n",
      "[3, 0, 0, 0, 0, 0]\n",
      "12345\n"
     ]
    },
    {
     "data": {
      "text/plain": [
       "3"
      ]
     },
     "execution_count": 86,
     "metadata": {},
     "output_type": "execute_result"
    }
   ],
   "source": [
    "source = 'table'\n",
    "target = 'bal'\n",
    "levenshtein_distance(source, target)"
   ]
  },
  {
   "cell_type": "code",
   "execution_count": null,
   "metadata": {},
   "outputs": [],
   "source": []
  },
  {
   "cell_type": "code",
   "execution_count": null,
   "metadata": {},
   "outputs": [],
   "source": []
  },
  {
   "cell_type": "code",
   "execution_count": 4,
   "metadata": {},
   "outputs": [
    {
     "data": {
      "text/plain": [
       "[[0, 0, 0], [0, 0, 0], [0, 0, 0], [0, 0, 0]]"
      ]
     },
     "execution_count": 4,
     "metadata": {},
     "output_type": "execute_result"
    }
   ],
   "source": [
    "a = [0 for _ in range(3)]\n",
    "b = [a for _ in range(4)]\n",
    "b"
   ]
  },
  {
   "cell_type": "code",
   "execution_count": null,
   "metadata": {},
   "outputs": [],
   "source": []
  },
  {
   "cell_type": "code",
   "execution_count": null,
   "metadata": {},
   "outputs": [],
   "source": []
  },
  {
   "cell_type": "markdown",
   "metadata": {},
   "source": [
    "## Practical uses\n",
    "- spell checking\n",
    "- plagiarism detection\n",
    "- speech recognition\n",
    "- search engines\n",
    "- text summarizer\n",
    "- categorization system\n",
    "- DNA analysis"
   ]
  },
  {
   "cell_type": "markdown",
   "metadata": {},
   "source": [
    "## References\n",
    "- [Wikipedia article on Levenshtein distance](https://en.wikipedia.org/wiki/Levenshtein_distance)\n",
    "- [python-course.eu article on Levenshtein distance](https://www.python-course.eu/levenshtein_distance.php)"
   ]
  },
  {
   "cell_type": "code",
   "execution_count": null,
   "metadata": {},
   "outputs": [],
   "source": []
  }
 ],
 "metadata": {
  "kernelspec": {
   "display_name": "Python 3",
   "language": "python",
   "name": "python3"
  },
  "language_info": {
   "codemirror_mode": {
    "name": "ipython",
    "version": 3
   },
   "file_extension": ".py",
   "mimetype": "text/x-python",
   "name": "python",
   "nbconvert_exporter": "python",
   "pygments_lexer": "ipython3",
   "version": "3.7.7"
  }
 },
 "nbformat": 4,
 "nbformat_minor": 4
}
