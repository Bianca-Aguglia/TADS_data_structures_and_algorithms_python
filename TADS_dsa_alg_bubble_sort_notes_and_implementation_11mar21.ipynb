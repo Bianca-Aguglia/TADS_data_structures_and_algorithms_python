{
 "cells": [
  {
   "cell_type": "markdown",
   "metadata": {},
   "source": [
    "# Bubble sort\n",
    "---\n",
    "**Bubble sort** is a sorting algorithm that steps through a list, compares its adjacent elements, and swaps them if they are in the wrong order. The process is repeated until no more swaps are done. The algorithm, also known as *sinking sort* or *sorting by exchange*, is named for the way larger elements bubble to the top of the list.  \n",
    "  \n",
    "Bubble sort is easy to understand and to implement, so it is often used when teaching algorithms, but it performs poorly in real world applications. It has a time complexity O(n<sup>2</sup>). Because of this, it is often disparaged and there have even been recommendations to stop teaching it."
   ]
  },
  {
   "cell_type": "markdown",
   "metadata": {},
   "source": [
    "**Contents**\n",
    "- [General notes](#notes)\n",
    "- [Implementation](#implementation)\n",
    "- [References](#references)"
   ]
  },
  {
   "cell_type": "markdown",
   "metadata": {},
   "source": [
    "## General notes <a id='notes'></a>\n",
    "**Timeline**\n",
    "- **1956**: D.Knuth provides a reference to an analysis of the algorithm (refers to it as *sorting by exchange*)\n",
    "- **1959**: *Programming Business Computers* by McCracken, Weiss and Lee uses the term *exchange sorting* not *bubble sort*\n",
    "- **1962**: ACM Conference on Sorting mentions bubble sort but calls it *sorting by exchange*\n",
    "- **1962**: *A sorting problem* publlished in Journal of the ACM also uses *exchange sorting*\n",
    "- **1962**: *Programming Language* by K.A. Iverson mentions *bubble sort*. This appears to be the **first** use of the term in print.\n",
    "- **1963**: bubble sort officially enters the ACM algorithm repository as Algorithm 175, where it is named *shuttle sort*"
   ]
  },
  {
   "cell_type": "markdown",
   "metadata": {},
   "source": [
    "## Implementation"
   ]
  },
  {
   "cell_type": "code",
   "execution_count": 15,
   "metadata": {},
   "outputs": [],
   "source": [
    "def bubble_sort(array):\n",
    "    swapped = True\n",
    "    while swapped:\n",
    "        swapped = False\n",
    "        for i in range(len(array)-1):\n",
    "            if array[i] > array[i+1]:\n",
    "                array[i], array[i+1] = array[i+1], array[i]\n",
    "                swapped = True\n",
    "    return array"
   ]
  },
  {
   "cell_type": "code",
   "execution_count": 16,
   "metadata": {},
   "outputs": [],
   "source": [
    "def bubble_sort_show_steps(array):\n",
    "    swapped = True\n",
    "    pass_ = 0\n",
    "    while swapped:\n",
    "        swapped = 0\n",
    "        pass_ += 1\n",
    "        before_swap = array.copy()\n",
    "        for i in range(len(array) - 1):\n",
    "            if array[i] > array[i+1]:\n",
    "                array[i], array[i+1] = array[i+1], array[i]\n",
    "                swapped += 1\n",
    "        print(f'Pass {pass_}, swapped {swapped}: {before_swap} --> {array}')\n",
    "    return array        "
   ]
  },
  {
   "cell_type": "code",
   "execution_count": 17,
   "metadata": {},
   "outputs": [
    {
     "data": {
      "text/plain": [
       "[1, 3, 4, 5, 7]"
      ]
     },
     "execution_count": 17,
     "metadata": {},
     "output_type": "execute_result"
    }
   ],
   "source": [
    "array = [7, 5, 3, 1, 4]\n",
    "bubble_sort(array)"
   ]
  },
  {
   "cell_type": "code",
   "execution_count": 20,
   "metadata": {},
   "outputs": [
    {
     "name": "stdout",
     "output_type": "stream",
     "text": [
      "Pass 1, swapped 4: [7, 5, 3, 1, 4] --> [5, 3, 1, 4, 7]\n",
      "Pass 2, swapped 3: [5, 3, 1, 4, 7] --> [3, 1, 4, 5, 7]\n",
      "Pass 3, swapped 1: [3, 1, 4, 5, 7] --> [1, 3, 4, 5, 7]\n",
      "Pass 4, swapped 0: [1, 3, 4, 5, 7] --> [1, 3, 4, 5, 7]\n"
     ]
    },
    {
     "data": {
      "text/plain": [
       "[1, 3, 4, 5, 7]"
      ]
     },
     "execution_count": 20,
     "metadata": {},
     "output_type": "execute_result"
    }
   ],
   "source": [
    "array = [7, 5, 3, 1, 4]\n",
    "bubble_sort_show_steps(array)"
   ]
  },
  {
   "cell_type": "markdown",
   "metadata": {},
   "source": [
    "## References <a id='references'></a>\n",
    "- [Wikipedia's article on bubble sort](https://en.wikipedia.org/wiki/Bubble_sort)\n",
    "- [Owen Astrachan's article *Bubble Sort: An Archaeological Algorithm Analysis*](https://users.cs.duke.edu/~ola/bubble/bubble.html)"
   ]
  },
  {
   "cell_type": "code",
   "execution_count": null,
   "metadata": {},
   "outputs": [],
   "source": []
  }
 ],
 "metadata": {
  "kernelspec": {
   "display_name": "Python 3",
   "language": "python",
   "name": "python3"
  },
  "language_info": {
   "codemirror_mode": {
    "name": "ipython",
    "version": 3
   },
   "file_extension": ".py",
   "mimetype": "text/x-python",
   "name": "python",
   "nbconvert_exporter": "python",
   "pygments_lexer": "ipython3",
   "version": "3.7.7"
  }
 },
 "nbformat": 4,
 "nbformat_minor": 4
}
