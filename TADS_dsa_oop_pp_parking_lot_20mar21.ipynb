{
 "cells": [
  {
   "cell_type": "markdown",
   "metadata": {},
   "source": [
    "# Parking lot\n",
    "---\n",
    "**Goal:** design a parking lot using OOP."
   ]
  },
  {
   "cell_type": "markdown",
   "metadata": {},
   "source": [
    "### Questions <small>(assumed answers are in parantheses)</small>\n",
    "- is it a paid parking lot or a free one? <small>(paid)</small>\n",
    "- do parking fees fluctuate based on time of day, day of week, holidays, and special events? <small>(yes)</small>\n",
    "- what vehicle types are allowed? <small>(motorcycles, cars, trucks, vans, buses)</small>\n",
    "- what if a vehicle has been in the parking lot for an unusually long time? is there a maximum length of time allowed for each vehicle? <small>(max_stay = 48hrs, followed by vehicle towed at client's expense)</small>\n",
    "- is there a minimum amount of spaces that needs to be reserved for special_needs customers? <small>(yes, make this a variable that can change based on law requirements)</small>\n",
    "- is there a reservation system? <small>(yes) (see specs)</small>\n",
    "- is there a membership system? <small>(yes) (see specs)</small>"
   ]
  },
  {
   "cell_type": "markdown",
   "metadata": {},
   "source": [
    "### Specs\n",
    "- parking lot of size num_spaces\n",
    "- acceptable types of vehicles:\n",
    "    - car (e.g. sedan, convertible, sports)\n",
    "    - truck\n",
    "    - SUV\n",
    "    - van\n",
    "    - bus\n",
    "- a minimum of min_special_needs spots need to be reserved for special needs customers\n",
    "- there is a two-level membership system:\n",
    "    - full_time: client has 24/7 access to parking spot for each paid month\n",
    "    - partial_time: client has business hours (i.e. 7am - 6pm) acces to parking spot for each paid month\n",
    "- there is a reservation system:\n",
    "    - reservation is cancelled if later than 15 minutes\n",
    "- vehicles are parked as follows:\n",
    "    - non-bus vehicles:\n",
    "        - use up non-member, non-bus spaces\n",
    "        - use up part-time member spaces (if outside start_part_time and end_part_time time interval)\n",
    "        - use up non-bus spaces\n",
    "    - bus vehicles:\n",
    "        - can only use bus spaces\n"
   ]
  },
  {
   "cell_type": "code",
   "execution_count": 7,
   "metadata": {},
   "outputs": [],
   "source": [
    "import datetime as dt\n",
    "import math"
   ]
  },
  {
   "cell_type": "code",
   "execution_count": 12,
   "metadata": {},
   "outputs": [],
   "source": [
    "class ParkingLot:\n",
    "    min_special_needs = 0.1\n",
    "    start_part_time = dt.time(7)\n",
    "    end_part_time = dt.time(18)\n",
    "    \n",
    "    def __init__(self, num_spaces, slot_schema = {}, vtypes = ['car', 'truck', 'suv', 'van', 'bus']):\n",
    "        '''\n",
    "        Params:\n",
    "            num_spaces: total number of spaces in the parking lot\n",
    "            slot_schema: dictionary that shows numnber of parking spots assigned to each of the following categories:\n",
    "                                - special_needs\n",
    "                                - membership_ft (full-time membership)\n",
    "                                - membership_pt (part-time membership)\n",
    "                                - bus\n",
    "                         if slot_schema is None, special_needs is assigned min_special_needs, remaing spots are all non-bus\n",
    "            vtypes: list of types of vehicles allowed in the parking lot\n",
    "        '''\n",
    "        self.num_spaces = num_spaces\n",
    "        self.slot_schema = slot_schema if slot_schema else self.make_slot_schema()\n",
    "        self.vtypes = vtypes\n",
    "        self.members = {}\n",
    "        \n",
    "    def __repr__(self):\n",
    "        return f'ParkingLot({self.num_spaces})'\n",
    "        \n",
    "    def make_slot_schema(self):\n",
    "        # calculate minimum special_needs and round up to next largest integer\n",
    "        special_needs = math.ceil(self.num_spaces *self.min_special_needs)\n",
    "        slot_schema = {'special_needs': special_needs,\n",
    "                       'non-bus': self.num_spaces - special_needs}\n",
    "        return slot_schema\n",
    "    \n",
    "    def process_incoming_vehicle(self, vehicle):\n",
    "        # if incoming vehicle is reservation\n",
    "        if self.is_reservation(vehicle):\n",
    "            return self.park_reservation(vehicle)\n",
    "        \n",
    "        # if incoming car is membership_ft or membership_pt\n",
    "        if self.is_membership(vehicle):\n",
    "            if self.is_membership_time(vehicle):\n",
    "                return self.park_membership(vehicle)\n",
    "            else:\n",
    "                return self.park_membership_outside_hours(vehicle)\n",
    "            \n",
    "        if self.is_slot_available(vehicle):\n",
    "            return self.park_vehicle(vehicle)\n",
    "        \n",
    "        return 'This parking lot is currently full.'\n",
    "    \n",
    "    \n",
    "    def park_membership(self, vehicle):\n",
    "        pass\n",
    "    \n",
    "    def park_membership_outside_hours(self, vehicle):\n",
    "        start_pt = self.start_part_time.strftime('%H:%M')\n",
    "        end_pt = self.end_part_time('%H:%M')\n",
    "        message = (f'Welcome back {vehicle.name}. Your membership hours are {start_pt} to {end_pt}.\\n' +\n",
    "                   f'Do you wish to proceed with regular parking fees? (y or n) ')\n",
    "        if input(message) == 'n':\n",
    "            return 'Thank you. See you again during your membership hours.'\n",
    "            \n",
    "        \n",
    "        \n",
    "        \n",
    "    def is_membership(self, vid):\n",
    "        return vid in self.members\n",
    "    \n",
    "    def is_membership_time(self, vid):\n",
    "        '''\n",
    "        Check membership client is within the allowed membership time.\n",
    "        '''\n",
    "        # full_time members have 24/7 access\n",
    "        if self.members[vid] == 'full_time':\n",
    "            return True\n",
    "        \n",
    "        # part_time members are allowed between start_part_time and end_part_time\n",
    "        current_time = dt.datetime.now().time()\n",
    "        return start_part_time <= current_time <= end_part_time\n",
    "        \n",
    "        \n",
    "    def is_full(self):\n",
    "        pass\n",
    "    \n",
    "    def is_available(self, vtype):\n",
    "        pass\n",
    "    \n",
    "    def start_time(self):\n",
    "        pass\n",
    "    \n",
    "    def end_time(self):\n",
    "        pass\n",
    "        \n",
    "    def add_membership(self):\n",
    "        pass\n",
    "    \n",
    "    def remove_membership(self):\n",
    "        pass\n",
    "    \n",
    "    def make_reservation(self):\n",
    "        pass\n",
    "    \n",
    "    def cancel_reservation(self):\n",
    "        pass\n",
    "    \n",
    "    def check_in_reservation(self):\n",
    "        pass\n",
    "        "
   ]
  },
  {
   "cell_type": "code",
   "execution_count": 14,
   "metadata": {},
   "outputs": [
    {
     "data": {
      "text/plain": [
       "ParkingLot(12)"
      ]
     },
     "execution_count": 14,
     "metadata": {},
     "output_type": "execute_result"
    }
   ],
   "source": [
    "p = ParkingLot(12)\n",
    "p"
   ]
  },
  {
   "cell_type": "code",
   "execution_count": 15,
   "metadata": {},
   "outputs": [
    {
     "data": {
      "text/plain": [
       "{'special_needs': 2, 'non-bus': 10}"
      ]
     },
     "execution_count": 15,
     "metadata": {},
     "output_type": "execute_result"
    }
   ],
   "source": [
    "p.slot_schema"
   ]
  },
  {
   "cell_type": "code",
   "execution_count": null,
   "metadata": {},
   "outputs": [],
   "source": [
    "class Vehicle:\n",
    "    def __init__(self, vplate, vtype = 'car', make = None, model = None):\n",
    "        '''\n",
    "        Params:\n",
    "            vid: vehicle id (i.e. license plate)\n",
    "            vtype: vehicle type (e.g. car, truck, suv, van, bus, semi-trailer, etc)\n",
    "        '''"
   ]
  }
 ],
 "metadata": {
  "kernelspec": {
   "display_name": "Python 3",
   "language": "python",
   "name": "python3"
  },
  "language_info": {
   "codemirror_mode": {
    "name": "ipython",
    "version": 3
   },
   "file_extension": ".py",
   "mimetype": "text/x-python",
   "name": "python",
   "nbconvert_exporter": "python",
   "pygments_lexer": "ipython3",
   "version": "3.7.7"
  }
 },
 "nbformat": 4,
 "nbformat_minor": 4
}
