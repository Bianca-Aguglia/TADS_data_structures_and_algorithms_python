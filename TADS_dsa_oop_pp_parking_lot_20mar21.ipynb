{
 "cells": [
  {
   "cell_type": "markdown",
   "metadata": {},
   "source": [
    "# Parking lot\n",
    "---\n",
    "**Goal:** design a parking lot using OOP."
   ]
  },
  {
   "cell_type": "markdown",
   "metadata": {},
   "source": [
    "### Questions <small>(assumed answers are in parantheses)</small>\n",
    "- is it a paid parking lot or a free one? <small>(paid)</small>\n",
    "- do parking fees fluctuate based on time of day, day of week, holidays, and special events? <small>(yes)</small>\n",
    "- what vehicle types are allowed? <small>(motorcycles, cars, trucks, vans, buses)</small>\n",
    "- what if a vehicle has been in the parking lot for an unusually long time? is there a maximum length of time allowed for each vehicle? <small>(max_stay = 48hrs, followed by vehicle towed at client's expense)</small>"
   ]
  },
  {
   "cell_type": "code",
   "execution_count": null,
   "metadata": {},
   "outputs": [],
   "source": []
  }
 ],
 "metadata": {
  "kernelspec": {
   "display_name": "Python 3",
   "language": "python",
   "name": "python3"
  },
  "language_info": {
   "codemirror_mode": {
    "name": "ipython",
    "version": 3
   },
   "file_extension": ".py",
   "mimetype": "text/x-python",
   "name": "python",
   "nbconvert_exporter": "python",
   "pygments_lexer": "ipython3",
   "version": "3.7.7"
  }
 },
 "nbformat": 4,
 "nbformat_minor": 4
}
