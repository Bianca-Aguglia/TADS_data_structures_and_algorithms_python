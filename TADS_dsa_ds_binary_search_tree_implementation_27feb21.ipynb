{
 "cells": [
  {
   "cell_type": "markdown",
   "metadata": {},
   "source": [
    "# Binary Search Tree - Python implementation\n",
    "---\n",
    "**Goal:** implement a binary search tree in Python"
   ]
  },
  {
   "cell_type": "code",
   "execution_count": 1,
   "metadata": {},
   "outputs": [],
   "source": [
    "class Node:\n",
    "    def __init__(self, value):\n",
    "        self.value = value\n",
    "        self.left = None\n",
    "        self.right = None"
   ]
  },
  {
   "cell_type": "code",
   "execution_count": 2,
   "metadata": {},
   "outputs": [],
   "source": [
    "class BST:\n",
    "    def __init__(self, value=None):\n",
    "        if value:\n",
    "            self.root = Node(value)\n",
    "        else:\n",
    "            self.root = None\n",
    "        \n",
    "    def insert(self, value):\n",
    "        if self.root is None:\n",
    "            self.root = Node(value)\n",
    "            return f'root created: {value}'\n",
    "        else:\n",
    "            ins = self._insert(self.root, value)\n",
    "            return ins\n",
    "            \n",
    "    def _insert(self, node, value):\n",
    "        if value < node.value:\n",
    "            if node.left is None:\n",
    "                node.left = Node(value)\n",
    "                return f'{value} was inserted in tree'\n",
    "            else:\n",
    "                return self._insert(node.left, value)\n",
    "        elif value > node.value:\n",
    "            if node.right is None:\n",
    "                node.right = Node(value)\n",
    "                return f'{value} was inserted in tree'\n",
    "            else:\n",
    "                return self._insert(node.right, value)\n",
    "        else:\n",
    "            return f'{value} already in tree'\n",
    "        \n",
    "    def print_tree(self, traversal_type='in_order'):\n",
    "        if traversal_type == 'in_order':\n",
    "            return self.print_in_order(self.root)\n",
    "        elif traversal_type == 'pre_order':\n",
    "            return self.print_pre_order(self.root)\n",
    "        elif traversal_type == 'post_order':\n",
    "            return self.print_post_order(self.root)\n",
    "        else:\n",
    "            return f'{traversal_type} traversal type not supported'\n",
    "        \n",
    "                \n",
    "    def print_in_order(self, node):\n",
    "        nodes = []\n",
    "        if node:\n",
    "            nodes.extend(self.print_in_order(node.left))\n",
    "            nodes.append(node.value)\n",
    "            nodes.extend(self.print_in_order(node.right))\n",
    "        return nodes\n",
    "        \n",
    "    def print_pre_order(self, node):\n",
    "        nodes = []\n",
    "        if node:\n",
    "            nodes.append(node.value)\n",
    "            nodes.extend(self.print_pre_order(node.left))\n",
    "            nodes.extend(self.print_pre_order(node.right))\n",
    "        return nodes\n",
    "    \n",
    "    def print_post_order(self, node):\n",
    "        nodes = []\n",
    "        if node:\n",
    "            nodes.extend(self.print_post_order(node.left))\n",
    "            nodes.extend(self.print_post_order(node.right))\n",
    "            nodes.append(node.value)\n",
    "        return nodes\n",
    "    \n",
    "    def search(self, value):\n",
    "        if self.root:\n",
    "            return self._search(self.root, value)\n",
    "        else:\n",
    "            return 'tree is empty'\n",
    "    \n",
    "    def _search(self, node, value):\n",
    "        if node:\n",
    "            if node.value == value:\n",
    "                return True\n",
    "            elif value < node.value:\n",
    "                return self._search(node.left, value)\n",
    "            elif value < node.value:\n",
    "                return self._search(node.right, value)\n",
    "        else:\n",
    "            return False\n",
    "        \n",
    "    def find_max(self, value):\n",
    "        pass\n",
    "    \n",
    "    def find_min(self, value):\n",
    "        pass\n",
    "    \n",
    "    def find_closest(self, value):\n",
    "        pass\n",
    "    \n",
    "    def remove(self, value):\n",
    "        pass\n",
    "        \n",
    "            \n",
    "        "
   ]
  },
  {
   "cell_type": "code",
   "execution_count": 3,
   "metadata": {},
   "outputs": [],
   "source": [
    "bst1 = BST()"
   ]
  },
  {
   "cell_type": "code",
   "execution_count": 4,
   "metadata": {},
   "outputs": [
    {
     "name": "stdout",
     "output_type": "stream",
     "text": [
      "root created: 5\n",
      "3 was inserted in tree\n",
      "2 was inserted in tree\n",
      "4 was inserted in tree\n",
      "7 was inserted in tree\n",
      "6 was inserted in tree\n",
      "8 was inserted in tree\n"
     ]
    }
   ],
   "source": [
    "nums = [int(x) for x in list('5324768')]\n",
    "def add_to_tree(nums = nums, tree = bst1):\n",
    "    for num in nums:\n",
    "        print(tree.insert(num))\n",
    "add_to_tree()"
   ]
  },
  {
   "cell_type": "code",
   "execution_count": 5,
   "metadata": {},
   "outputs": [
    {
     "name": "stdout",
     "output_type": "stream",
     "text": [
      "[2, 3, 4, 5, 6, 7, 8]\n",
      "[5, 3, 2, 4, 7, 6, 8]\n",
      "[2, 4, 3, 6, 8, 7, 5]\n"
     ]
    }
   ],
   "source": [
    "print(bst1.print_tree())\n",
    "print(bst1.print_tree('pre_order'))\n",
    "print(bst1.print_tree('post_order'))"
   ]
  },
  {
   "cell_type": "code",
   "execution_count": 6,
   "metadata": {},
   "outputs": [
    {
     "data": {
      "text/plain": [
       "True"
      ]
     },
     "execution_count": 6,
     "metadata": {},
     "output_type": "execute_result"
    }
   ],
   "source": [
    "bst1.search(3)"
   ]
  },
  {
   "cell_type": "code",
   "execution_count": null,
   "metadata": {},
   "outputs": [],
   "source": []
  }
 ],
 "metadata": {
  "kernelspec": {
   "display_name": "Python 3",
   "language": "python",
   "name": "python3"
  },
  "language_info": {
   "codemirror_mode": {
    "name": "ipython",
    "version": 3
   },
   "file_extension": ".py",
   "mimetype": "text/x-python",
   "name": "python",
   "nbconvert_exporter": "python",
   "pygments_lexer": "ipython3",
   "version": "3.7.7"
  }
 },
 "nbformat": 4,
 "nbformat_minor": 4
}
