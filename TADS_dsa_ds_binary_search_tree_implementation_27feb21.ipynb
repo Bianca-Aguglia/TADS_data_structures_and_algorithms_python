{
 "cells": [
  {
   "cell_type": "markdown",
   "metadata": {},
   "source": [
    "# Binary Search Tree - Python implementation\n",
    "---\n",
    "**Goal:** implement a binary search tree in Python"
   ]
  },
  {
   "cell_type": "code",
   "execution_count": 1,
   "metadata": {},
   "outputs": [],
   "source": [
    "class Node:\n",
    "    def __init__(self, value):\n",
    "        self.value = value\n",
    "        self.left = None\n",
    "        self.right = None\n",
    "        \n",
    "    def __repr__(self):\n",
    "        return f'Node({self.value})'\n",
    "        \n",
    "    def __str__(self):\n",
    "        try:\n",
    "            return f'Node(value: {self.value}, left: {self.left.value}, right: {self.right.value})'\n",
    "        except: # if node is root node\n",
    "            return f'Node(value: {self.value}, left: {self.left}, right: {self.right})'"
   ]
  },
  {
   "cell_type": "code",
   "execution_count": 2,
   "metadata": {},
   "outputs": [],
   "source": [
    "class BST:\n",
    "    def __init__(self, value=None):\n",
    "        if value:\n",
    "            self.root = Node(value)\n",
    "        else:\n",
    "            self.root = None\n",
    "        \n",
    "    def insert(self, value):\n",
    "        if self.root is None:\n",
    "            self.root = Node(value)\n",
    "            return f'root created: {value}'\n",
    "        else:\n",
    "            ins = self._insert(self.root, value)\n",
    "            return ins\n",
    "            \n",
    "    def _insert(self, node, value):\n",
    "        if value < node.value:\n",
    "            if node.left is None:\n",
    "                node.left = Node(value)\n",
    "                return f'{value} was inserted in tree'\n",
    "            else:\n",
    "                return self._insert(node.left, value)\n",
    "        elif value > node.value:\n",
    "            if node.right is None:\n",
    "                node.right = Node(value)\n",
    "                return f'{value} was inserted in tree'\n",
    "            else:\n",
    "                return self._insert(node.right, value)\n",
    "        else:\n",
    "            return f'{value} already in tree'\n",
    "        \n",
    "    def print_tree(self, traversal_type='in_order'):\n",
    "        if traversal_type == 'in_order':\n",
    "            return self.print_in_order(self.root)\n",
    "        elif traversal_type == 'pre_order':\n",
    "            return self.print_pre_order(self.root)\n",
    "        elif traversal_type == 'post_order':\n",
    "            return self.print_post_order(self.root)\n",
    "        else:\n",
    "            return f'{traversal_type} traversal type not supported'\n",
    "        \n",
    "                \n",
    "    def print_in_order(self, node):\n",
    "        nodes = []\n",
    "        if node:\n",
    "            nodes.extend(self.print_in_order(node.left))\n",
    "            nodes.append(node.value)\n",
    "            nodes.extend(self.print_in_order(node.right))\n",
    "        return nodes\n",
    "        \n",
    "    def print_pre_order(self, node):\n",
    "        nodes = []\n",
    "        if node:\n",
    "            nodes.append(node.value)\n",
    "            nodes.extend(self.print_pre_order(node.left))\n",
    "            nodes.extend(self.print_pre_order(node.right))\n",
    "        return nodes\n",
    "    \n",
    "    def print_post_order(self, node):\n",
    "        nodes = []\n",
    "        if node:\n",
    "            nodes.extend(self.print_post_order(node.left))\n",
    "            nodes.extend(self.print_post_order(node.right))\n",
    "            nodes.append(node.value)\n",
    "        return nodes\n",
    "    \n",
    "    def search(self, value):\n",
    "        if self.root:\n",
    "            return self._search(self.root, value)\n",
    "        else:\n",
    "            return 'tree is empty'\n",
    "    \n",
    "    def _search(self, node, value):\n",
    "        if node:\n",
    "            if node.value == value:\n",
    "                return True\n",
    "            elif value < node.value:\n",
    "                return self._search(node.left, value)\n",
    "            elif value > node.value:\n",
    "                return self._search(node.right, value)\n",
    "        else:\n",
    "            return False\n",
    "        \n",
    "    def find_max(self):\n",
    "        if self.root is None:\n",
    "            return 'tree is empty'\n",
    "        else:\n",
    "            cur_node = self.root\n",
    "            while cur_node.right:\n",
    "                cur_node = cur_node.right\n",
    "            return cur_node.value\n",
    "        \n",
    "    \n",
    "    def find_min(self, value):\n",
    "        if self.root is None:\n",
    "            return 'tree is empty'\n",
    "        else:\n",
    "            cur_node = self.root\n",
    "            while cur_node.left:\n",
    "                cur_node = cur_node.left\n",
    "            return cur_node.value\n",
    "    \n",
    "    def find_closest(self, value):\n",
    "        if self.root is None:\n",
    "            return 'tree is empty'\n",
    "        else:\n",
    "            cur_diff = abs(self.root.value - value)\n",
    "            cur_val = self.root.value\n",
    "            return self._find_closest(self.root, cur_diff, cur_val, value)\n",
    "        \n",
    "    def _find_closest(self, cur_node, cur_diff, cur_val, value):\n",
    "        if cur_node:\n",
    "            if abs(cur_node.value - value) < cur_diff:\n",
    "                cur_diff = abs(cur_node.value - value)\n",
    "                cur_val = cur_node.value\n",
    "            if value < cur_node.value:\n",
    "                return self._find_closest(cur_node.left, cur_diff, cur_val, value)\n",
    "            elif value > cur_node.value:\n",
    "                return self._find_closest(cur_node.right, cur_diff, cur_val, value)\n",
    "        cur_closest = {'minimum_difference': cur_diff,\n",
    "                      'closest_value': cur_val}\n",
    "        return cur_closest\n",
    "            \n",
    "            \n",
    "    \n",
    "    def remove(self, value):\n",
    "        if self.root is None:\n",
    "            return 'tree is empty'\n",
    "        if not self.search(value):\n",
    "            return 'value not in tree'\n",
    "        return self._remove(self.root, value)\n",
    "    \n",
    "    def _remove(self, node, value):\n",
    "        if value < node.value:\n",
    "            # target value is in left subtree\n",
    "            node.left = self._remove(node.left, value)\n",
    "            return f'{value} was removed from tree'\n",
    "        \n",
    "        elif value > node.value:\n",
    "            # target value is in right subtree\n",
    "            node.right = self._remove(node.right, value)\n",
    "            return f'{value} was removed from tree'\n",
    "        \n",
    "        else:\n",
    "            # found target value\n",
    "            if node.left == node.right == None:\n",
    "                return None\n",
    "            if node.left == None:\n",
    "                return node.right\n",
    "            if node.right == None:\n",
    "                return node.left\n",
    "            parent, replacement_node = node, node.left\n",
    "            while replacement_node.right is not None:\n",
    "                parent, replacement_node = replacement_node, replacement_node.right\n",
    "            # Now, `node` is the rightmost node in the left subtree, and\n",
    "            # `parent` its parent node. Instead of replacing `self`, we change\n",
    "            # its attributes to match the value of `node`.\n",
    "            if parent.left is replacement_node:\n",
    "                # This check is necessary, because if the left subtree has only\n",
    "                # node, `node` would be `self.left`.\n",
    "                parent.left = None\n",
    "            else:\n",
    "                parent.right = None\n",
    "            node.value = replacement_node.value\n",
    "            return node    "
   ]
  },
  {
   "cell_type": "markdown",
   "metadata": {},
   "source": [
    "### 1. Left branch sums"
   ]
  },
  {
   "cell_type": "code",
   "execution_count": 8,
   "metadata": {},
   "outputs": [],
   "source": [
    "def branch_sums(root):\n",
    "    sums = []\n",
    "    running_sum = 0\n",
    "    return branch_sum(root, running_sum, sums)"
   ]
  },
  {
   "cell_type": "code",
   "execution_count": 9,
   "metadata": {},
   "outputs": [],
   "source": [
    "def branch_sum(node, running_sum, sums):\n",
    "    if node:\n",
    "        running_sum += node.value\n",
    "        if node.left == None and node.right == None:\n",
    "            sums.append(running_sum)\n",
    "            \n",
    "        branch_sum(node.left, running_sum, sums)\n",
    "        branch_sum(node.right, running_sum, sums)\n",
    "        \n",
    "    return sums"
   ]
  },
  {
   "cell_type": "code",
   "execution_count": 10,
   "metadata": {},
   "outputs": [
    {
     "name": "stdout",
     "output_type": "stream",
     "text": [
      "root created: 9\n",
      "15 was inserted in tree\n",
      "5 was inserted in tree\n",
      "2 was inserted in tree\n",
      "8 was inserted in tree\n",
      "7 was inserted in tree\n",
      "6 was inserted in tree\n",
      "14 was inserted in tree\n",
      "12 was inserted in tree\n",
      "13 was inserted in tree\n",
      "17 was inserted in tree\n"
     ]
    }
   ],
   "source": [
    "bst1 = BST()\n",
    "nums = [int(x) for x in list('5324768')]\n",
    "nums = [9, 15, 5, 2, 8, 7, 6, 14, 12, 13, 17]\n",
    "def add_to_tree(nums = nums, tree = bst1):\n",
    "    for num in nums:\n",
    "        print(tree.insert(num))\n",
    "add_to_tree()"
   ]
  },
  {
   "cell_type": "code",
   "execution_count": 11,
   "metadata": {},
   "outputs": [
    {
     "data": {
      "text/plain": [
       "[16, 35, 63, 41]"
      ]
     },
     "execution_count": 11,
     "metadata": {},
     "output_type": "execute_result"
    }
   ],
   "source": [
    "branch_sums(bst1.root)"
   ]
  },
  {
   "cell_type": "code",
   "execution_count": 92,
   "metadata": {},
   "outputs": [],
   "source": [
    "def nodeDepths(root):\n",
    "    return node_depth(root, 0)\n",
    "\n",
    "def node_depth(node, running_depth):\n",
    "    if node is None:\n",
    "        return 0\n",
    "#         running_depth = node_depth(node.left, running_depth) + 1\n",
    "#         running_depth = node_depth(node.right, running_depth) + 1\n",
    "#         running_depth += 1\n",
    "    return running_depth + node_depth(node.left, running_depth + 1) + node_depth(node.right, running_depth + 1)\n"
   ]
  },
  {
   "cell_type": "code",
   "execution_count": 93,
   "metadata": {
    "scrolled": true
   },
   "outputs": [
    {
     "data": {
      "text/plain": [
       "24"
      ]
     },
     "execution_count": 93,
     "metadata": {},
     "output_type": "execute_result"
    }
   ],
   "source": [
    "nodeDepths(bst1.root)"
   ]
  },
  {
   "cell_type": "code",
   "execution_count": 25,
   "metadata": {},
   "outputs": [],
   "source": [
    "bst1 = BST()"
   ]
  },
  {
   "cell_type": "code",
   "execution_count": 26,
   "metadata": {},
   "outputs": [
    {
     "name": "stdout",
     "output_type": "stream",
     "text": [
      "root created: 9\n",
      "15 was inserted in tree\n",
      "5 was inserted in tree\n",
      "2 was inserted in tree\n",
      "8 was inserted in tree\n",
      "7 was inserted in tree\n",
      "6 was inserted in tree\n",
      "14 was inserted in tree\n",
      "12 was inserted in tree\n",
      "13 was inserted in tree\n",
      "17 was inserted in tree\n"
     ]
    }
   ],
   "source": [
    "nums = [int(x) for x in list('5324768')]\n",
    "nums = [9, 15, 5, 2, 8, 7, 6, 14, 12, 13, 17]\n",
    "def add_to_tree(nums = nums, tree = bst1):\n",
    "    for num in nums:\n",
    "        print(tree.insert(num))\n",
    "add_to_tree()"
   ]
  },
  {
   "cell_type": "code",
   "execution_count": 27,
   "metadata": {},
   "outputs": [
    {
     "name": "stdout",
     "output_type": "stream",
     "text": [
      "[2, 5, 6, 7, 8, 9, 12, 13, 14, 15, 17]\n",
      "[9, 5, 2, 8, 7, 6, 15, 14, 12, 13, 17]\n",
      "[2, 6, 7, 8, 5, 13, 12, 14, 17, 15, 9]\n"
     ]
    }
   ],
   "source": [
    "print(bst1.print_tree())\n",
    "print(bst1.print_tree('pre_order'))\n",
    "print(bst1.print_tree('post_order'))"
   ]
  },
  {
   "cell_type": "code",
   "execution_count": 28,
   "metadata": {},
   "outputs": [
    {
     "data": {
      "text/plain": [
       "'5 was removed from tree'"
      ]
     },
     "execution_count": 28,
     "metadata": {},
     "output_type": "execute_result"
    }
   ],
   "source": [
    "bst1.remove(5)"
   ]
  },
  {
   "cell_type": "code",
   "execution_count": 29,
   "metadata": {},
   "outputs": [
    {
     "name": "stdout",
     "output_type": "stream",
     "text": [
      "[2, 6, 7, 8, 9, 12, 13, 14, 15, 17]\n",
      "[9, 2, 8, 7, 6, 15, 14, 12, 13, 17]\n",
      "[6, 7, 8, 2, 13, 12, 14, 17, 15, 9]\n"
     ]
    }
   ],
   "source": [
    "print(bst1.print_tree())\n",
    "print(bst1.print_tree('pre_order'))\n",
    "print(bst1.print_tree('post_order'))"
   ]
  },
  {
   "cell_type": "code",
   "execution_count": 30,
   "metadata": {},
   "outputs": [
    {
     "name": "stdout",
     "output_type": "stream",
     "text": [
      "Node(value: 9, left: 2, right: 15)\n"
     ]
    },
    {
     "data": {
      "text/plain": [
       "Node(9)"
      ]
     },
     "execution_count": 30,
     "metadata": {},
     "output_type": "execute_result"
    }
   ],
   "source": [
    "print(bst1.root)\n",
    "bst1.root"
   ]
  },
  {
   "cell_type": "code",
   "execution_count": 176,
   "metadata": {},
   "outputs": [
    {
     "data": {
      "text/plain": [
       "True"
      ]
     },
     "execution_count": 176,
     "metadata": {},
     "output_type": "execute_result"
    }
   ],
   "source": [
    "bst1.search(4)"
   ]
  },
  {
   "cell_type": "code",
   "execution_count": 177,
   "metadata": {},
   "outputs": [
    {
     "name": "stdout",
     "output_type": "stream",
     "text": [
      "8\n"
     ]
    }
   ],
   "source": [
    "print(bst1.find_max())"
   ]
  },
  {
   "cell_type": "code",
   "execution_count": 178,
   "metadata": {},
   "outputs": [
    {
     "data": {
      "text/plain": [
       "{'minimum_difference': 1, 'closest_value': 2}"
      ]
     },
     "execution_count": 178,
     "metadata": {},
     "output_type": "execute_result"
    }
   ],
   "source": [
    "bst1.find_closest(1)"
   ]
  },
  {
   "cell_type": "code",
   "execution_count": null,
   "metadata": {},
   "outputs": [],
   "source": []
  },
  {
   "cell_type": "code",
   "execution_count": null,
   "metadata": {},
   "outputs": [],
   "source": []
  },
  {
   "cell_type": "code",
   "execution_count": null,
   "metadata": {},
   "outputs": [],
   "source": []
  },
  {
   "cell_type": "code",
   "execution_count": null,
   "metadata": {},
   "outputs": [],
   "source": []
  },
  {
   "cell_type": "code",
   "execution_count": null,
   "metadata": {},
   "outputs": [],
   "source": []
  },
  {
   "cell_type": "code",
   "execution_count": null,
   "metadata": {},
   "outputs": [],
   "source": []
  },
  {
   "cell_type": "code",
   "execution_count": null,
   "metadata": {},
   "outputs": [],
   "source": []
  },
  {
   "cell_type": "code",
   "execution_count": null,
   "metadata": {},
   "outputs": [],
   "source": []
  },
  {
   "cell_type": "code",
   "execution_count": null,
   "metadata": {},
   "outputs": [],
   "source": []
  },
  {
   "cell_type": "code",
   "execution_count": null,
   "metadata": {},
   "outputs": [],
   "source": []
  },
  {
   "cell_type": "code",
   "execution_count": null,
   "metadata": {},
   "outputs": [],
   "source": [
    "class Node:\n",
    "    def __init__(self, value):\n",
    "        self.value = value\n",
    "        self.left = None\n",
    "        self.right = None\n",
    "        \n",
    "    def remove(self, value):\n",
    "        if self.root is None:\n",
    "            return 'tree is empty'\n",
    "        if not self.search(value):\n",
    "            return 'value not in tree'\n",
    "        return self._remove(self.root, value)\n",
    "    \n",
    "    def _remove(self, node, value):\n",
    "        if value < node.value:\n",
    "            # target value is in left subtree\n",
    "            node.left = self._remove(node.left, value)\n",
    "            return f'{value} was removed from tree'\n",
    "        \n",
    "        elif value > node.value:\n",
    "            # target value is in right subtree\n",
    "            node.right = self._remove(node.right, value)\n",
    "            return f'{value} was removed from tree'\n",
    "        \n",
    "        else:\n",
    "            # found target value\n",
    "            if node.left == node.right == None:\n",
    "                return None\n",
    "            if node.left == None:\n",
    "                return node.right\n",
    "            if node.right == None:\n",
    "                return node.left\n",
    "            parent, replacement_node = node, node.left\n",
    "            while replacement_node.right is not None:\n",
    "                parent, replacement_node = replacement_node, replacement_node.right\n",
    "            # Now, `node` is the rightmost node in the left subtree, and\n",
    "            # `parent` its parent node. Instead of replacing `self`, we change\n",
    "            # its attributes to match the value of `node`.\n",
    "            if parent.left is replacement_node:\n",
    "                # This check is necessary, because if the left subtree has only\n",
    "                # node, `node` would be `self.left`.\n",
    "                parent.left = None\n",
    "            else:\n",
    "                parent.right = None\n",
    "            node.value = replacement_node.value\n",
    "            return node    \n",
    "\n",
    "    def delete(self, key):\n",
    "        \n",
    "        \"\"\"Delete a node with value `key`.\"\"\"\n",
    "        if key < self.value: \n",
    "            # Find and delete the value in the left subtree.\n",
    "            if self.left is None:\n",
    "                # There's no left subtree; the value does not exist.\n",
    "                raise ValueError(\"Value not found in tree\")\n",
    "            self.left = self.left.delete(key)\n",
    "            return self  # current node not deleted, just return\n",
    "        elif key > self.value: \n",
    "            # Find and delete the value in the right subtree.\n",
    "            if self.right is None:\n",
    "                # There's no right subtree; the value does not exist.\n",
    "                raise ValueError(\"Value not found in tree\")\n",
    "            self.right = self.right.delete(key)\n",
    "            return self  # current node not deleted, just return\n",
    "        else:\n",
    "            # The current node should be deleted.\n",
    "            if self.left is None and self.right is None:\n",
    "                # The node has no children -- it is a leaf node. Just delete.\n",
    "                return None\n",
    "\n",
    "            # If the node has only one children, simply return that child.\n",
    "            if self.left is None:\n",
    "                return self.right\n",
    "            if self.right is None:\n",
    "                return self.left\n",
    "\n",
    "            # The node has both left and right subtrees, and they should be merged.\n",
    "            # Following your implementation, we find the rightmost node in the\n",
    "            # left subtree and replace the current node with it.\n",
    "            parent, node = self, self.left\n",
    "            while node.right is not None:\n",
    "                parent, node = node, node.right\n",
    "            # Now, `node` is the rightmost node in the left subtree, and\n",
    "            # `parent` its parent node. Instead of replacing `self`, we change\n",
    "            # its attributes to match the value of `node`.\n",
    "            if parent.left is node:\n",
    "                # This check is necessary, because if the left subtree has only\n",
    "                # node, `node` would be `self.left`.\n",
    "                parent.left = None\n",
    "            else:\n",
    "                parent.right = None\n",
    "            self.value = node.val\n",
    "            return self"
   ]
  }
 ],
 "metadata": {
  "kernelspec": {
   "display_name": "Python 3",
   "language": "python",
   "name": "python3"
  },
  "language_info": {
   "codemirror_mode": {
    "name": "ipython",
    "version": 3
   },
   "file_extension": ".py",
   "mimetype": "text/x-python",
   "name": "python",
   "nbconvert_exporter": "python",
   "pygments_lexer": "ipython3",
   "version": "3.7.7"
  }
 },
 "nbformat": 4,
 "nbformat_minor": 4
}
