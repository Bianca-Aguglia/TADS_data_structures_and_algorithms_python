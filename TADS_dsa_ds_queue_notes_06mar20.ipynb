{
 "cells": [
  {
   "cell_type": "markdown",
   "metadata": {},
   "source": [
    "# Queue\n",
    "---\n",
    "A **queue** is a data structure made of a linear collection of elements which meet the following requirement: the first element added to the queue is the first one to be removed from the queue. This requirement is also known as FIFO (first in, first out). By convention, the end at which new elements are added is called back, tail, or rear of the queue, and the end at which elements are removed from the queue is called head or front of the queue.  \n",
    "  \n",
    "Real life examples of FIFO situations are lines people form when waiting for their turn at a cash register, an amusement park ride, etc. "
   ]
  },
  {
   "cell_type": "markdown",
   "metadata": {},
   "source": [
    "<img src='images/img_cc30_queue_wikipedia_07mar21.jpg' align='left'>"
   ]
  },
  {
   "cell_type": "markdown",
   "metadata": {},
   "source": [
    "<small>[Credit: Wikipedia user Vegpuff](https://en.wikipedia.org/wiki/Queue_(abstract_data_type)#/media/File:Data_Queue.svg)</small>"
   ]
  },
  {
   "cell_type": "markdown",
   "metadata": {},
   "source": [
    "**Contents**\n",
    "- [General notes](#notes)\n",
    "- [Main operations](#operations)\n",
    "- [Practical uses](#uses)\n",
    "- [Resources](#resources)"
   ]
  },
  {
   "cell_type": "markdown",
   "metadata": {},
   "source": [
    "## General notes <a id='notes'></a>\n",
    "- queues are commonly implemented using circular buffers and linked lists."
   ]
  },
  {
   "cell_type": "markdown",
   "metadata": {},
   "source": [
    "## Main operations <a id='operations'></a>\n",
    "- enqueue: add an element to the queue\n",
    "- dequeue: remove an element from the queue\n",
    "- peek: show the element at the front of the queue \n",
    "- is_empty: return True or False"
   ]
  },
  {
   "cell_type": "markdown",
   "metadata": {},
   "source": [
    "## Practical uses <a id='uses'></a>\n",
    "- queues are used in computer science, transport, and operations research where various entities such as data, objects, persons, or events are stored and held to be processed later. In these contexts, the queue performs the function of a buffer.\n",
    "- queues are often used to implement a cache.\n",
    "- another usage of queues is in the implementation of breadth-first search."
   ]
  },
  {
   "cell_type": "markdown",
   "metadata": {},
   "source": [
    "## Resources <a id='resources'></a>\n",
    "- [Wikipedia's article on queues](https://en.wikipedia.org/wiki/Queue_(abstract_data_type)"
   ]
  },
  {
   "cell_type": "code",
   "execution_count": null,
   "metadata": {},
   "outputs": [],
   "source": []
  }
 ],
 "metadata": {
  "kernelspec": {
   "display_name": "Python 3",
   "language": "python",
   "name": "python3"
  },
  "language_info": {
   "codemirror_mode": {
    "name": "ipython",
    "version": 3
   },
   "file_extension": ".py",
   "mimetype": "text/x-python",
   "name": "python",
   "nbconvert_exporter": "python",
   "pygments_lexer": "ipython3",
   "version": "3.7.7"
  }
 },
 "nbformat": 4,
 "nbformat_minor": 4
}
